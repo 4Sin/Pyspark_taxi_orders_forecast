{
 "cells": [
  {
   "cell_type": "code",
   "execution_count": 1,
   "id": "4cd6348e-a6ec-4721-99ef-9d3b926ecc44",
   "metadata": {
    "scrolled": true
   },
   "outputs": [
    {
     "name": "stdout",
     "output_type": "stream",
     "text": [
      "Requirement already satisfied: prophet in /opt/conda/lib/python3.11/site-packages (1.1.4)\n",
      "Requirement already satisfied: cmdstanpy>=1.0.4 in /opt/conda/lib/python3.11/site-packages (from prophet) (1.1.0)\n",
      "Requirement already satisfied: numpy>=1.15.4 in /opt/conda/lib/python3.11/site-packages (from prophet) (1.24.4)\n",
      "Requirement already satisfied: matplotlib>=2.0.0 in /opt/conda/lib/python3.11/site-packages (from prophet) (3.7.2)\n",
      "Requirement already satisfied: pandas>=1.0.4 in /opt/conda/lib/python3.11/site-packages (from prophet) (1.5.3)\n",
      "Requirement already satisfied: LunarCalendar>=0.0.9 in /opt/conda/lib/python3.11/site-packages (from prophet) (0.0.9)\n",
      "Requirement already satisfied: convertdate>=2.1.2 in /opt/conda/lib/python3.11/site-packages (from prophet) (2.4.0)\n",
      "Requirement already satisfied: holidays>=0.25 in /opt/conda/lib/python3.11/site-packages (from prophet) (0.33)\n",
      "Requirement already satisfied: python-dateutil>=2.8.0 in /opt/conda/lib/python3.11/site-packages (from prophet) (2.8.2)\n",
      "Requirement already satisfied: tqdm>=4.36.1 in /opt/conda/lib/python3.11/site-packages (from prophet) (4.66.1)\n",
      "Requirement already satisfied: importlib-resources in /opt/conda/lib/python3.11/site-packages (from prophet) (6.0.1)\n",
      "Requirement already satisfied: pymeeus<=1,>=0.3.13 in /opt/conda/lib/python3.11/site-packages (from convertdate>=2.1.2->prophet) (0.5.12)\n",
      "Requirement already satisfied: ephem>=3.7.5.3 in /opt/conda/lib/python3.11/site-packages (from LunarCalendar>=0.0.9->prophet) (4.1.4)\n",
      "Requirement already satisfied: pytz in /opt/conda/lib/python3.11/site-packages (from LunarCalendar>=0.0.9->prophet) (2023.3)\n",
      "Requirement already satisfied: contourpy>=1.0.1 in /opt/conda/lib/python3.11/site-packages (from matplotlib>=2.0.0->prophet) (1.1.0)\n",
      "Requirement already satisfied: cycler>=0.10 in /opt/conda/lib/python3.11/site-packages (from matplotlib>=2.0.0->prophet) (0.11.0)\n",
      "Requirement already satisfied: fonttools>=4.22.0 in /opt/conda/lib/python3.11/site-packages (from matplotlib>=2.0.0->prophet) (4.42.1)\n",
      "Requirement already satisfied: kiwisolver>=1.0.1 in /opt/conda/lib/python3.11/site-packages (from matplotlib>=2.0.0->prophet) (1.4.5)\n",
      "Requirement already satisfied: packaging>=20.0 in /opt/conda/lib/python3.11/site-packages (from matplotlib>=2.0.0->prophet) (23.1)\n",
      "Requirement already satisfied: pillow>=6.2.0 in /opt/conda/lib/python3.11/site-packages (from matplotlib>=2.0.0->prophet) (10.0.0)\n",
      "Requirement already satisfied: pyparsing<3.1,>=2.3.1 in /opt/conda/lib/python3.11/site-packages (from matplotlib>=2.0.0->prophet) (3.0.9)\n",
      "Requirement already satisfied: six>=1.5 in /opt/conda/lib/python3.11/site-packages (from python-dateutil>=2.8.0->prophet) (1.16.0)\n",
      "Note: you may need to restart the kernel to use updated packages.\n"
     ]
    }
   ],
   "source": [
    "pip install prophet"
   ]
  },
  {
   "cell_type": "code",
   "execution_count": 2,
   "id": "873ad2a6-288b-43a3-8f3a-ca0d75ccc3e4",
   "metadata": {},
   "outputs": [],
   "source": [
    "import pandas as pd\n",
    "import numpy as np\n",
    "import seaborn as sns\n",
    "import matplotlib.pyplot as plt\n",
    "import pyspark.sql.functions as F\n",
    "from prophet import Prophet\n",
    "\n",
    "from pyspark import SparkContext, SparkConf\n",
    "from pyspark.sql import SparkSession\n",
    "from pyspark.sql.types import *\n",
    "from pyspark.sql.functions import *\n",
    "from pyspark.sql.window import Window\n",
    "\n",
    "from pyspark.ml import Pipeline\n",
    "from pyspark.ml.feature import VectorAssembler, StandardScaler\n",
    "from pyspark.ml.evaluation import RegressionEvaluator\n",
    "from pyspark.ml.regression import LinearRegression, RandomForestRegressor"
   ]
  },
  {
   "cell_type": "code",
   "execution_count": 3,
   "id": "bfdfaffb-31c1-49ca-8c5d-f318bac7cb69",
   "metadata": {},
   "outputs": [],
   "source": [
    "SPARK_MASTER_IP = '172.18.0.2' \n",
    "spark = SparkSession.builder.appName(\"pyspark-taxi-forecasting_stage2\") \\\n",
    "    .master(f\"spark://{SPARK_MASTER_IP}:7077\") \\\n",
    "    .config('spark.local.dir', 'spark_tmp/') \\\n",
    "    .config(\"spark.executor.cores\", 2) \\\n",
    "    .config(\"spark.task.cpus\", 2) \\\n",
    "    .getOrCreate()"
   ]
  },
  {
   "cell_type": "code",
   "execution_count": 4,
   "id": "66c8a54c-a495-4ce8-8320-01eb360525aa",
   "metadata": {
    "scrolled": true
   },
   "outputs": [
    {
     "data": {
      "text/html": [
       "\n",
       "            <div>\n",
       "                <p><b>SparkSession - in-memory</b></p>\n",
       "                \n",
       "        <div>\n",
       "            <p><b>SparkContext</b></p>\n",
       "\n",
       "            <p><a href=\"http://1713daa73002:4040\">Spark UI</a></p>\n",
       "\n",
       "            <dl>\n",
       "              <dt>Version</dt>\n",
       "                <dd><code>v3.4.1</code></dd>\n",
       "              <dt>Master</dt>\n",
       "                <dd><code>spark://172.18.0.2:7077</code></dd>\n",
       "              <dt>AppName</dt>\n",
       "                <dd><code>pyspark-taxi-forecasting_stage2</code></dd>\n",
       "            </dl>\n",
       "        </div>\n",
       "        \n",
       "            </div>\n",
       "        "
      ],
      "text/plain": [
       "<pyspark.sql.session.SparkSession at 0x7fc65baaf050>"
      ]
     },
     "execution_count": 4,
     "metadata": {},
     "output_type": "execute_result"
    }
   ],
   "source": [
    "spark"
   ]
  },
  {
   "cell_type": "markdown",
   "id": "c0b78769-77e3-4776-91cb-be53a1a94672",
   "metadata": {},
   "source": [
    "# Загрузим данные, создадим временные признаки"
   ]
  },
  {
   "cell_type": "code",
   "execution_count": 5,
   "id": "cd668f5c-2448-4627-b4b7-f4c875b9281a",
   "metadata": {
    "scrolled": true
   },
   "outputs": [],
   "source": [
    "all_hours = spark.read.csv(\"all_hours.csv\", header = True, inferSchema = True)"
   ]
  },
  {
   "cell_type": "code",
   "execution_count": 6,
   "id": "22321aef-ff75-427a-9001-3a3ed1221dd5",
   "metadata": {
    "scrolled": true
   },
   "outputs": [
    {
     "name": "stdout",
     "output_type": "stream",
     "text": [
      "+---+---------------------+-------------------+---------------+-----------+-----------+------------+--------------+---------------+\n",
      "|_c0|pickup_community_area|hour_cons          |taxi_countdist3|trips_count|cost_median|miles_median|seconds_median|taxi_countdist8|\n",
      "+---+---------------------+-------------------+---------------+-----------+-----------+------------+--------------+---------------+\n",
      "|0  |0                    |2022-01-01 05:00:00|6              |7          |39.1       |3.24        |526.0         |6              |\n",
      "|1  |0                    |2022-01-10 11:00:00|43             |46         |40.625     |11.375      |1349.0        |43             |\n",
      "|2  |0                    |2022-01-16 14:00:00|29             |31         |47.4       |14.41       |1650.0        |29             |\n",
      "|3  |0                    |2022-01-19 06:00:00|13             |14         |39.125     |9.515       |1620.5        |13             |\n",
      "|4  |0                    |2022-02-16 06:00:00|15             |16         |54.0       |16.595      |1920.5        |15             |\n",
      "+---+---------------------+-------------------+---------------+-----------+-----------+------------+--------------+---------------+\n",
      "only showing top 5 rows\n",
      "\n",
      "root\n",
      " |-- _c0: integer (nullable = true)\n",
      " |-- pickup_community_area: integer (nullable = true)\n",
      " |-- hour_cons: timestamp (nullable = true)\n",
      " |-- taxi_countdist3: integer (nullable = true)\n",
      " |-- trips_count: integer (nullable = true)\n",
      " |-- cost_median: double (nullable = true)\n",
      " |-- miles_median: double (nullable = true)\n",
      " |-- seconds_median: double (nullable = true)\n",
      " |-- taxi_countdist8: integer (nullable = true)\n",
      "\n"
     ]
    },
    {
     "data": {
      "text/plain": [
       "1080144"
      ]
     },
     "execution_count": 6,
     "metadata": {},
     "output_type": "execute_result"
    }
   ],
   "source": [
    "all_hours.show(5, False)\n",
    "all_hours.printSchema()\n",
    "all_hours.count()"
   ]
  },
  {
   "cell_type": "code",
   "execution_count": 7,
   "id": "87b794cc-1f40-4de5-a01e-848474986187",
   "metadata": {
    "scrolled": true
   },
   "outputs": [
    {
     "name": "stdout",
     "output_type": "stream",
     "text": [
      "+---+---------------------+---------+---------------+-----------+-----------+------------+--------------+---------------+----------------+-----------------+-------------------+-------------------+-------------------+-------------------+--------------------+--------------------+-----------------------+------------------------+-------------------------+\n",
      "|_c0|pickup_community_area|hour_cons|taxi_countdist3|trips_count|cost_median|miles_median|seconds_median|taxi_countdist8|med_cost_lagged1|med_miles_lagged1|med_seconds_lagged1|trips_count_lagged1|trips_count_lagged2|trips_count_lagged3|trips_count_lagged12|trips_count_lagged24|trips_count_lagged_week|rolling_average_on3hours|rolling_average_on24hours|\n",
      "+---+---------------------+---------+---------------+-----------+-----------+------------+--------------+---------------+----------------+-----------------+-------------------+-------------------+-------------------+-------------------+--------------------+--------------------+-----------------------+------------------------+-------------------------+\n",
      "+---+---------------------+---------+---------------+-----------+-----------+------------+--------------+---------------+----------------+-----------------+-------------------+-------------------+-------------------+-------------------+--------------------+--------------------+-----------------------+------------------------+-------------------------+\n",
      "\n"
     ]
    }
   ],
   "source": [
    "column_list = [\"pickup_community_area\"]\n",
    "  \n",
    "\n",
    "Windowspec = Window.partitionBy([\"pickup_community_area\"]).orderBy(all_hours.hour_cons.desc())\n",
    "  \n",
    "all_hours_lagged = all_hours.filter(all_hours.hour_cons < '2023-07-31 23:00:00').withColumn(\n",
    "    'med_cost_lagged1', lag(all_hours['cost_median'], -1).over(Windowspec)).withColumn(\n",
    "    'med_miles_lagged1', lag(all_hours['miles_median'], -1).over(Windowspec)).withColumn(\n",
    "    'med_seconds_lagged1', lag(all_hours['seconds_median'], -1).over(Windowspec)).withColumn(\n",
    "    'trips_count_lagged1', lag(all_hours['trips_count'], -1).over(Windowspec)).withColumn(\n",
    "    'trips_count_lagged2', lag(all_hours['trips_count'], -2).over(Windowspec)).withColumn(\n",
    "    'trips_count_lagged3', lag(all_hours['trips_count'], -3).over(Windowspec)).withColumn(\n",
    "    'trips_count_lagged12', lag(all_hours['trips_count'], -12).over(Windowspec)).withColumn(\n",
    "    'trips_count_lagged24', lag(all_hours['trips_count'], -24).over(Windowspec)).withColumn(\n",
    "    'trips_count_lagged_week', lag(all_hours['trips_count'], -24*7).over(Windowspec))\n",
    "\n",
    "all_hours_lagged = all_hours_lagged.withColumn(\n",
    "    'rolling_average_on3hours', avg(all_hours_lagged['trips_count_lagged1'],).over(Windowspec.rowsBetween(-3, -0))) \\\n",
    "    .withColumn('rolling_average_on24hours', avg(all_hours_lagged['trips_count_lagged1'],).over(Windowspec.rowsBetween(-24, -0)))\n",
    "\n",
    "all_hours_lagged.filter('rolling_average_on3hours is NULL').show()"
   ]
  },
  {
   "cell_type": "code",
   "execution_count": 8,
   "id": "b61a5365-3c37-4684-b249-bf24c03b7d3c",
   "metadata": {},
   "outputs": [],
   "source": [
    "all_hours_lagged = all_hours_lagged.na.drop('any').cache()"
   ]
  },
  {
   "cell_type": "code",
   "execution_count": 9,
   "id": "43daf787-d077-4dc1-9d63-3d0564f953e5",
   "metadata": {},
   "outputs": [
    {
     "data": {
      "text/plain": [
       "1066962"
      ]
     },
     "execution_count": 9,
     "metadata": {},
     "output_type": "execute_result"
    }
   ],
   "source": [
    "all_hours_lagged.count()"
   ]
  },
  {
   "cell_type": "markdown",
   "id": "593469ad-493f-4ad6-b726-ac7975c269af",
   "metadata": {},
   "source": [
    "## Выделим валидационную выборку"
   ]
  },
  {
   "cell_type": "code",
   "execution_count": 10,
   "id": "d8b1a11a-044b-4893-8125-6501a16dd141",
   "metadata": {
    "scrolled": true
   },
   "outputs": [
    {
     "name": "stdout",
     "output_type": "stream",
     "text": [
      "+-------+---------------------+-------------------+---------------+-----------+-----------+------------+--------------+---------------+----------------+-----------------+-------------------+-------------------+-------------------+-------------------+--------------------+--------------------+-----------------------+------------------------+-------------------------+\n",
      "|    _c0|pickup_community_area|          hour_cons|taxi_countdist3|trips_count|cost_median|miles_median|seconds_median|taxi_countdist8|med_cost_lagged1|med_miles_lagged1|med_seconds_lagged1|trips_count_lagged1|trips_count_lagged2|trips_count_lagged3|trips_count_lagged12|trips_count_lagged24|trips_count_lagged_week|rolling_average_on3hours|rolling_average_on24hours|\n",
      "+-------+---------------------+-------------------+---------------+-----------+-----------+------------+--------------+---------------+----------------+-----------------+-------------------+-------------------+-------------------+-------------------+--------------------+--------------------+-----------------------+------------------------+-------------------------+\n",
      "| 752125|                   31|2023-05-31 23:00:00|              2|          2|       3.75|        0.24|          67.0|              2|             0.0|              0.0|                0.0|                  0|                  1|                  0|                   1|                   1|                      1|                     0.5|                     1.04|\n",
      "|   7513|                   31|2023-05-31 22:00:00|              0|          0|        0.0|         0.0|           0.0|              0|           16.75|              5.6|              840.0|                  1|                  0|                  0|                   0|                   1|                      0|                    0.75|                      1.0|\n",
      "| 115330|                   31|2023-05-31 21:00:00|              1|          1|      16.75|         5.6|         840.0|              1|             0.0|              0.0|                0.0|                  0|                  0|                  1|                   2|                   1|                      0|                    0.75|                     0.96|\n",
      "| 191172|                   31|2023-05-31 20:00:00|              0|          0|        0.0|         0.0|           0.0|              0|             0.0|              0.0|                0.0|                  0|                  1|                  0|                   2|                   0|                      0|                    0.25|                     0.96|\n",
      "|1017425|                   31|2023-05-31 19:00:00|              0|          0|        0.0|         0.0|           0.0|              0|            30.5|            10.33|             2454.0|                  1|                  0|                  0|                   0|                   0|                      0|                     0.5|                     0.96|\n",
      "+-------+---------------------+-------------------+---------------+-----------+-----------+------------+--------------+---------------+----------------+-----------------+-------------------+-------------------+-------------------+-------------------+--------------------+--------------------+-----------------------+------------------------+-------------------------+\n",
      "only showing top 5 rows\n",
      "\n"
     ]
    },
    {
     "data": {
      "text/plain": [
       "952848"
      ]
     },
     "execution_count": 10,
     "metadata": {},
     "output_type": "execute_result"
    }
   ],
   "source": [
    "train_df = all_hours_lagged.filter((all_hours_lagged.hour_cons < '2023-06-01 00:00:00')) \n",
    "train_df.show(5)\n",
    "train_df.count()"
   ]
  },
  {
   "cell_type": "code",
   "execution_count": 11,
   "id": "2ae5c482-e9ca-4cc5-aa7d-6796e011ef9b",
   "metadata": {},
   "outputs": [],
   "source": [
    "valid_df = all_hours_lagged.filter(all_hours_lagged.hour_cons >= '2023-06-01 00:00:00')"
   ]
  },
  {
   "cell_type": "markdown",
   "id": "c25b21a0-5bc1-4049-a269-dbf52121fd17",
   "metadata": {},
   "source": [
    "# Рассмортим разные модели машинного обучения"
   ]
  },
  {
   "cell_type": "markdown",
   "id": "f00de79d-fa55-4f6a-8c35-46f9d004d245",
   "metadata": {},
   "source": [
    "## Проведем предсказания с помощью модели Prophet через Pandas_udf"
   ]
  },
  {
   "cell_type": "code",
   "execution_count": 12,
   "id": "0a47c0a6-960e-4728-ba88-44cb6ad3f8c3",
   "metadata": {
    "scrolled": true
   },
   "outputs": [
    {
     "name": "stdout",
     "output_type": "stream",
     "text": [
      "== Physical Plan ==\n",
      "InMemoryTableScan [pickup_community_area#18, ds#2024, y#2025]\n",
      "   +- InMemoryRelation [pickup_community_area#18, ds#2024, y#2025], StorageLevel(disk, memory, deserialized, 1 replicas)\n",
      "         +- Exchange hashpartitioning(pickup_community_area#18, 6), REPARTITION_BY_NUM, [plan_id=385]\n",
      "            +- *(1) Project [pickup_community_area#18, hour_cons#19 AS ds#2024, trips_count#21 AS y#2025]\n",
      "               +- *(1) Filter (isnotnull(hour_cons#19) AND (hour_cons#19 < 2023-06-01 00:00:00))\n",
      "                  +- InMemoryTableScan [hour_cons#19, pickup_community_area#18, trips_count#21], [isnotnull(hour_cons#19), (hour_cons#19 < 2023-06-01 00:00:00)]\n",
      "                        +- InMemoryRelation [_c0#17, pickup_community_area#18, hour_cons#19, taxi_countdist3#20, trips_count#21, cost_median#22, miles_median#23, seconds_median#24, taxi_countdist8#25, med_cost_lagged1#96, med_miles_lagged1#107, med_seconds_lagged1#119, trips_count_lagged1#132, trips_count_lagged2#146, trips_count_lagged3#161, trips_count_lagged12#177, trips_count_lagged24#194, trips_count_lagged_week#212, rolling_average_on3hours#232, rolling_average_on24hours#253], StorageLevel(disk, memory, deserialized, 1 replicas)\n",
      "                              +- *(3) Filter atleastnnonnulls(20, _c0#17, pickup_community_area#18, hour_cons#19, taxi_countdist3#20, trips_count#21, cost_median#22, miles_median#23, seconds_median#24, taxi_countdist8#25, med_cost_lagged1#96, med_miles_lagged1#107, med_seconds_lagged1#119, trips_count_lagged1#132, trips_count_lagged2#146, trips_count_lagged3#161, trips_count_lagged12#177, trips_count_lagged24#194, trips_count_lagged_week#212, rolling_average_on3hours#232, rolling_average_on24hours#253)\n",
      "                                 +- Window [lag(trips_count#21, 168, null) windowspecdefinition(pickup_community_area#18, hour_cons#19 DESC NULLS LAST, specifiedwindowframe(RowFrame, 168, 168)) AS trips_count_lagged_week#212, avg(trips_count_lagged1#132) windowspecdefinition(pickup_community_area#18, hour_cons#19 DESC NULLS LAST, specifiedwindowframe(RowFrame, -3, currentrow$())) AS rolling_average_on3hours#232, avg(trips_count_lagged1#132) windowspecdefinition(pickup_community_area#18, hour_cons#19 DESC NULLS LAST, specifiedwindowframe(RowFrame, -24, currentrow$())) AS rolling_average_on24hours#253], [pickup_community_area#18], [hour_cons#19 DESC NULLS LAST]\n",
      "                                    +- Window [lag(cost_median#22, 1, null) windowspecdefinition(pickup_community_area#18, hour_cons#19 DESC NULLS LAST, specifiedwindowframe(RowFrame, 1, 1)) AS med_cost_lagged1#96, lag(miles_median#23, 1, null) windowspecdefinition(pickup_community_area#18, hour_cons#19 DESC NULLS LAST, specifiedwindowframe(RowFrame, 1, 1)) AS med_miles_lagged1#107, lag(seconds_median#24, 1, null) windowspecdefinition(pickup_community_area#18, hour_cons#19 DESC NULLS LAST, specifiedwindowframe(RowFrame, 1, 1)) AS med_seconds_lagged1#119, lag(trips_count#21, 1, null) windowspecdefinition(pickup_community_area#18, hour_cons#19 DESC NULLS LAST, specifiedwindowframe(RowFrame, 1, 1)) AS trips_count_lagged1#132, lag(trips_count#21, 2, null) windowspecdefinition(pickup_community_area#18, hour_cons#19 DESC NULLS LAST, specifiedwindowframe(RowFrame, 2, 2)) AS trips_count_lagged2#146, lag(trips_count#21, 3, null) windowspecdefinition(pickup_community_area#18, hour_cons#19 DESC NULLS LAST, specifiedwindowframe(RowFrame, 3, 3)) AS trips_count_lagged3#161, lag(trips_count#21, 12, null) windowspecdefinition(pickup_community_area#18, hour_cons#19 DESC NULLS LAST, specifiedwindowframe(RowFrame, 12, 12)) AS trips_count_lagged12#177, lag(trips_count#21, 24, null) windowspecdefinition(pickup_community_area#18, hour_cons#19 DESC NULLS LAST, specifiedwindowframe(RowFrame, 24, 24)) AS trips_count_lagged24#194], [pickup_community_area#18], [hour_cons#19 DESC NULLS LAST]\n",
      "                                       +- *(2) Sort [pickup_community_area#18 ASC NULLS FIRST, hour_cons#19 DESC NULLS LAST], false, 0\n",
      "                                          +- Exchange hashpartitioning(pickup_community_area#18, 200), ENSURE_REQUIREMENTS, [plan_id=368]\n",
      "                                             +- *(1) Filter (isnotnull(hour_cons#19) AND (hour_cons#19 < 2023-07-31 23:00:00))\n",
      "                                                +- FileScan csv [_c0#17,pickup_community_area#18,hour_cons#19,taxi_countdist3#20,trips_count#21,cost_median#22,miles_median#23,seconds_median#24,taxi_countdist8#25] Batched: false, DataFilters: [isnotnull(hour_cons#19), (hour_cons#19 < 2023-07-31 23:00:00)], Format: CSV, Location: InMemoryFileIndex(1 paths)[file:/work/all_hours.csv], PartitionFilters: [], PushedFilters: [IsNotNull(hour_cons), LessThan(hour_cons,2023-07-31 23:00:00.0)], ReadSchema: struct<_c0:int,pickup_community_area:int,hour_cons:timestamp,taxi_countdist3:int,trips_count:int,...\n",
      "\n",
      "\n"
     ]
    }
   ],
   "source": [
    "train_proph = train_df.selectExpr( 'pickup_community_area',\n",
    "    'hour_cons as ds', 'trips_count as y')\n",
    "# Partition the data dfsp_partitionned\n",
    "train_proph.createOrReplaceTempView(\"pickup_community_area\")\n",
    "sql = \"select * from pickup_community_area\"\n",
    "train_proph = (spark.sql(sql)\\\n",
    "   .repartition(spark.sparkContext.defaultParallelism, \n",
    "   ['pickup_community_area'])).cache()\n",
    "train_proph.explain()"
   ]
  },
  {
   "cell_type": "code",
   "execution_count": 13,
   "id": "ebbe1d5e-381e-483e-b135-c44507035f65",
   "metadata": {
    "scrolled": true
   },
   "outputs": [
    {
     "name": "stdout",
     "output_type": "stream",
     "text": [
      "+---------------------+-------------------+----+\n",
      "|pickup_community_area|                 ds|   y|\n",
      "+---------------------+-------------------+----+\n",
      "|                    0|2023-06-01 00:00:00|22.0|\n",
      "|                    1|2023-06-01 00:00:00| 0.0|\n",
      "|                    2|2023-06-01 00:00:00| 0.0|\n",
      "|                    3|2023-06-01 00:00:00| 5.0|\n",
      "|                    4|2023-06-01 00:00:00| 1.0|\n",
      "+---------------------+-------------------+----+\n",
      "only showing top 5 rows\n",
      "\n"
     ]
    },
    {
     "data": {
      "text/plain": [
       "114114"
      ]
     },
     "execution_count": 13,
     "metadata": {},
     "output_type": "execute_result"
    }
   ],
   "source": [
    "valid_proph = all_hours_lagged.filter(all_hours_lagged.hour_cons >= '2023-06-01 00:00:00')\n",
    "valid_proph = valid_proph.selectExpr( 'pickup_community_area',\n",
    "    'hour_cons as ds', 'trips_count as y')\n",
    "valid_proph = valid_proph.withColumn(\"y\",col(\"y\").cast(DoubleType()))\n",
    "valid_proph.sort('ds', 'pickup_community_area').show(5)\n",
    "\n",
    "valid_proph.count()"
   ]
  },
  {
   "cell_type": "code",
   "execution_count": 14,
   "id": "faab525c-1701-45df-97b3-36294880e6df",
   "metadata": {},
   "outputs": [],
   "source": [
    "# Define a schema\n",
    "schema = StructType([ \\\n",
    "                     StructField('pickup_community_area', IntegerType()), \n",
    "                     StructField('ds', TimestampType()),\n",
    "                     StructField('y', FloatType()),\n",
    "                     StructField('yhat', DoubleType()),\n",
    "                     StructField('daily', DoubleType()),\n",
    "                     StructField('weekly', DoubleType())\n",
    "                    ])"
   ]
  },
  {
   "cell_type": "code",
   "execution_count": 15,
   "id": "c30f8707-e7bf-40ec-ac29-2547d9c9521b",
   "metadata": {
    "scrolled": true
   },
   "outputs": [
    {
     "name": "stderr",
     "output_type": "stream",
     "text": [
      "/usr/local/spark/python/pyspark/sql/pandas/group_ops.py:103: UserWarning: It is preferred to use 'applyInPandas' over this API. This API will be deprecated in the future releases. See SPARK-28264 for more details.\n",
      "  warnings.warn(\n"
     ]
    },
    {
     "name": "stdout",
     "output_type": "stream",
     "text": [
      "+---------------------+-------------------+----+-------------------+--------------------+--------------------+\n",
      "|pickup_community_area|                 ds|   y|               yhat|               daily|              weekly|\n",
      "+---------------------+-------------------+----+-------------------+--------------------+--------------------+\n",
      "|                    2|2022-01-08 00:00:00| 2.0| 1.8385607045261043| -1.5888611750253627|-0.08040349901784355|\n",
      "|                    2|2022-01-08 01:00:00| 2.0| 2.4067981636683955| -1.0670945633086735|-0.04442358518432663|\n",
      "|                    2|2022-01-08 02:00:00| 0.0| 2.8665364039663244| -0.6522147770712824|-0.01005577246055...|\n",
      "|                    2|2022-01-08 03:00:00| 0.0|  3.000428355931298| -0.5610094280911881|0.022140806809180104|\n",
      "|                    2|2022-01-08 04:00:00| 2.0| 3.0714225987220933|  -0.529999553779111|0.051636094866233904|\n",
      "|                    2|2022-01-08 05:00:00| 2.0| 3.3589709146202287|-0.27923991313226026|  0.0779369589563707|\n",
      "|                    2|2022-01-08 06:00:00| 1.0|  3.834858660177635| 0.16350400000605306| 0.10059457571763024|\n",
      "|                    2|2022-01-08 07:00:00| 0.0|  4.295826230702472|  0.5953706033472135| 0.11921124926018621|\n",
      "|                    2|2022-01-08 08:00:00| 4.0| 4.6981656243526775|  0.9729926313454329|  0.1334465700578904|\n",
      "|                    2|2022-01-08 09:00:00| 8.0|  5.210020413997826|  1.4647916921005295|  0.1430228298912425|\n",
      "|                    2|2022-01-08 10:00:00| 3.0|  5.859015752770883|   2.098603677098289| 0.14772961764946274|\n",
      "|                    2|2022-01-08 11:00:00|12.0|  6.195644861154616|  2.4250615362936845| 0.14742753132212427|\n",
      "|                    2|2022-01-08 12:00:00|10.0|  5.486210898551727|  1.7105343749905133| 0.14205095267340373|\n",
      "|                    2|2022-01-08 13:00:00| 7.0|  3.426229013733866|-0.34947229171867805|  0.1316098432444613|\n",
      "|                    2|2022-01-08 14:00:00| 3.0| 0.7351070468878607|   -3.03563662540188| 0.11619053282978736|\n",
      "|                    2|2022-01-08 15:00:00| 7.0|-1.0576947128797523|  -4.818660471890412| 0.09595548457653308|\n",
      "|                    2|2022-01-08 16:00:00| 2.0|-0.6494843834500998|  -4.396088956293005| 0.07114203407821279|\n",
      "|                    2|2022-01-08 17:00:00| 9.0| 1.9672563851012956| -1.7607133319313877|0.042060113091134735|\n",
      "|                    2|2022-01-08 18:00:00| 2.0|  5.343412722966724|  1.6379725999904666|0.009088981649074393|\n",
      "|                    2|2022-01-08 19:00:00| 6.0|  7.540369786917955|  3.8609099593931986|-0.02732699463684788|\n",
      "+---------------------+-------------------+----+-------------------+--------------------+--------------------+\n",
      "only showing top 20 rows\n",
      "\n"
     ]
    }
   ],
   "source": [
    "# define the Pandas UDF\n",
    "@pandas_udf(schema, PandasUDFType.GROUPED_MAP)\n",
    "def apply_model(store_pd):  # instantiate the model and set parameters\n",
    "  model = Prophet(\n",
    "      interval_width=0.95,\n",
    "      growth='linear',\n",
    "      n_changepoints = 150,\n",
    "      daily_seasonality=True,\n",
    "      weekly_seasonality=True,\n",
    "      yearly_seasonality=True,\n",
    "      seasonality_mode='additive'\n",
    "  )  # fit the model to historical data\n",
    "  model.fit(store_pd)  # Create a data frame that lists 90 dates starting from Jan 1 2018\n",
    "  future = model.make_future_dataframe(\n",
    "      periods=1465, #valid_proph.filter(valid_proph.pickup_community_area==community_num).count(),\n",
    "      freq='h',\n",
    "      include_history=True\n",
    "   )  # Out of sample prediction\n",
    "  prediction = model.predict(future)  # Create a data frame that contains store, item, y, and yhat\n",
    "  f_pd = prediction[['ds', 'yhat', 'daily', 'weekly']]\n",
    "  st_pd = store_pd[['ds', 'pickup_community_area', 'y']]\n",
    "  result_pd = f_pd.join(st_pd.set_index('ds'), on='ds', how='left')  # fill store and item\n",
    "  result_pd['pickup_community_area'] = store_pd['pickup_community_area'].iloc[0]\n",
    "  return result_pd[['pickup_community_area', 'ds', 'y', 'yhat',\n",
    "                    'daily', 'weekly']]# Apply the function to all store-items\n",
    "# Print the results - calculate the time to run\n",
    "results = train_proph.groupby(['pickup_community_area']).apply(apply_model).cache()\n",
    "\n",
    "results.show()"
   ]
  },
  {
   "cell_type": "code",
   "execution_count": 16,
   "id": "0e71b651-73f1-4d0a-abf2-c683240f6fc9",
   "metadata": {},
   "outputs": [
    {
     "data": {
      "text/plain": [
       "1067118"
      ]
     },
     "execution_count": 16,
     "metadata": {},
     "output_type": "execute_result"
    }
   ],
   "source": [
    "results[['yhat']].count()"
   ]
  },
  {
   "cell_type": "markdown",
   "id": "b6c1c4e7-16a5-4d57-87d0-550605708606",
   "metadata": {},
   "source": [
    "## Оценим полученный прогноз"
   ]
  },
  {
   "cell_type": "code",
   "execution_count": 17,
   "id": "f4158f30-a2e1-4fbc-9bb8-6fcc89e0fe87",
   "metadata": {
    "scrolled": true
   },
   "outputs": [
    {
     "name": "stdout",
     "output_type": "stream",
     "text": [
      "+---------------------+-------------------+-------------------+--------+\n",
      "|pickup_community_area|                 ds|               yhat|yhat_int|\n",
      "+---------------------+-------------------+-------------------+--------+\n",
      "|                   76|2023-06-01 00:00:00|-15.311291612860053|     0.0|\n",
      "|                   76|2023-06-01 01:00:00| 19.506413591095033|    20.0|\n",
      "|                   76|2023-06-01 02:00:00|  71.10845290355063|    71.0|\n",
      "|                   76|2023-06-01 03:00:00|  95.46551987383731|    95.0|\n",
      "|                   76|2023-06-01 04:00:00| 100.86699334545446|   101.0|\n",
      "+---------------------+-------------------+-------------------+--------+\n",
      "only showing top 5 rows\n",
      "\n"
     ]
    },
    {
     "data": {
      "text/plain": [
       "114270"
      ]
     },
     "execution_count": 17,
     "metadata": {},
     "output_type": "execute_result"
    }
   ],
   "source": [
    "predictions = results.filter(results['ds'] >= '2023-06-01 00:00:00').select(\n",
    "    'pickup_community_area', 'ds', 'yhat')\n",
    "predictions = predictions.withColumn(\"yhat_int\",F.round(predictions[\"yhat\"],0))\n",
    "predictions = predictions.withColumn('yhat_int', F.when((F.col(\"yhat_int\") <= 0), 0)\\\n",
    "    .otherwise(predictions.yhat_int)).cache()\n",
    "    \n",
    "\n",
    "predictions.filter('pickup_community_area == 76').show(5)\n",
    "predictions.count()"
   ]
  },
  {
   "cell_type": "code",
   "execution_count": 18,
   "id": "2f889110-7ed1-4dde-b287-de49d82ba906",
   "metadata": {},
   "outputs": [],
   "source": [
    "valid_df_withyhat = valid_proph.join(predictions, on=['ds','pickup_community_area'] , how='inner')  # fill store and item"
   ]
  },
  {
   "cell_type": "code",
   "execution_count": 19,
   "id": "a7d77431-1dc7-451c-9036-8df3717651fc",
   "metadata": {},
   "outputs": [
    {
     "name": "stdout",
     "output_type": "stream",
     "text": [
      "+-------------------+---------------------+---+------------------+--------+\n",
      "|                 ds|pickup_community_area|  y|              yhat|yhat_int|\n",
      "+-------------------+---------------------+---+------------------+--------+\n",
      "|2023-07-31 22:00:00|                   31|0.0|0.7512249903666159|     1.0|\n",
      "|2023-07-31 21:00:00|                   31|0.0|0.9469810492014389|     1.0|\n",
      "|2023-07-31 20:00:00|                   31|0.0|1.4176049221359113|     1.0|\n",
      "|2023-07-31 19:00:00|                   31|0.0|1.8156671439467194|     2.0|\n",
      "|2023-07-31 18:00:00|                   31|1.0|1.8163198173088635|     2.0|\n",
      "+-------------------+---------------------+---+------------------+--------+\n",
      "only showing top 5 rows\n",
      "\n"
     ]
    },
    {
     "data": {
      "text/plain": [
       "114114"
      ]
     },
     "execution_count": 19,
     "metadata": {},
     "output_type": "execute_result"
    }
   ],
   "source": [
    "valid_df_withyhat.show(5)\n",
    "valid_df_withyhat.count()"
   ]
  },
  {
   "cell_type": "code",
   "execution_count": 20,
   "id": "5247cd72-a503-4d7a-b6b4-e3d5e6459a25",
   "metadata": {},
   "outputs": [
    {
     "name": "stdout",
     "output_type": "stream",
     "text": [
      "Prphet MAE: 8.231461520935206\n"
     ]
    }
   ],
   "source": [
    "evaluator = RegressionEvaluator(predictionCol=\"yhat_int\", labelCol='y', metricName='mae')\n",
    "print(\"Prphet MAE: {0}\".format(evaluator.evaluate(valid_df_withyhat)))"
   ]
  },
  {
   "cell_type": "code",
   "execution_count": 21,
   "id": "a9f12b1b-7795-49be-97f2-26beab838d5b",
   "metadata": {},
   "outputs": [
    {
     "name": "stdout",
     "output_type": "stream",
     "text": [
      "MAPE: [Row(avg((abs(((y - yhat_int) / y)) * 100))=93.46754521142931)]\n"
     ]
    }
   ],
   "source": [
    "print('MAPE:',\n",
    "    valid_df_withyhat.select(avg((100*abs((valid_df_withyhat.y - valid_df_withyhat.yhat_int) / valid_df_withyhat.y)))).collect())"
   ]
  },
  {
   "cell_type": "markdown",
   "id": "82688d41-47dc-4481-b449-9d56e51ced58",
   "metadata": {},
   "source": [
    "    мае - 7,9. Предсказания модели Prоphet показали низкое качество.\n",
    "    Мы будем обучать другие модели, из Prophet возьмем данные о сезонности."
   ]
  },
  {
   "cell_type": "code",
   "execution_count": 22,
   "id": "fba71940-5cfa-40a5-a3c6-ca466b7fb2fc",
   "metadata": {},
   "outputs": [
    {
     "data": {
      "text/plain": [
       "['pickup_community_area', 'ds', 'y', 'yhat', 'daily', 'weekly']"
      ]
     },
     "execution_count": 22,
     "metadata": {},
     "output_type": "execute_result"
    }
   ],
   "source": [
    "results.columns"
   ]
  },
  {
   "cell_type": "markdown",
   "id": "3a2c35b7-77da-4a6a-a78e-f5070b15c213",
   "metadata": {},
   "source": [
    "## Проведем обучение линейной регрессии"
   ]
  },
  {
   "cell_type": "markdown",
   "id": "58a22525-0304-4ed6-a9ae-2c924b75ea63",
   "metadata": {},
   "source": [
    "### Проведем стандартизацию и соберем все признаки в 1 вектор"
   ]
  },
  {
   "cell_type": "code",
   "execution_count": 23,
   "id": "14761bef-de50-4495-8281-48614537c58b",
   "metadata": {
    "scrolled": true
   },
   "outputs": [],
   "source": [
    "train_lr = all_hours_lagged.filter((all_hours_lagged.hour_cons < '2023-06-01 00:00:00')) \\\n",
    "    .selectExpr( 'pickup_community_area',\n",
    "    'med_cost_lagged1','med_miles_lagged1','med_seconds_lagged1',\n",
    "    'trips_count_lagged1', 'trips_count_lagged2', 'trips_count_lagged3', \n",
    "    'trips_count_lagged12', 'trips_count_lagged24','trips_count_lagged_week',\n",
    "    'rolling_average_on3hours',\n",
    "    'rolling_average_on24hours',\n",
    "    'hour_cons as ds', 'trips_count as y') \\\n",
    "        .join(results['pickup_community_area', 'ds', 'daily', 'weekly'], on=['ds','pickup_community_area'] , how='inner').cache()"
   ]
  },
  {
   "cell_type": "code",
   "execution_count": 24,
   "id": "1f3d4cda-f5b5-4d72-ba1f-6bbab0686407",
   "metadata": {
    "scrolled": true
   },
   "outputs": [
    {
     "name": "stdout",
     "output_type": "stream",
     "text": [
      "root\n",
      " |-- ds: timestamp (nullable = true)\n",
      " |-- pickup_community_area: integer (nullable = true)\n",
      " |-- med_cost_lagged1: double (nullable = true)\n",
      " |-- med_miles_lagged1: double (nullable = true)\n",
      " |-- med_seconds_lagged1: double (nullable = true)\n",
      " |-- trips_count_lagged1: integer (nullable = true)\n",
      " |-- trips_count_lagged2: integer (nullable = true)\n",
      " |-- trips_count_lagged3: integer (nullable = true)\n",
      " |-- trips_count_lagged12: integer (nullable = true)\n",
      " |-- trips_count_lagged24: integer (nullable = true)\n",
      " |-- trips_count_lagged_week: integer (nullable = true)\n",
      " |-- rolling_average_on3hours: double (nullable = true)\n",
      " |-- rolling_average_on24hours: double (nullable = true)\n",
      " |-- y: integer (nullable = true)\n",
      " |-- daily: double (nullable = true)\n",
      " |-- weekly: double (nullable = true)\n",
      "\n",
      "+-------------------+---------------------+----------------+-----------------+-------------------+-------------------+-------------------+-------------------+--------------------+--------------------+-----------------------+------------------------+-------------------------+---+--------------------+--------------------+\n",
      "|                 ds|pickup_community_area|med_cost_lagged1|med_miles_lagged1|med_seconds_lagged1|trips_count_lagged1|trips_count_lagged2|trips_count_lagged3|trips_count_lagged12|trips_count_lagged24|trips_count_lagged_week|rolling_average_on3hours|rolling_average_on24hours|  y|               daily|              weekly|\n",
      "+-------------------+---------------------+----------------+-----------------+-------------------+-------------------+-------------------+-------------------+--------------------+--------------------+-----------------------+------------------------+-------------------------+---+--------------------+--------------------+\n",
      "|2022-01-08 00:00:00|                   55|             0.0|              0.0|                0.0|                  0|                  0|                  1|                   0|                   0|                      0|                     0.0|                     0.28|  0|-0.21322187999988373|0.025756721684922563|\n",
      "|2022-01-08 05:00:00|                   37|             0.0|              0.0|                0.0|                  0|                  1|                  0|                   2|                   0|                      0|                    0.75|                     1.52|  0|-0.00396025098484...|  0.2169442053487997|\n",
      "|2022-01-08 06:00:00|                    1|           17.75|             5.92|              923.0|                  1|                  3|                  2|                   3|                   3|                      1|                    2.25|                     3.84|  4| 0.13214328999779285|-0.04148541930126837|\n",
      "|2022-01-08 08:00:00|                   42|             0.0|              0.0|                0.0|                  0|                  0|                  0|                   1|                   2|                      0|                    1.25|                      1.0|  2| 0.29494151570742244|-0.00257507577706...|\n",
      "|2022-01-08 08:00:00|                   56|             0.0|              0.0|                0.0|                  0|                  0|                  0|                  20|                   2|                      2|                    2.25|                     7.64|  4|   5.316702409963466|    7.33553907473708|\n",
      "+-------------------+---------------------+----------------+-----------------+-------------------+-------------------+-------------------+-------------------+--------------------+--------------------+-----------------------+------------------------+-------------------------+---+--------------------+--------------------+\n",
      "only showing top 5 rows\n",
      "\n"
     ]
    },
    {
     "data": {
      "text/plain": [
       "952848"
      ]
     },
     "execution_count": 24,
     "metadata": {},
     "output_type": "execute_result"
    }
   ],
   "source": [
    "train_lr.printSchema()\n",
    "train_lr.show(5)\n",
    "train_lr.count()"
   ]
  },
  {
   "cell_type": "code",
   "execution_count": 25,
   "id": "f83a7c6f-82ee-44fe-9c3a-7c9a312b1aad",
   "metadata": {},
   "outputs": [],
   "source": [
    "featureCols = [\n",
    "    'med_cost_lagged1','med_miles_lagged1','med_seconds_lagged1',\n",
    "    'trips_count_lagged1', 'trips_count_lagged2', 'trips_count_lagged3', \n",
    "    'trips_count_lagged12', 'trips_count_lagged24','trips_count_lagged_week',\n",
    "    'rolling_average_on3hours',\n",
    "    'rolling_average_on24hours',\n",
    "     'daily', 'weekly'\n",
    "]"
   ]
  },
  {
   "cell_type": "code",
   "execution_count": 26,
   "id": "d5a8152d-629a-49c4-a557-4b487063754d",
   "metadata": {
    "scrolled": true
   },
   "outputs": [],
   "source": [
    "# положить фичи в вектор\n",
    "assembler = VectorAssembler(inputCols=featureCols, outputCol=\"features\") \n",
    "assembled_df = assembler.transform(train_lr)"
   ]
  },
  {
   "cell_type": "code",
   "execution_count": 27,
   "id": "0e5e0420-9682-4a72-9ba5-e07a669ef777",
   "metadata": {
    "scrolled": true
   },
   "outputs": [
    {
     "name": "stdout",
     "output_type": "stream",
     "text": [
      "+-------------------+---------------------+------------------+------------------+-------------------+-------------------+-------------------+-------------------+--------------------+--------------------+-----------------------+------------------------+-------------------------+---+---------------------+---------------------+--------------------------------------------------------------------------------------------------------------+\n",
      "|ds                 |pickup_community_area|med_cost_lagged1  |med_miles_lagged1 |med_seconds_lagged1|trips_count_lagged1|trips_count_lagged2|trips_count_lagged3|trips_count_lagged12|trips_count_lagged24|trips_count_lagged_week|rolling_average_on3hours|rolling_average_on24hours|y  |daily                |weekly               |features                                                                                                      |\n",
      "+-------------------+---------------------+------------------+------------------+-------------------+-------------------+-------------------+-------------------+--------------------+--------------------+-----------------------+------------------------+-------------------------+---+---------------------+---------------------+--------------------------------------------------------------------------------------------------------------+\n",
      "|2022-01-08 00:00:00|55                   |0.0               |0.0               |0.0                |0                  |0                  |1                  |0                   |0                   |0                      |0.0                     |0.28                     |0  |-0.21322187999988373 |0.025756721684922563 |(13,[5,10,11,12],[1.0,0.28,-0.21322187999988373,0.025756721684922563])                                        |\n",
      "|2022-01-08 05:00:00|37                   |0.0               |0.0               |0.0                |0                  |1                  |0                  |2                   |0                   |0                      |0.75                    |1.52                     |0  |-0.003960250984840265|0.2169442053487997   |(13,[4,6,9,10,11,12],[1.0,2.0,0.75,1.52,-0.003960250984840265,0.2169442053487997])                            |\n",
      "|2022-01-08 06:00:00|1                    |17.75             |5.92              |923.0              |1                  |3                  |2                  |3                   |3                   |1                      |2.25                    |3.84                     |4  |0.13214328999779285  |-0.04148541930126837 |[17.75,5.92,923.0,1.0,3.0,2.0,3.0,3.0,1.0,2.25,3.84,0.13214328999779285,-0.04148541930126837]                 |\n",
      "|2022-01-08 08:00:00|42                   |0.0               |0.0               |0.0                |0                  |0                  |0                  |1                   |2                   |0                      |1.25                    |1.0                      |2  |0.29494151570742244  |-0.002575075777063833|(13,[6,7,9,10,11,12],[1.0,2.0,1.25,1.0,0.29494151570742244,-0.002575075777063833])                            |\n",
      "|2022-01-08 08:00:00|56                   |0.0               |0.0               |0.0                |0                  |0                  |0                  |20                  |2                   |2                      |2.25                    |7.64                     |4  |5.316702409963466    |7.33553907473708     |(13,[6,7,8,9,10,11,12],[20.0,2.0,2.0,2.25,7.64,5.316702409963466,7.33553907473708])                           |\n",
      "|2022-01-08 15:00:00|69                   |25.25             |9.5               |1140.0             |7                  |8                  |4                  |0                   |5                   |1                      |4.75                    |2.48                     |5  |-1.5866092820497923  |0.048664810900092476 |[25.25,9.5,1140.0,7.0,8.0,4.0,0.0,5.0,1.0,4.75,2.48,-1.5866092820497923,0.048664810900092476]                 |\n",
      "|2022-01-08 20:00:00|21                   |0.0               |0.0               |0.0                |0                  |1                  |1                  |1                   |0                   |1                      |0.0                     |1.0                      |0  |-0.022935030540483042|0.04756270036634809  |(13,[4,5,6,8,10,11,12],[1.0,1.0,1.0,1.0,1.0,-0.022935030540483042,0.04756270036634809])                       |\n",
      "|2022-01-08 23:00:00|62                   |0.0               |0.0               |0.0                |0                  |0                  |0                  |0                   |0                   |0                      |0.25                    |0.16                     |0  |0.10749511344634094  |-0.044623299070610786|(13,[9,10,11,12],[0.25,0.16,0.10749511344634094,-0.044623299070610786])                                       |\n",
      "|2022-01-09 01:00:00|28                   |13.655000000000001|0.57              |751.0              |22                 |33                 |22                 |54                  |15                  |10                     |14.25                   |17.68                    |19 |7.860612787825617    |2.1745648908627007   |[13.655000000000001,0.57,751.0,22.0,33.0,22.0,54.0,15.0,10.0,14.25,17.68,7.860612787825617,2.1745648908627007]|\n",
      "|2022-01-09 02:00:00|45                   |0.0               |0.0               |0.0                |0                  |0                  |0                  |2                   |0                   |0                      |0.25                    |0.2                      |0  |0.20662560323709922  |-0.00714537234593432 |(13,[6,9,10,11,12],[2.0,0.25,0.2,0.20662560323709922,-0.00714537234593432])                                   |\n",
      "|2022-01-09 03:00:00|15                   |8.25              |1.1               |720.0              |1                  |1                  |0                  |1                   |0                   |0                      |0.5                     |0.64                     |0  |0.09844984841099451  |-0.02468167670731577 |[8.25,1.1,720.0,1.0,1.0,0.0,1.0,0.0,0.0,0.5,0.64,0.09844984841099451,-0.02468167670731577]                    |\n",
      "|2022-01-09 03:00:00|61                   |0.0               |0.0               |0.0                |0                  |0                  |0                  |0                   |0                   |0                      |0.0                     |0.44                     |0  |-0.10448638617083604 |-0.1514691681145252  |(13,[10,11,12],[0.44,-0.10448638617083604,-0.1514691681145252])                                               |\n",
      "|2022-01-09 15:00:00|42                   |14.875            |4.745             |793.5              |2                  |6                  |5                  |0                   |2                   |1                      |2.5                     |1.8                      |2  |-1.4379126854404927  |-0.20309424665053158 |[14.875,4.745,793.5,2.0,6.0,5.0,0.0,2.0,1.0,2.5,1.8,-1.4379126854404927,-0.20309424665053158]                 |\n",
      "|2022-01-10 07:00:00|58                   |30.75             |11.72             |1217.0             |1                  |0                  |0                  |0                   |0                   |0                      |1.0                     |0.36                     |0  |-0.02807860799286556 |-0.1738026214841289  |[30.75,11.72,1217.0,1.0,0.0,0.0,0.0,0.0,0.0,1.0,0.36,-0.02807860799286556,-0.1738026214841289]                |\n",
      "|2022-01-10 09:00:00|60                   |18.82             |3.0               |731.0              |1                  |0                  |0                  |2                   |0                   |1                      |1.25                    |0.72                     |3  |-0.00763416912282406 |0.023512717446904335 |[18.82,3.0,731.0,1.0,0.0,0.0,2.0,0.0,1.0,1.25,0.72,-0.00763416912282406,0.023512717446904335]                 |\n",
      "|2022-01-10 10:00:00|21                   |0.0               |0.0               |0.0                |0                  |1                  |2                  |3                   |0                   |2                      |1.5                     |1.44                     |0  |0.4180390096647779   |-0.223641348352207   |[0.0,0.0,0.0,0.0,1.0,2.0,3.0,0.0,2.0,1.5,1.44,0.4180390096647779,-0.223641348352207]                          |\n",
      "|2022-01-10 10:00:00|71                   |29.32             |10.905000000000001|1243.5             |6                  |1                  |0                  |0                   |0                   |2                      |3.25                    |1.32                     |2  |0.556254488947505    |0.5489749903008955   |[29.32,10.905000000000001,1243.5,6.0,1.0,0.0,0.0,0.0,2.0,3.25,1.32,0.556254488947505,0.5489749903008955]      |\n",
      "|2022-01-10 11:00:00|75                   |26.0              |3.02              |1471.0             |5                  |2                  |3                  |0                   |2                   |2                      |2.75                    |0.96                     |2  |1.093186053389217    |1.2514956782564295   |[26.0,3.02,1471.0,5.0,2.0,3.0,0.0,2.0,2.0,2.75,0.96,1.093186053389217,1.2514956782564295]                     |\n",
      "|2022-01-10 15:00:00|69                   |21.5              |4.6000000000000005|743.5              |4                  |6                  |10                 |1                   |5                   |4                      |4.75                    |3.36                     |2  |-1.5866092820542805  |0.2709940819069442   |[21.5,4.6000000000000005,743.5,4.0,6.0,10.0,1.0,5.0,4.0,4.75,3.36,-1.5866092820542805,0.2709940819069442]     |\n",
      "|2022-01-10 17:00:00|29                   |21.0              |7.140000000000001 |1390.5             |2                  |1                  |0                  |0                   |0                   |0                      |1.0                     |0.68                     |2  |0.7490771963283896   |-0.2510535665547879  |[21.0,7.140000000000001,1390.5,2.0,1.0,0.0,0.0,0.0,0.0,1.0,0.68,0.7490771963283896,-0.2510535665547879]       |\n",
      "+-------------------+---------------------+------------------+------------------+-------------------+-------------------+-------------------+-------------------+--------------------+--------------------+-----------------------+------------------------+-------------------------+---+---------------------+---------------------+--------------------------------------------------------------------------------------------------------------+\n",
      "only showing top 20 rows\n",
      "\n"
     ]
    }
   ],
   "source": [
    "assembled_df.show(20, False)"
   ]
  },
  {
   "cell_type": "code",
   "execution_count": 28,
   "id": "d9642ec5-34e3-4669-b16e-9e423a5bf661",
   "metadata": {},
   "outputs": [],
   "source": [
    "standardScaler = StandardScaler(inputCol=\"features\", outputCol=\"features_scaled\", withStd = True)"
   ]
  },
  {
   "cell_type": "code",
   "execution_count": 29,
   "id": "9727c43a-2cb0-4058-9bd4-92ef39b04766",
   "metadata": {
    "scrolled": true
   },
   "outputs": [],
   "source": [
    "train_lr_scaled = standardScaler.fit(assembled_df).transform(assembled_df).cache()"
   ]
  },
  {
   "cell_type": "code",
   "execution_count": 30,
   "id": "29071ea7-8e7a-48c6-b069-6e4c63e57800",
   "metadata": {
    "scrolled": true
   },
   "outputs": [
    {
     "name": "stdout",
     "output_type": "stream",
     "text": [
      "+-------------------+---------------------+----------------+-----------------+-------------------+-------------------+-------------------+-------------------+--------------------+--------------------+-----------------------+------------------------+-------------------------+---+--------------------+--------------------+--------------------+--------------------+\n",
      "|                 ds|pickup_community_area|med_cost_lagged1|med_miles_lagged1|med_seconds_lagged1|trips_count_lagged1|trips_count_lagged2|trips_count_lagged3|trips_count_lagged12|trips_count_lagged24|trips_count_lagged_week|rolling_average_on3hours|rolling_average_on24hours|  y|               daily|              weekly|            features|     features_scaled|\n",
      "+-------------------+---------------------+----------------+-----------------+-------------------+-------------------+-------------------+-------------------+--------------------+--------------------+-----------------------+------------------------+-------------------------+---+--------------------+--------------------+--------------------+--------------------+\n",
      "|2022-01-08 00:00:00|                   55|             0.0|              0.0|                0.0|                  0|                  0|                  1|                   0|                   0|                      0|                     0.0|                     0.28|  0|-0.21322187999988373|0.025756721684922563|(13,[5,10,11,12],...|(13,[5,10,11,12],...|\n",
      "|2022-01-08 05:00:00|                   37|             0.0|              0.0|                0.0|                  0|                  1|                  0|                   2|                   0|                      0|                    0.75|                     1.52|  0|-0.00396025098484...|  0.2169442053487997|(13,[4,6,9,10,11,...|(13,[4,6,9,10,11,...|\n",
      "|2022-01-08 06:00:00|                    1|           17.75|             5.92|              923.0|                  1|                  3|                  2|                   3|                   3|                      1|                    2.25|                     3.84|  4| 0.13214328999779285|-0.04148541930126837|[17.75,5.92,923.0...|[0.79622413769659...|\n",
      "|2022-01-08 08:00:00|                   42|             0.0|              0.0|                0.0|                  0|                  0|                  0|                   1|                   2|                      0|                    1.25|                      1.0|  2| 0.29494151570742244|-0.00257507577706...|(13,[6,7,9,10,11,...|(13,[6,7,9,10,11,...|\n",
      "|2022-01-08 08:00:00|                   56|             0.0|              0.0|                0.0|                  0|                  0|                  0|                  20|                   2|                      2|                    2.25|                     7.64|  4|   5.316702409963466|    7.33553907473708|(13,[6,7,8,9,10,1...|(13,[6,7,8,9,10,1...|\n",
      "+-------------------+---------------------+----------------+-----------------+-------------------+-------------------+-------------------+-------------------+--------------------+--------------------+-----------------------+------------------------+-------------------------+---+--------------------+--------------------+--------------------+--------------------+\n",
      "only showing top 5 rows\n",
      "\n"
     ]
    },
    {
     "data": {
      "text/plain": [
       "952848"
      ]
     },
     "execution_count": 30,
     "metadata": {},
     "output_type": "execute_result"
    }
   ],
   "source": [
    "train_lr_scaled.show(5)\n",
    "train_lr_scaled.count()"
   ]
  },
  {
   "cell_type": "markdown",
   "id": "457022e2-d389-462e-a40a-1c7858d846f5",
   "metadata": {},
   "source": [
    "### Проведем стандартизацию валидационных признаков"
   ]
  },
  {
   "cell_type": "code",
   "execution_count": 31,
   "id": "7343b742-638b-4844-a5eb-72eb74133c9e",
   "metadata": {
    "scrolled": true
   },
   "outputs": [
    {
     "data": {
      "text/plain": [
       "114114"
      ]
     },
     "execution_count": 31,
     "metadata": {},
     "output_type": "execute_result"
    }
   ],
   "source": [
    "valid_lr = all_hours_lagged.filter(all_hours_lagged.hour_cons >= '2023-06-01 00:00:00') \\\n",
    "    .selectExpr('pickup_community_area',\n",
    "    'med_cost_lagged1','med_miles_lagged1','med_seconds_lagged1',\n",
    "    'trips_count_lagged1', 'trips_count_lagged2', 'trips_count_lagged3', \n",
    "    'trips_count_lagged12', 'trips_count_lagged24','trips_count_lagged_week',\n",
    "    'rolling_average_on3hours',\n",
    "    'rolling_average_on24hours',\n",
    "    'hour_cons as ds', 'trips_count as y') \\\n",
    "        .join(results['pickup_community_area', 'ds', 'daily', 'weekly'], on=['ds','pickup_community_area'] , how='inner').cache()\n",
    "valid_lr.count()"
   ]
  },
  {
   "cell_type": "code",
   "execution_count": 32,
   "id": "591b427c-3265-43a9-a64a-37b40a9bf9ee",
   "metadata": {
    "scrolled": true
   },
   "outputs": [],
   "source": [
    "valid_lr_scaled = assembler.transform(valid_lr)"
   ]
  },
  {
   "cell_type": "code",
   "execution_count": 33,
   "id": "2faf26ca-6433-445c-acb2-462cf2e47cd6",
   "metadata": {},
   "outputs": [],
   "source": [
    "valid_lr_scaled = standardScaler.fit(train_lr_scaled[['features']]).transform(valid_lr_scaled)"
   ]
  },
  {
   "cell_type": "code",
   "execution_count": 34,
   "id": "79792933-182a-42c2-b97b-83f4033a7e26",
   "metadata": {
    "scrolled": true
   },
   "outputs": [
    {
     "name": "stdout",
     "output_type": "stream",
     "text": [
      "+-------------------+---------------------+----------------+------------------+-------------------+-------------------+-------------------+-------------------+--------------------+--------------------+-----------------------+------------------------+-------------------------+---+-------------------+--------------------+-----------------------------------------------------------------------------------------------------------+--------------------------------------------------------------------------------------------------------------------------------------------------------------------------------------------------------------------------------------------------------------------+\n",
      "|ds                 |pickup_community_area|med_cost_lagged1|med_miles_lagged1 |med_seconds_lagged1|trips_count_lagged1|trips_count_lagged2|trips_count_lagged3|trips_count_lagged12|trips_count_lagged24|trips_count_lagged_week|rolling_average_on3hours|rolling_average_on24hours|y  |daily              |weekly              |features                                                                                                   |features_scaled                                                                                                                                                                                                                                                     |\n",
      "+-------------------+---------------------+----------------+------------------+-------------------+-------------------+-------------------+-------------------+--------------------+--------------------+-----------------------+------------------------+-------------------------+---+-------------------+--------------------+-----------------------------------------------------------------------------------------------------------+--------------------------------------------------------------------------------------------------------------------------------------------------------------------------------------------------------------------------------------------------------------------+\n",
      "|2023-06-01 08:00:00|56                   |44.1            |3.97              |2040.0             |17                 |3                  |1                  |28                  |27                  |18                     |34.5                    |39.48                    |29 |5.316702409968589  |9.071566225849086   |[44.1,3.97,2040.0,17.0,3.0,1.0,28.0,27.0,18.0,34.5,39.48,5.316702409968589,9.071566225849086]              |[1.978224477319428,0.7468596147994708,1.4605838381312513,0.48628409112048204,0.08581677433685142,0.02860739823061886,0.8015804956275813,0.7731557886283676,0.5170572216901897,1.0123151651188023,1.3713704097228758,0.16029246499214472,0.8311423043986321]         |\n",
      "|2023-06-01 10:00:00|26                   |23.0            |3.5500000000000003|1776.5             |2                  |0                  |0                  |0                   |1                   |0                      |0.75                    |0.44                     |0  |0.17579986554058016|0.006311706022582818|[23.0,3.5500000000000003,1776.5,2.0,0.0,0.0,0.0,1.0,0.0,0.75,0.44,0.17579986554058016,0.006311706022582818]|[1.0317270516631936,0.6678467588257233,1.2719250923726313,0.05720989307299789,0.0,0.0,0.0,0.028635399578828432,0.0,0.022006851415626135,0.015283763431561941,0.005300163827103063,5.782822676582727E-4]                                                             |\n",
      "|2023-06-01 10:00:00|42                   |12.875          |3.6350000000000002|931.5              |2                  |3                  |3                  |1                   |3                   |3                      |3.25                    |1.56                     |2  |0.5948713431543574 |0.044916520907471974|[12.875,3.6350000000000002,931.5,2.0,3.0,3.0,1.0,3.0,3.0,3.25,1.56,0.5948713431543574,0.044916520907471974]|[0.5775428604418964,0.6838374558680294,0.6669283554996375,0.05720989307299789,0.08581677433685142,0.08582219469185658,0.028627874843842188,0.08590619873648529,0.08617620361503163,0.09536302280104658,0.05418788853008325,0.017934687066294405,0.00411527841644692]|\n",
      "|2023-06-01 13:00:00|11                   |29.4            |7.92              |2275.0             |3                  |3                  |6                  |0                   |3                   |4                      |1.75                    |1.28                     |2  |0.6395649600063247 |0.0670696249424942  |[29.4,7.92,2275.0,3.0,3.0,6.0,0.0,3.0,4.0,1.75,1.28,0.6395649600063247,0.0670696249424942]                 |[1.3188163182129518,1.4899567126478108,1.628837368504214,0.08581483960949683,0.08581677433685142,0.17164438938371315,0.0,0.08590619873648529,0.11490160482004218,0.05134931996979432,0.04446185725545292,0.019282148229662135,0.006144959011710131]                 |\n",
      "|2023-06-01 16:00:00|61                   |30.25           |6.38              |3592.0             |1                  |2                  |1                  |0                   |2                   |0                      |0.75                    |0.52                     |1  |-0.8464165889896966|0.015120262187082647|[30.25,6.38,3592.0,1.0,2.0,1.0,0.0,2.0,0.0,0.75,0.52,-0.8464165889896966,0.015120262187082647]             |[1.3569453614265916,1.2002429074107366,2.5717731110624777,0.028604946536498945,0.05721118289123428,0.02860739823061886,0.0,0.057270799157656864,0.0,0.022006851415626135,0.01806262951002775,-0.025518487024027935,0.001385327433478237]                            |\n",
      "+-------------------+---------------------+----------------+------------------+-------------------+-------------------+-------------------+-------------------+--------------------+--------------------+-----------------------+------------------------+-------------------------+---+-------------------+--------------------+-----------------------------------------------------------------------------------------------------------+--------------------------------------------------------------------------------------------------------------------------------------------------------------------------------------------------------------------------------------------------------------------+\n",
      "only showing top 5 rows\n",
      "\n"
     ]
    },
    {
     "data": {
      "text/plain": [
       "114114"
      ]
     },
     "execution_count": 34,
     "metadata": {},
     "output_type": "execute_result"
    }
   ],
   "source": [
    "valid_lr_scaled.cache()\n",
    "valid_lr_scaled.show(5, False)\n",
    "valid_lr_scaled.count()"
   ]
  },
  {
   "cell_type": "code",
   "execution_count": 35,
   "id": "08120127-c079-479a-843d-59a32f71fee4",
   "metadata": {},
   "outputs": [],
   "source": [
    "train_data = train_lr_scaled.selectExpr('y',\n",
    "    'features_scaled')"
   ]
  },
  {
   "cell_type": "code",
   "execution_count": 36,
   "id": "5133f13f-aecf-455b-8e7c-c925f10fb87d",
   "metadata": {},
   "outputs": [],
   "source": [
    "lr = (LinearRegression(featuresCol='features_scaled', labelCol=\"y\", predictionCol='y_pred')) \n",
    "#                               maxIter=10, regParam=0.3, elasticNetParam=0.8, standardization=False))"
   ]
  },
  {
   "cell_type": "code",
   "execution_count": 37,
   "id": "812b6b2a-2337-4a14-8a2f-193d091654f6",
   "metadata": {},
   "outputs": [],
   "source": [
    "linearModel = lr.fit(train_data)"
   ]
  },
  {
   "cell_type": "code",
   "execution_count": 38,
   "id": "5ff9bd40-3620-4111-893f-8ca2fb942599",
   "metadata": {
    "scrolled": true
   },
   "outputs": [
    {
     "data": {
      "text/html": [
       "<div>\n",
       "<style scoped>\n",
       "    .dataframe tbody tr th:only-of-type {\n",
       "        vertical-align: middle;\n",
       "    }\n",
       "\n",
       "    .dataframe tbody tr th {\n",
       "        vertical-align: top;\n",
       "    }\n",
       "\n",
       "    .dataframe thead th {\n",
       "        text-align: right;\n",
       "    }\n",
       "</style>\n",
       "<table border=\"1\" class=\"dataframe\">\n",
       "  <thead>\n",
       "    <tr style=\"text-align: right;\">\n",
       "      <th></th>\n",
       "      <th>Feature</th>\n",
       "      <th>Co-efficients</th>\n",
       "    </tr>\n",
       "  </thead>\n",
       "  <tbody>\n",
       "    <tr>\n",
       "      <th>0</th>\n",
       "      <td>Intercept</td>\n",
       "      <td>0.099739</td>\n",
       "    </tr>\n",
       "    <tr>\n",
       "      <th>1</th>\n",
       "      <td>med_cost_lagged1</td>\n",
       "      <td>-0.073153</td>\n",
       "    </tr>\n",
       "    <tr>\n",
       "      <th>2</th>\n",
       "      <td>med_miles_lagged1</td>\n",
       "      <td>-0.124021</td>\n",
       "    </tr>\n",
       "    <tr>\n",
       "      <th>3</th>\n",
       "      <td>med_seconds_lagged1</td>\n",
       "      <td>-0.017947</td>\n",
       "    </tr>\n",
       "    <tr>\n",
       "      <th>4</th>\n",
       "      <td>trips_count_lagged1</td>\n",
       "      <td>9.325066</td>\n",
       "    </tr>\n",
       "    <tr>\n",
       "      <th>5</th>\n",
       "      <td>trips_count_lagged2</td>\n",
       "      <td>-3.536604</td>\n",
       "    </tr>\n",
       "    <tr>\n",
       "      <th>6</th>\n",
       "      <td>trips_count_lagged3</td>\n",
       "      <td>1.887217</td>\n",
       "    </tr>\n",
       "    <tr>\n",
       "      <th>7</th>\n",
       "      <td>trips_count_lagged12</td>\n",
       "      <td>-0.068058</td>\n",
       "    </tr>\n",
       "    <tr>\n",
       "      <th>8</th>\n",
       "      <td>trips_count_lagged24</td>\n",
       "      <td>1.759492</td>\n",
       "    </tr>\n",
       "    <tr>\n",
       "      <th>9</th>\n",
       "      <td>trips_count_lagged_week</td>\n",
       "      <td>2.425349</td>\n",
       "    </tr>\n",
       "    <tr>\n",
       "      <th>10</th>\n",
       "      <td>rolling_average_on3hours</td>\n",
       "      <td>24.810795</td>\n",
       "    </tr>\n",
       "    <tr>\n",
       "      <th>11</th>\n",
       "      <td>rolling_average_on24hours</td>\n",
       "      <td>-1.738456</td>\n",
       "    </tr>\n",
       "    <tr>\n",
       "      <th>12</th>\n",
       "      <td>daily</td>\n",
       "      <td>0.354845</td>\n",
       "    </tr>\n",
       "    <tr>\n",
       "      <th>13</th>\n",
       "      <td>weekly</td>\n",
       "      <td>0.055110</td>\n",
       "    </tr>\n",
       "  </tbody>\n",
       "</table>\n",
       "</div>"
      ],
      "text/plain": [
       "                      Feature  Co-efficients\n",
       "0                   Intercept       0.099739\n",
       "1            med_cost_lagged1      -0.073153\n",
       "2           med_miles_lagged1      -0.124021\n",
       "3         med_seconds_lagged1      -0.017947\n",
       "4         trips_count_lagged1       9.325066\n",
       "5         trips_count_lagged2      -3.536604\n",
       "6         trips_count_lagged3       1.887217\n",
       "7        trips_count_lagged12      -0.068058\n",
       "8        trips_count_lagged24       1.759492\n",
       "9     trips_count_lagged_week       2.425349\n",
       "10   rolling_average_on3hours      24.810795\n",
       "11  rolling_average_on24hours      -1.738456\n",
       "12                      daily       0.354845\n",
       "13                     weekly       0.055110"
      ]
     },
     "metadata": {},
     "output_type": "display_data"
    }
   ],
   "source": [
    "coeff_df = pd.DataFrame({\"Feature\": [\"Intercept\"] + featureCols, \"Co-efficients\": np.insert(linearModel.coefficients.toArray(), 0, linearModel.intercept)})\n",
    "coeff_df = coeff_df[[\"Feature\", \"Co-efficients\"]]\n",
    "display(coeff_df)"
   ]
  },
  {
   "cell_type": "code",
   "execution_count": 39,
   "id": "c8f37cff-2709-483b-89bc-e14433082b78",
   "metadata": {},
   "outputs": [],
   "source": [
    "valid_data = valid_lr_scaled.selectExpr('y',\n",
    "    'features_scaled')"
   ]
  },
  {
   "cell_type": "code",
   "execution_count": 40,
   "id": "529497e7-ba38-4e05-97ff-cb5d123e0f1c",
   "metadata": {},
   "outputs": [],
   "source": [
    "# Прогнозы\n",
    "predictions = linearModel.transform(valid_data)"
   ]
  },
  {
   "cell_type": "code",
   "execution_count": 41,
   "id": "2a3d0cc9-92c6-495a-9e46-b1a565bf9f9c",
   "metadata": {
    "scrolled": true
   },
   "outputs": [
    {
     "name": "stdout",
     "output_type": "stream",
     "text": [
      "+------+---+\n",
      "|y_pred|  y|\n",
      "+------+---+\n",
      "|  30.0| 29|\n",
      "|   1.0|  0|\n",
      "|   3.0|  2|\n",
      "|   2.0|  2|\n",
      "|   1.0|  1|\n",
      "|   9.0|  6|\n",
      "| 275.0|261|\n",
      "|  52.0| 62|\n",
      "|   9.0| 17|\n",
      "|   0.0|  0|\n",
      "|   0.0|  0|\n",
      "|   2.0|  3|\n",
      "|   1.0|  1|\n",
      "|   9.0|  9|\n",
      "|   1.0|  1|\n",
      "|   4.0|  1|\n",
      "| 135.0|160|\n",
      "|  52.0| 47|\n",
      "|   0.0|  0|\n",
      "|   0.0|  0|\n",
      "+------+---+\n",
      "only showing top 20 rows\n",
      "\n"
     ]
    },
    {
     "data": {
      "text/plain": [
       "114114"
      ]
     },
     "execution_count": 41,
     "metadata": {},
     "output_type": "execute_result"
    }
   ],
   "source": [
    "# Вытаскиваем предсказания и истинные ответы)\n",
    "predandlabels = predictions.select(\"y_pred\", \"y\").withColumn(\"y_pred\",F.round(predictions[\"y_pred\"],0)) \\\n",
    "                                                        #.withColumn(\"y\", F.when((F.col(\"y\") <= 0), 0.0001))\n",
    "predandlabels = predandlabels.withColumn('y_pred', F.when((F.col(\"y_pred\") <= 0), 0)\\\n",
    "    .otherwise(predandlabels.y_pred)).cache()\n",
    "predandlabels.show()\n",
    "predandlabels.count()"
   ]
  },
  {
   "cell_type": "code",
   "execution_count": 42,
   "id": "8a54227f-79a0-492b-bafc-1b48e343d298",
   "metadata": {},
   "outputs": [
    {
     "name": "stdout",
     "output_type": "stream",
     "text": [
      "LinearRegression MAE: 1.680433601486233\n"
     ]
    }
   ],
   "source": [
    "evaluator = RegressionEvaluator(predictionCol=\"y_pred\", labelCol='y', metricName='mae')\n",
    "print(\"LinearRegression MAE: {0}\".format(evaluator.evaluate(predandlabels)))"
   ]
  },
  {
   "cell_type": "code",
   "execution_count": 43,
   "id": "1aab44a9-e01f-4b19-b645-1d66b99ad0f2",
   "metadata": {},
   "outputs": [
    {
     "name": "stdout",
     "output_type": "stream",
     "text": [
      "MAPE: [Row(avg((abs(((y - y_pred) / y)) * 100))=43.281272503358764)]\n"
     ]
    }
   ],
   "source": [
    "print('MAPE:',\n",
    "    predandlabels.select(avg((100*abs((predandlabels.y - predandlabels.y_pred) / predandlabels.y)))).collect())"
   ]
  },
  {
   "cell_type": "markdown",
   "id": "5711de95-0dd4-4c4d-8043-45767ead3423",
   "metadata": {},
   "source": [
    "    на дополнительных сезонностях\n",
    "    МАЕ: 1.680433601486233\n",
    "    МАРЕ: 43.281272503358764"
   ]
  },
  {
   "cell_type": "code",
   "execution_count": 44,
   "id": "50e12c53-730b-4758-8772-aa17c9dd3c03",
   "metadata": {},
   "outputs": [
    {
     "name": "stdout",
     "output_type": "stream",
     "text": [
      "LinearRegression MAE: 1.680433601486233\n",
      "MAPE: [Row(avg((abs(((y - y_pred) / y)) * 100))=43.281272503358764)]\n",
      "+------+---+\n",
      "|y_pred|  y|\n",
      "+------+---+\n",
      "|  30.0| 29|\n",
      "|   1.0|  0|\n",
      "|   3.0|  2|\n",
      "|   2.0|  2|\n",
      "|   1.0|  1|\n",
      "|   9.0|  6|\n",
      "| 275.0|261|\n",
      "|  52.0| 62|\n",
      "|   9.0| 17|\n",
      "|   0.0|  0|\n",
      "+------+---+\n",
      "only showing top 10 rows\n",
      "\n",
      "114114\n"
     ]
    }
   ],
   "source": [
    "from pyspark.ml import Pipeline\n",
    "pipeline = Pipeline(stages=[assembler, standardScaler, lr])\n",
    "piped_lr = pipeline.fit(train_lr)\n",
    "piped_prediction = []\n",
    "piped_prediction = piped_lr.transform(valid_lr)\n",
    "piped_prediction = piped_prediction.select(\"y_pred\", \"y\").withColumn(\"y_pred\",F.round(piped_prediction[\"y_pred\"],0)) \n",
    "                                                        #.withColumn(\"y\", F.when((F.col(\"y\") <= 0), 0.0001))\n",
    "piped_prediction = piped_prediction.withColumn('y_pred', F.when((F.col(\"y_pred\") <= 0), 0)\\\n",
    "    .otherwise(piped_prediction.y_pred)).cache()\n",
    "print(\"LinearRegression MAE: {0}\".format(evaluator.evaluate(piped_prediction)))\n",
    "print('MAPE:',\n",
    "    piped_prediction.select(avg((100*abs((\n",
    "        piped_prediction.y - piped_prediction.y_pred) / piped_prediction.y)))).collect())\n",
    "piped_prediction.show(10)\n",
    "print(piped_prediction.count())"
   ]
  },
  {
   "cell_type": "markdown",
   "id": "fa8d60ac-09c8-44c5-b7d9-690a4f8c01bc",
   "metadata": {},
   "source": [
    "## Обучим лес случайных деревьев"
   ]
  },
  {
   "cell_type": "code",
   "execution_count": 45,
   "id": "859c714b-2c47-4710-a426-2ec1d8d8f6ea",
   "metadata": {
    "scrolled": true
   },
   "outputs": [
    {
     "name": "stdout",
     "output_type": "stream",
     "text": [
      "+---+--------------------+--------------------+\n",
      "|  y|     features_scaled|              y_pred|\n",
      "+---+--------------------+--------------------+\n",
      "| 29|[1.97822447731942...|  28.579687975662573|\n",
      "|  0|[1.03172705166319...|  0.5272077483298967|\n",
      "|  2|[0.57754286044189...|  3.6034865359503376|\n",
      "|  2|[1.31881631821295...|  1.7087051117407053|\n",
      "|  1|[1.35694536142659...|  0.6708635138799587|\n",
      "|  6|[0.72804043689102...|   8.212283171451308|\n",
      "|261|[0.52124644957940...|  255.44962131868883|\n",
      "| 62|[0.71772316637439...|   49.40804531016315|\n",
      "| 17|[1.73599290866806...|  11.958775464645573|\n",
      "|  0|(13,[5,6,9,10,11,...|  0.2610302572056099|\n",
      "|  0|(13,[7,8,10,11,12...| 0.10692136380656592|\n",
      "|  3|(13,[5,6,8,9,10,1...|  1.8023644752023202|\n",
      "|  1|(13,[7,8,9,10,11,...|  0.6298199713389501|\n",
      "|  9|[0.98686935376479...|  12.064700919774513|\n",
      "|  1|[0.0,0.0,0.0,0.0,...|  2.0211820637573217|\n",
      "|  1|[0.89715395796799...|  2.1960123200373918|\n",
      "|160|[0.54950679925539...|  116.14850927909065|\n",
      "| 47|[2.13522641996382...|  44.472467777937986|\n",
      "|  0|(13,[8,10,11,12],...|0.036343142268266126|\n",
      "|  0|(13,[7,10,11,12],...| 0.07460610883152827|\n",
      "+---+--------------------+--------------------+\n",
      "only showing top 20 rows\n",
      "\n",
      "RandomForest MAE: 2.5703657024114874\n",
      "CPU times: user 257 ms, sys: 140 ms, total: 397 ms\n",
      "Wall time: 1min\n"
     ]
    }
   ],
   "source": [
    "%%time\n",
    "\n",
    "rf = RandomForestRegressor(labelCol=\"y\", featuresCol=\"features_scaled\", predictionCol='y_pred',\n",
    "                                  numTrees = 10, maxDepth = 10) \\\n",
    "\n",
    "rfmodel = rf.fit(train_data)\n",
    "rfpredictions = rfmodel.transform(valid_data)\n",
    "rfpredictions.show()\n",
    "print(\"RandomForest MAE: {0}\".format(evaluator.evaluate(rfpredictions)))"
   ]
  },
  {
   "cell_type": "markdown",
   "id": "55869365-baf6-47df-9908-68a924ce2c0f",
   "metadata": {},
   "source": [
    "    Лес деревьев потребляет много ресурсов и не дает высоких результатов. Кросс-валидация не проходит из-за высокого потребления ресурсов.\n",
    "    МАЕ случайного леса 2.6110337641144907\n",
    "    В дальнейшем будем использовать модели линейной регрессии"
   ]
  },
  {
   "cell_type": "markdown",
   "id": "941f7880-8149-4c1f-be3e-78093146c96d",
   "metadata": {},
   "source": [
    "## Выбор модели по результатам валидации:\n",
    "    Для предсказания количества поездок в следующий час по каждому району была выбрана модель линейной регрессии.\n",
    "    Окончательные ошибки отдельных Линейных регрессий для каждого района составили\r",
    "    \n",
    "МАЕ: 1.680433601486233\n",
    "\n",
    "МАРЕ: 43.281272503358764"
   ]
  },
  {
   "cell_type": "markdown",
   "id": "1c64c61e-5749-428e-b8d6-438085c93ebc",
   "metadata": {},
   "source": [
    "# Реализуем выбранную модель для каждого региона через функцию"
   ]
  },
  {
   "cell_type": "code",
   "execution_count": 46,
   "id": "942b7c4e-979e-451b-b204-746dba050a9f",
   "metadata": {},
   "outputs": [],
   "source": [
    "def modelsandpredictions(func_community):\n",
    "        \n",
    "    temp_train = train_lr.filter(train_lr.pickup_community_area == func_community)\n",
    "    temp_valid = valid_lr.filter(valid_lr.pickup_community_area == func_community)\n",
    "    \n",
    "    temp_lr = pipeline.fit(temp_train)\n",
    "    temp_pred = temp_lr.transform(temp_valid)\n",
    "    temp_predandtrue = temp_pred.select(\n",
    "                                        'pickup_community_area',\n",
    "                                        'ds',\n",
    "                                        \"y_pred\", \n",
    "                                        \"y\"\n",
    "                                        ).withColumn(\"y_pred\",F.round(temp_pred[\"y_pred\"],0)) \n",
    "    temp_predandtrue = temp_predandtrue.withColumn('y_pred', F.when((F.col(\"y_pred\") <= 0), 0)\\\n",
    "        .otherwise(temp_predandtrue.y_pred)).cache()\n",
    "    #temp_lr = lr.fit(temp_train.union(temp_valid))\n",
    "    #temp_lr.write().overwrite().save(\"/models/lr{0}\".format(i))\n",
    "    return temp_predandtrue"
   ]
  },
  {
   "cell_type": "code",
   "execution_count": 47,
   "id": "516eaf4d-688e-40a4-bf36-87b68c7ee5b5",
   "metadata": {},
   "outputs": [],
   "source": [
    "preds_schema = StructType([ \\\n",
    "    StructField(\"pickup_community_area\",IntegerType (),True), \\\n",
    "    StructField(\"ds\",TimestampType(),True), \\\n",
    "    StructField(\"y_pred\",FloatType(),True), \\\n",
    "    StructField(\"y\", FloatType(), True), \\\n",
    "\n",
    "  ])"
   ]
  },
  {
   "cell_type": "code",
   "execution_count": 48,
   "id": "bb5378c8-6f7e-4c20-9eed-6ef161f05ea9",
   "metadata": {
    "scrolled": true
   },
   "outputs": [
    {
     "name": "stdout",
     "output_type": "stream",
     "text": [
      "CPU times: user 6.04 s, sys: 2.69 s, total: 8.73 s\n",
      "Wall time: 5min 19s\n"
     ]
    }
   ],
   "source": [
    "%%time\n",
    "valid_preds = spark.createDataFrame([],preds_schema)\n",
    "for i in range(78):\n",
    "    valid_preds = valid_preds.union(modelsandpredictions(i))\n",
    "valid_preds = valid_preds.cache()"
   ]
  },
  {
   "cell_type": "code",
   "execution_count": 49,
   "id": "1d526292-df2e-4494-b1fd-e9149acc0d0e",
   "metadata": {},
   "outputs": [
    {
     "name": "stdout",
     "output_type": "stream",
     "text": [
      "+---------------------+-------------------+------+----+\n",
      "|pickup_community_area|                 ds|y_pred|   y|\n",
      "+---------------------+-------------------+------+----+\n",
      "|                    0|2023-06-02 01:00:00|   9.0|17.0|\n",
      "|                    0|2023-06-04 06:00:00|   8.0| 6.0|\n",
      "|                    0|2023-06-05 18:00:00|  38.0|37.0|\n",
      "|                    0|2023-06-13 12:00:00|  41.0|37.0|\n",
      "|                    0|2023-06-16 21:00:00|  23.0|18.0|\n",
      "+---------------------+-------------------+------+----+\n",
      "only showing top 5 rows\n",
      "\n"
     ]
    },
    {
     "data": {
      "text/plain": [
       "114114"
      ]
     },
     "execution_count": 49,
     "metadata": {},
     "output_type": "execute_result"
    }
   ],
   "source": [
    "valid_preds.show(5)\n",
    "valid_preds.count()"
   ]
  },
  {
   "cell_type": "code",
   "execution_count": 50,
   "id": "995ae0d7-2aa3-4c24-b32f-fc9f3da8a7de",
   "metadata": {
    "scrolled": true
   },
   "outputs": [
    {
     "name": "stdout",
     "output_type": "stream",
     "text": [
      "LinearRegression MAE: 1.5661268556005399\n",
      "CPU times: user 1.5 s, sys: 725 ms, total: 2.23 s\n",
      "Wall time: 5min 42s\n"
     ]
    }
   ],
   "source": [
    "%%time\n",
    "print(\"LinearRegression MAE: {0}\".format(evaluator.evaluate(valid_preds)))"
   ]
  },
  {
   "cell_type": "code",
   "execution_count": 51,
   "id": "ac856262-b8d9-4633-bad0-cba243898d0e",
   "metadata": {
    "scrolled": true
   },
   "outputs": [
    {
     "name": "stdout",
     "output_type": "stream",
     "text": [
      "MAPE: [Row(avg((abs(((y - y_pred) / y)) * 100))=38.60706497578098)]\n",
      "CPU times: user 1.63 s, sys: 658 ms, total: 2.29 s\n",
      "Wall time: 5min 43s\n"
     ]
    }
   ],
   "source": [
    "%%time\n",
    "print('MAPE:',\n",
    "    valid_preds.select(avg((100*abs((valid_preds.y - valid_preds.y_pred) / valid_preds.y)))).collect())"
   ]
  },
  {
   "cell_type": "markdown",
   "id": "a9acffdd-8079-4540-96ab-ce51636e3849",
   "metadata": {},
   "source": [
    "    Обучение отдельных моделей для каждого района свою показали эффективность уменьшив МАЕ на 0.114"
   ]
  },
  {
   "cell_type": "markdown",
   "id": "3532918b-170f-4d3e-bbd5-0ea67b003ad2",
   "metadata": {},
   "source": [
    "# Проверим на тестовых данных"
   ]
  },
  {
   "cell_type": "code",
   "execution_count": 52,
   "id": "84b47165-1b6a-499b-8c00-9aac724ec864",
   "metadata": {
    "scrolled": true
   },
   "outputs": [],
   "source": [
    "spark.stop()"
   ]
  },
  {
   "cell_type": "code",
   "execution_count": 53,
   "id": "5f38e610-3ad3-4a44-85c8-39a475e13dc5",
   "metadata": {},
   "outputs": [],
   "source": [
    "SPARK_MASTER_IP = '172.18.0.2' \n",
    "spark = SparkSession.builder.appName(\"pyspark-taxi-forecasting_stage2\") \\\n",
    "    .master(f\"spark://{SPARK_MASTER_IP}:7077\") \\\n",
    "    .config('spark.local.dir', 'spark_tmp/') \\\n",
    "    .config(\"spark.executor.cores\", 2) \\\n",
    "    .config(\"spark.task.cpus\", 2) \\\n",
    "    .getOrCreate()"
   ]
  },
  {
   "cell_type": "code",
   "execution_count": 55,
   "id": "1ae315a0-2b69-4334-8836-ae576880d328",
   "metadata": {
    "scrolled": true
   },
   "outputs": [],
   "source": [
    "all_hours = spark.read.csv(\"all_hours.csv\", header = True, inferSchema = True)"
   ]
  },
  {
   "cell_type": "code",
   "execution_count": 56,
   "id": "96055e5e-a30e-4355-9fe9-3e4cbbc2c33d",
   "metadata": {},
   "outputs": [],
   "source": [
    "test = spark.read.csv(\"y_true_2023-07-31_23-00_UTC0.csv\", header = True, inferSchema = True)\n",
    "test = test.withColumn('ds', test['hours']) \\\n",
    "    .withColumn('pickup_community_area', test['Pickup Community Area']) \\\n",
    "    .withColumn('y', test['trips_count'])"
   ]
  },
  {
   "cell_type": "code",
   "execution_count": 57,
   "id": "23ac0bee-80ad-4cba-929b-bbcca02c8eca",
   "metadata": {
    "scrolled": true
   },
   "outputs": [
    {
     "name": "stdout",
     "output_type": "stream",
     "text": [
      "+---------------------+-------------------+-----------+-------------------+---------------------+---+\n",
      "|Pickup Community Area|              hours|trips_count|                 ds|pickup_community_area|  y|\n",
      "+---------------------+-------------------+-----------+-------------------+---------------------+---+\n",
      "|                    0|2023-07-31 23:00:00|         22|2023-07-31 23:00:00|                    0| 22|\n",
      "|                    1|2023-07-31 23:00:00|          2|2023-07-31 23:00:00|                    1|  2|\n",
      "|                    2|2023-07-31 23:00:00|          1|2023-07-31 23:00:00|                    2|  1|\n",
      "|                    3|2023-07-31 23:00:00|          5|2023-07-31 23:00:00|                    3|  5|\n",
      "|                    4|2023-07-31 23:00:00|          0|2023-07-31 23:00:00|                    4|  0|\n",
      "|                    5|2023-07-31 23:00:00|          4|2023-07-31 23:00:00|                    5|  4|\n",
      "|                    6|2023-07-31 23:00:00|         49|2023-07-31 23:00:00|                    6| 49|\n",
      "|                    7|2023-07-31 23:00:00|          8|2023-07-31 23:00:00|                    7|  8|\n",
      "|                    8|2023-07-31 23:00:00|         63|2023-07-31 23:00:00|                    8| 63|\n",
      "|                    9|2023-07-31 23:00:00|          0|2023-07-31 23:00:00|                    9|  0|\n",
      "|                   10|2023-07-31 23:00:00|          2|2023-07-31 23:00:00|                   10|  2|\n",
      "|                   11|2023-07-31 23:00:00|          1|2023-07-31 23:00:00|                   11|  1|\n",
      "|                   12|2023-07-31 23:00:00|          0|2023-07-31 23:00:00|                   12|  0|\n",
      "|                   13|2023-07-31 23:00:00|          0|2023-07-31 23:00:00|                   13|  0|\n",
      "|                   14|2023-07-31 23:00:00|          1|2023-07-31 23:00:00|                   14|  1|\n",
      "|                   15|2023-07-31 23:00:00|          0|2023-07-31 23:00:00|                   15|  0|\n",
      "|                   16|2023-07-31 23:00:00|          1|2023-07-31 23:00:00|                   16|  1|\n",
      "|                   17|2023-07-31 23:00:00|          0|2023-07-31 23:00:00|                   17|  0|\n",
      "|                   18|2023-07-31 23:00:00|          0|2023-07-31 23:00:00|                   18|  0|\n",
      "|                   19|2023-07-31 23:00:00|          0|2023-07-31 23:00:00|                   19|  0|\n",
      "+---------------------+-------------------+-----------+-------------------+---------------------+---+\n",
      "only showing top 20 rows\n",
      "\n"
     ]
    },
    {
     "data": {
      "text/plain": [
       "78"
      ]
     },
     "execution_count": 57,
     "metadata": {},
     "output_type": "execute_result"
    }
   ],
   "source": [
    "test.show()\n",
    "test.count()"
   ]
  },
  {
   "cell_type": "code",
   "execution_count": 58,
   "id": "d44ddf8d-f6f2-430b-a70f-bcf6b9e1ab2f",
   "metadata": {
    "scrolled": true
   },
   "outputs": [],
   "source": [
    "column_list = [\"pickup_community_area\"]\n",
    "  \n",
    "\n",
    "Windowspec = Window.partitionBy([\"pickup_community_area\"]).orderBy(all_hours.hour_cons.desc())\n",
    "  \n",
    "all_hours_lagged = all_hours.withColumn(\n",
    "    'med_cost_lagged1', lag(all_hours['cost_median'], -1).over(Windowspec)).withColumn(\n",
    "    'med_miles_lagged1', lag(all_hours['miles_median'], -1).over(Windowspec)).withColumn(\n",
    "    'med_seconds_lagged1', lag(all_hours['seconds_median'], -1).over(Windowspec)).withColumn(\n",
    "    'trips_count_lagged1', lag(all_hours['trips_count'], -1).over(Windowspec)).withColumn(\n",
    "    'trips_count_lagged2', lag(all_hours['trips_count'], -2).over(Windowspec)).withColumn(\n",
    "    'trips_count_lagged3', lag(all_hours['trips_count'], -3).over(Windowspec)).withColumn(\n",
    "    'trips_count_lagged12', lag(all_hours['trips_count'], -12).over(Windowspec)).withColumn(\n",
    "    'trips_count_lagged24', lag(all_hours['trips_count'], -24).over(Windowspec)).withColumn(\n",
    "    'trips_count_lagged_week', lag(all_hours['trips_count'], -24*7).over(Windowspec))\n",
    "\n",
    "all_hours_lagged = all_hours_lagged.withColumn(\n",
    "    'rolling_average_on3hours', avg(all_hours_lagged['trips_count_lagged1'],).over(Windowspec.rowsBetween(-3, -0))) \\\n",
    "    .withColumn('rolling_average_on24hours', avg(all_hours_lagged['trips_count_lagged1'],).over(Windowspec.rowsBetween(-24, -0))) \\\n",
    "    .na.drop('any').cache()\n"
   ]
  },
  {
   "cell_type": "markdown",
   "id": "db1aaa41-beff-4063-ad4b-107b56759b90",
   "metadata": {},
   "source": [
    "## Проведем предсказания с помощью Prophet через Pandas_udf для выделения сезонностей"
   ]
  },
  {
   "cell_type": "code",
   "execution_count": 59,
   "id": "0b7a646c-6252-4cce-98e1-21f8263af1f9",
   "metadata": {
    "scrolled": true
   },
   "outputs": [
    {
     "name": "stdout",
     "output_type": "stream",
     "text": [
      "== Physical Plan ==\n",
      "InMemoryTableScan [pickup_community_area#188690, ds#189087, y#189088]\n",
      "   +- InMemoryRelation [pickup_community_area#188690, ds#189087, y#189088], StorageLevel(disk, memory, deserialized, 1 replicas)\n",
      "         +- Exchange hashpartitioning(pickup_community_area#188690, 6), REPARTITION_BY_NUM, [plan_id=22167]\n",
      "            +- *(1) Project [pickup_community_area#188690, hour_cons#188691 AS ds#189087, trips_count#188693 AS y#189088]\n",
      "               +- *(1) Filter (isnotnull(hour_cons#188691) AND (hour_cons#188691 < 2023-07-31 23:00:00))\n",
      "                  +- InMemoryTableScan [hour_cons#188691, pickup_community_area#188690, trips_count#188693], [isnotnull(hour_cons#188691), (hour_cons#188691 < 2023-07-31 23:00:00)]\n",
      "                        +- InMemoryRelation [_c0#188689, pickup_community_area#188690, hour_cons#188691, taxi_countdist3#188692, trips_count#188693, cost_median#188694, miles_median#188695, seconds_median#188696, taxi_countdist8#188697, med_cost_lagged1#188788, med_miles_lagged1#188800, med_seconds_lagged1#188812, trips_count_lagged1#188825, trips_count_lagged2#188839, trips_count_lagged3#188854, trips_count_lagged12#188870, trips_count_lagged24#188887, trips_count_lagged_week#188905, rolling_average_on3hours#188925, rolling_average_on24hours#188946], StorageLevel(disk, memory, deserialized, 1 replicas)\n",
      "                              +- *(2) Filter atleastnnonnulls(20, _c0#188689, pickup_community_area#188690, hour_cons#188691, taxi_countdist3#188692, trips_count#188693, cost_median#188694, miles_median#188695, seconds_median#188696, taxi_countdist8#188697, med_cost_lagged1#188788, med_miles_lagged1#188800, med_seconds_lagged1#188812, trips_count_lagged1#188825, trips_count_lagged2#188839, trips_count_lagged3#188854, trips_count_lagged12#188870, trips_count_lagged24#188887, trips_count_lagged_week#188905, rolling_average_on3hours#188925, rolling_average_on24hours#188946)\n",
      "                                 +- Window [lag(trips_count#188693, 168, null) windowspecdefinition(pickup_community_area#188690, hour_cons#188691 DESC NULLS LAST, specifiedwindowframe(RowFrame, 168, 168)) AS trips_count_lagged_week#188905, avg(trips_count_lagged1#188825) windowspecdefinition(pickup_community_area#188690, hour_cons#188691 DESC NULLS LAST, specifiedwindowframe(RowFrame, -3, currentrow$())) AS rolling_average_on3hours#188925, avg(trips_count_lagged1#188825) windowspecdefinition(pickup_community_area#188690, hour_cons#188691 DESC NULLS LAST, specifiedwindowframe(RowFrame, -24, currentrow$())) AS rolling_average_on24hours#188946], [pickup_community_area#188690], [hour_cons#188691 DESC NULLS LAST]\n",
      "                                    +- Window [lag(cost_median#188694, 1, null) windowspecdefinition(pickup_community_area#188690, hour_cons#188691 DESC NULLS LAST, specifiedwindowframe(RowFrame, 1, 1)) AS med_cost_lagged1#188788, lag(miles_median#188695, 1, null) windowspecdefinition(pickup_community_area#188690, hour_cons#188691 DESC NULLS LAST, specifiedwindowframe(RowFrame, 1, 1)) AS med_miles_lagged1#188800, lag(seconds_median#188696, 1, null) windowspecdefinition(pickup_community_area#188690, hour_cons#188691 DESC NULLS LAST, specifiedwindowframe(RowFrame, 1, 1)) AS med_seconds_lagged1#188812, lag(trips_count#188693, 1, null) windowspecdefinition(pickup_community_area#188690, hour_cons#188691 DESC NULLS LAST, specifiedwindowframe(RowFrame, 1, 1)) AS trips_count_lagged1#188825, lag(trips_count#188693, 2, null) windowspecdefinition(pickup_community_area#188690, hour_cons#188691 DESC NULLS LAST, specifiedwindowframe(RowFrame, 2, 2)) AS trips_count_lagged2#188839, lag(trips_count#188693, 3, null) windowspecdefinition(pickup_community_area#188690, hour_cons#188691 DESC NULLS LAST, specifiedwindowframe(RowFrame, 3, 3)) AS trips_count_lagged3#188854, lag(trips_count#188693, 12, null) windowspecdefinition(pickup_community_area#188690, hour_cons#188691 DESC NULLS LAST, specifiedwindowframe(RowFrame, 12, 12)) AS trips_count_lagged12#188870, lag(trips_count#188693, 24, null) windowspecdefinition(pickup_community_area#188690, hour_cons#188691 DESC NULLS LAST, specifiedwindowframe(RowFrame, 24, 24)) AS trips_count_lagged24#188887], [pickup_community_area#188690], [hour_cons#188691 DESC NULLS LAST]\n",
      "                                       +- *(1) Sort [pickup_community_area#188690 ASC NULLS FIRST, hour_cons#188691 DESC NULLS LAST], false, 0\n",
      "                                          +- Exchange hashpartitioning(pickup_community_area#188690, 200), ENSURE_REQUIREMENTS, [plan_id=22150]\n",
      "                                             +- FileScan csv [_c0#188689,pickup_community_area#188690,hour_cons#188691,taxi_countdist3#188692,trips_count#188693,cost_median#188694,miles_median#188695,seconds_median#188696,taxi_countdist8#188697] Batched: false, DataFilters: [], Format: CSV, Location: InMemoryFileIndex(1 paths)[file:/work/all_hours.csv], PartitionFilters: [], PushedFilters: [], ReadSchema: struct<_c0:int,pickup_community_area:int,hour_cons:timestamp,taxi_countdist3:int,trips_count:int,...\n",
      "\n",
      "\n"
     ]
    }
   ],
   "source": [
    "train_proph = all_hours_lagged.filter((all_hours_lagged.hour_cons < '2023-07-31 23:00:00')) \\\n",
    "    .selectExpr( 'pickup_community_area',\n",
    "    'hour_cons as ds', 'trips_count as y')\n",
    "# Partition the data dfsp_partitionned\n",
    "train_proph.createOrReplaceTempView(\"pickup_community_area\")\n",
    "sql = \"select * from pickup_community_area\"\n",
    "train_proph = (spark.sql(sql)\\\n",
    "   .repartition(spark.sparkContext.defaultParallelism, \n",
    "   ['pickup_community_area'])).cache()\n",
    "train_proph.explain()"
   ]
  },
  {
   "cell_type": "code",
   "execution_count": 60,
   "id": "b83d4fa2-84df-4dc3-ae87-909a4556017b",
   "metadata": {
    "scrolled": true
   },
   "outputs": [],
   "source": [
    "valid_proph = all_hours_lagged.filter(all_hours_lagged.hour_cons == '2023-07-31 23:00:00') \\\n",
    "    .selectExpr( 'pickup_community_area',\n",
    "    'hour_cons as ds', 'trips_count as y') \\\n",
    "    .withColumn(\"y\",col(\"y\").cast(DoubleType()))"
   ]
  },
  {
   "cell_type": "code",
   "execution_count": 61,
   "id": "3e265c44-6e17-4753-b6b8-f6815941c5c3",
   "metadata": {},
   "outputs": [],
   "source": [
    "# Define a schema\n",
    "schema = StructType([ \\\n",
    "                     StructField('pickup_community_area', IntegerType()), \n",
    "                     StructField('ds', TimestampType()),\n",
    "                     StructField('y', FloatType()),\n",
    "                     StructField('yhat', DoubleType()),\n",
    "                     StructField('daily', DoubleType()),\n",
    "                     StructField('weekly', DoubleType())\n",
    "                    ])"
   ]
  },
  {
   "cell_type": "code",
   "execution_count": 62,
   "id": "55c93b10-6d5d-4668-9e37-a42435283992",
   "metadata": {
    "scrolled": true
   },
   "outputs": [
    {
     "name": "stderr",
     "output_type": "stream",
     "text": [
      "/usr/local/spark/python/pyspark/sql/pandas/group_ops.py:103: UserWarning: It is preferred to use 'applyInPandas' over this API. This API will be deprecated in the future releases. See SPARK-28264 for more details.\n",
      "  warnings.warn(\n"
     ]
    }
   ],
   "source": [
    "# define the Pandas UDF\n",
    "@pandas_udf(schema, PandasUDFType.GROUPED_MAP)\n",
    "def apply_model(store_pd):  # instantiate the model and set parameters\n",
    "  model = Prophet(\n",
    "      interval_width=0.95,\n",
    "      growth='linear',\n",
    "      n_changepoints = 150,\n",
    "      daily_seasonality=True,\n",
    "      weekly_seasonality=True,\n",
    "      yearly_seasonality=True,\n",
    "      seasonality_mode='additive'\n",
    "  )  # fit the model to historical data\n",
    "  model.fit(store_pd)  # Create a data frame that lists 90 dates starting from Jan 1 2018\n",
    "  future = model.make_future_dataframe(\n",
    "      periods=1, #valid_proph.filter(valid_proph.pickup_community_area==community_num).count(),\n",
    "      freq='h',\n",
    "      include_history=True\n",
    "   )  # Out of sample prediction\n",
    "  prediction = model.predict(future)  # Create a data frame that contains store, item, y, and yhat\n",
    "  f_pd = prediction[['ds', 'yhat', 'daily', 'weekly']]\n",
    "  st_pd = store_pd[['ds', 'pickup_community_area', 'y']]\n",
    "  result_pd = f_pd.join(st_pd.set_index('ds'), on='ds', how='left')  # fill store and item\n",
    "  result_pd['pickup_community_area'] = store_pd['pickup_community_area'].iloc[0]\n",
    "  return result_pd[['pickup_community_area', 'ds', 'y', 'yhat',\n",
    "                    'daily', 'weekly']]# Apply the function to all store-items\n",
    "# Print the results - calculate the time to run\n",
    "results = train_proph.groupby(['pickup_community_area']).apply(apply_model).cache()\n"
   ]
  },
  {
   "cell_type": "markdown",
   "id": "b5dfba98-53b1-4cdd-afdd-bfb3f2afa08a",
   "metadata": {},
   "source": [
    "## Переопределим тренировочную и тестовую выборки"
   ]
  },
  {
   "cell_type": "code",
   "execution_count": 63,
   "id": "390e9d30-207f-485b-bc9c-4624abb901bc",
   "metadata": {
    "scrolled": true
   },
   "outputs": [],
   "source": [
    "train_lr = all_hours_lagged.filter((all_hours_lagged.hour_cons < '2023-07-31 23:00:00')) \\\n",
    "    .selectExpr( 'pickup_community_area',\n",
    "    'med_cost_lagged1','med_miles_lagged1','med_seconds_lagged1',\n",
    "    'trips_count_lagged1', 'trips_count_lagged2', 'trips_count_lagged3', \n",
    "    'trips_count_lagged12', 'trips_count_lagged24','trips_count_lagged_week',\n",
    "    'rolling_average_on3hours',\n",
    "    'rolling_average_on24hours',\n",
    "    'hour_cons as ds', 'trips_count as y') \\\n",
    "        .join(results['pickup_community_area', 'ds', 'daily', 'weekly'], on=['ds','pickup_community_area'] , how='inner').cache()"
   ]
  },
  {
   "cell_type": "code",
   "execution_count": 64,
   "id": "b566231c-d76c-4b23-abe5-fe53331e946d",
   "metadata": {
    "scrolled": true
   },
   "outputs": [],
   "source": [
    "test_lr = all_hours_lagged.filter(all_hours_lagged.hour_cons == '2023-07-31 23:00:00') \\\n",
    "    .selectExpr('pickup_community_area',\n",
    "    'med_cost_lagged1','med_miles_lagged1','med_seconds_lagged1',\n",
    "    'trips_count_lagged1', 'trips_count_lagged2', 'trips_count_lagged3', \n",
    "    'trips_count_lagged12', 'trips_count_lagged24','trips_count_lagged_week',\n",
    "    'rolling_average_on3hours',\n",
    "    'rolling_average_on24hours',\n",
    "    'hour_cons as ds').join(     #'trips_count as y') \\\n",
    "    results['pickup_community_area', 'ds', 'daily', 'weekly'], on=['ds','pickup_community_area'] , how='inner').cache()"
   ]
  },
  {
   "cell_type": "code",
   "execution_count": 65,
   "id": "47422f21-09fe-456a-bdde-4f28f57b043f",
   "metadata": {},
   "outputs": [],
   "source": [
    "featureCols = [\n",
    "    'med_cost_lagged1','med_miles_lagged1','med_seconds_lagged1',\n",
    "    'trips_count_lagged1', 'trips_count_lagged2', 'trips_count_lagged3', \n",
    "    'trips_count_lagged12', 'trips_count_lagged24','trips_count_lagged_week',\n",
    "    'rolling_average_on3hours',\n",
    "    'rolling_average_on24hours',\n",
    "     'daily', 'weekly'\n",
    "]"
   ]
  },
  {
   "cell_type": "markdown",
   "id": "d315e02c-212f-4c2b-8f91-9f3d3f690cde",
   "metadata": {},
   "source": [
    "## Создадим pipeline"
   ]
  },
  {
   "cell_type": "code",
   "execution_count": 66,
   "id": "63c4bea9-0f51-4721-8891-5cee29195c69",
   "metadata": {
    "scrolled": true
   },
   "outputs": [],
   "source": [
    "# положить фичи в вектор\n",
    "assembler = VectorAssembler(inputCols=featureCols, outputCol=\"features\") "
   ]
  },
  {
   "cell_type": "code",
   "execution_count": 67,
   "id": "133d328c-7873-48fa-a23e-73d336f9876c",
   "metadata": {},
   "outputs": [],
   "source": [
    "standardScaler = StandardScaler(inputCol=\"features\", outputCol=\"features_scaled\", withStd = True)"
   ]
  },
  {
   "cell_type": "code",
   "execution_count": 68,
   "id": "6830fcaa-5ccd-4d01-941c-567efa5ac6a6",
   "metadata": {},
   "outputs": [],
   "source": [
    "lr = (LinearRegression(featuresCol='features_scaled', labelCol=\"y\", predictionCol='y_pred')) \n",
    "#                               maxIter=10, regParam=0.3, elasticNetParam=0.8, standardization=False))"
   ]
  },
  {
   "cell_type": "code",
   "execution_count": 69,
   "id": "a6b1bff7-9952-4355-94e8-3254df054ee2",
   "metadata": {},
   "outputs": [],
   "source": [
    "pipeline = Pipeline(stages=[assembler, standardScaler, lr])"
   ]
  },
  {
   "cell_type": "code",
   "execution_count": 70,
   "id": "3902d282-6671-4cea-847a-a0e06e311871",
   "metadata": {},
   "outputs": [],
   "source": [
    "evaluator = RegressionEvaluator(predictionCol=\"y_pred\", labelCol='y', metricName='mae')"
   ]
  },
  {
   "cell_type": "markdown",
   "id": "4362746f-cce1-4894-bba4-b6d10cdd36a1",
   "metadata": {},
   "source": [
    "## проведем предсказания для челевого часа аналогично валидационным данным"
   ]
  },
  {
   "cell_type": "code",
   "execution_count": 71,
   "id": "e3e6136b-154a-4410-8d71-0717fec9cc30",
   "metadata": {},
   "outputs": [],
   "source": [
    "def modelsandpredictions(func_community):\n",
    "        \n",
    "    temp_train = train_lr.filter(train_lr.pickup_community_area == func_community)\n",
    "    temp_test = test_lr.filter(test_lr.pickup_community_area == func_community)\n",
    "    \n",
    "    temp_lr = pipeline.fit(temp_train)\n",
    "    temp_pred = temp_lr.transform(temp_test)\n",
    "    temp_predandtrue = temp_pred.select(\n",
    "                                        'pickup_community_area',\n",
    "                                        'ds',\n",
    "                                        \"y_pred\", \n",
    "                                        ).withColumn(\"y_pred\",F.round(temp_pred[\"y_pred\"],0)) \n",
    "    temp_predandtrue = temp_predandtrue.withColumn('y_pred', F.when((F.col(\"y_pred\") <= 0), 0)\\\n",
    "        .otherwise(temp_predandtrue.y_pred)).cache()\n",
    "    #temp_lr = lr.fit(temp_train.union(temp_test))\n",
    "    #temp_lr.write().overwrite().save(\"/models/lr{0}\".format(i))\n",
    "    return temp_predandtrue"
   ]
  },
  {
   "cell_type": "code",
   "execution_count": 72,
   "id": "10d1c7aa-dc30-4bb2-8099-a479ebde3045",
   "metadata": {},
   "outputs": [],
   "source": [
    "preds_schema = StructType([ \\\n",
    "    StructField(\"pickup_community_area\",IntegerType (),True), \\\n",
    "    StructField(\"ds\",TimestampType(),True), \\\n",
    "    StructField(\"y_pred\",FloatType(),True) \\\n",
    "  ])"
   ]
  },
  {
   "cell_type": "code",
   "execution_count": 73,
   "id": "5ae41273-86db-4b02-9644-dee8dd644bd7",
   "metadata": {
    "scrolled": true
   },
   "outputs": [
    {
     "name": "stdout",
     "output_type": "stream",
     "text": [
      "CPU times: user 6.51 s, sys: 2.84 s, total: 9.34 s\n",
      "Wall time: 15min 3s\n"
     ]
    }
   ],
   "source": [
    "%%time\n",
    "test_preds = spark.createDataFrame([],preds_schema)\n",
    "for i in range(78):\n",
    "    test_preds = test_preds.union(modelsandpredictions(i))"
   ]
  },
  {
   "cell_type": "code",
   "execution_count": 74,
   "id": "e05d4ebc-b5d6-45ed-8c58-b9de7aca6ee8",
   "metadata": {
    "scrolled": true
   },
   "outputs": [
    {
     "name": "stdout",
     "output_type": "stream",
     "text": [
      "+---------------------+-------------------+------+\n",
      "|pickup_community_area|                 ds|y_pred|\n",
      "+---------------------+-------------------+------+\n",
      "|                    0|2023-07-31 23:00:00|  30.0|\n",
      "|                    1|2023-07-31 23:00:00|   2.0|\n",
      "|                    2|2023-07-31 23:00:00|   0.0|\n",
      "|                    3|2023-07-31 23:00:00|   3.0|\n",
      "|                    4|2023-07-31 23:00:00|   2.0|\n",
      "+---------------------+-------------------+------+\n",
      "only showing top 5 rows\n",
      "\n"
     ]
    },
    {
     "data": {
      "text/plain": [
       "78"
      ]
     },
     "execution_count": 74,
     "metadata": {},
     "output_type": "execute_result"
    }
   ],
   "source": [
    "test_preds.show(5)\n",
    "test_preds.count()"
   ]
  },
  {
   "cell_type": "code",
   "execution_count": 75,
   "id": "88ba257d-62a0-4c6c-8c25-6b0061b4bb3e",
   "metadata": {
    "scrolled": true
   },
   "outputs": [],
   "source": [
    "trueandpreds = test.join(test_preds, on=['ds','pickup_community_area'], how='inner') \\\n",
    "    .select(\n",
    "        test.ds,\n",
    "        test.pickup_community_area,\n",
    "        test.y,\n",
    "        test_preds.y_pred).cache()"
   ]
  },
  {
   "cell_type": "markdown",
   "id": "f0458ee9-5f09-46fd-aea8-55bd77634716",
   "metadata": {},
   "source": [
    "## Посмотрим финальные предсказания и оценим их"
   ]
  },
  {
   "cell_type": "code",
   "execution_count": 76,
   "id": "4f7f6fa3-9110-48cb-b0a9-f16ce094bc30",
   "metadata": {
    "scrolled": true
   },
   "outputs": [
    {
     "name": "stdout",
     "output_type": "stream",
     "text": [
      "+-------------------+---------------------+---+------+\n",
      "|                 ds|pickup_community_area|  y|y_pred|\n",
      "+-------------------+---------------------+---+------+\n",
      "|2023-07-31 23:00:00|                   77|  2|   4.0|\n",
      "|2023-07-31 23:00:00|                   76|160| 205.0|\n",
      "|2023-07-31 23:00:00|                   75|  0|   3.0|\n",
      "|2023-07-31 23:00:00|                   74|  0|   0.0|\n",
      "|2023-07-31 23:00:00|                   73|  0|   0.0|\n",
      "|2023-07-31 23:00:00|                   72|  0|   1.0|\n",
      "|2023-07-31 23:00:00|                   71|  0|   2.0|\n",
      "|2023-07-31 23:00:00|                   70|  0|   2.0|\n",
      "|2023-07-31 23:00:00|                   69|  2|   0.0|\n",
      "|2023-07-31 23:00:00|                   68|  0|   3.0|\n",
      "|2023-07-31 23:00:00|                   67|  0|   1.0|\n",
      "|2023-07-31 23:00:00|                   66|  2|   1.0|\n",
      "|2023-07-31 23:00:00|                   65|  0|   1.0|\n",
      "|2023-07-31 23:00:00|                   64|  0|   0.0|\n",
      "|2023-07-31 23:00:00|                   63|  0|   0.0|\n",
      "|2023-07-31 23:00:00|                   62|  0|   0.0|\n",
      "|2023-07-31 23:00:00|                   61|  0|   1.0|\n",
      "|2023-07-31 23:00:00|                   60|  0|   0.0|\n",
      "|2023-07-31 23:00:00|                   59|  0|   0.0|\n",
      "|2023-07-31 23:00:00|                   58|  0|   0.0|\n",
      "|2023-07-31 23:00:00|                   57|  1|   0.0|\n",
      "|2023-07-31 23:00:00|                   56| 31|  35.0|\n",
      "|2023-07-31 23:00:00|                   55|  0|   0.0|\n",
      "|2023-07-31 23:00:00|                   54|  0|   1.0|\n",
      "|2023-07-31 23:00:00|                   53|  0|   2.0|\n",
      "|2023-07-31 23:00:00|                   52|  0|   0.0|\n",
      "|2023-07-31 23:00:00|                   51|  0|   0.0|\n",
      "|2023-07-31 23:00:00|                   50|  3|   0.0|\n",
      "|2023-07-31 23:00:00|                   49|  1|   1.0|\n",
      "|2023-07-31 23:00:00|                   48|  0|   1.0|\n",
      "|2023-07-31 23:00:00|                   47|  0|   0.0|\n",
      "|2023-07-31 23:00:00|                   46|  0|   0.0|\n",
      "|2023-07-31 23:00:00|                   45|  0|   1.0|\n",
      "|2023-07-31 23:00:00|                   44|  0|   2.0|\n",
      "|2023-07-31 23:00:00|                   43|  1|   2.0|\n",
      "|2023-07-31 23:00:00|                   42|  0|   0.0|\n",
      "|2023-07-31 23:00:00|                   41|  5|   0.0|\n",
      "|2023-07-31 23:00:00|                   40|  0|   0.0|\n",
      "|2023-07-31 23:00:00|                   39|  0|   0.0|\n",
      "|2023-07-31 23:00:00|                   38|  0|   1.0|\n",
      "|2023-07-31 23:00:00|                   37|  0|   2.0|\n",
      "|2023-07-31 23:00:00|                   36|  1|   1.0|\n",
      "|2023-07-31 23:00:00|                   35|  1|   0.0|\n",
      "|2023-07-31 23:00:00|                   34|  1|   3.0|\n",
      "|2023-07-31 23:00:00|                   33|  4|   4.0|\n",
      "|2023-07-31 23:00:00|                   32| 28|  39.0|\n",
      "|2023-07-31 23:00:00|                   31|  0|   0.0|\n",
      "|2023-07-31 23:00:00|                   30|  0|   0.0|\n",
      "|2023-07-31 23:00:00|                   29|  0|   1.0|\n",
      "|2023-07-31 23:00:00|                   28| 31|  33.0|\n",
      "|2023-07-31 23:00:00|                   27|  0|   0.0|\n",
      "|2023-07-31 23:00:00|                   26|  0|   1.0|\n",
      "|2023-07-31 23:00:00|                   25|  0|   0.0|\n",
      "|2023-07-31 23:00:00|                   24|  1|   4.0|\n",
      "|2023-07-31 23:00:00|                   23|  2|   0.0|\n",
      "|2023-07-31 23:00:00|                   22|  5|   0.0|\n",
      "|2023-07-31 23:00:00|                   21|  0|   1.0|\n",
      "|2023-07-31 23:00:00|                   20|  0|   0.0|\n",
      "|2023-07-31 23:00:00|                   19|  0|   0.0|\n",
      "|2023-07-31 23:00:00|                   18|  0|   0.0|\n",
      "|2023-07-31 23:00:00|                   17|  0|   0.0|\n",
      "|2023-07-31 23:00:00|                   16|  1|   1.0|\n",
      "|2023-07-31 23:00:00|                   15|  0|   0.0|\n",
      "|2023-07-31 23:00:00|                   14|  1|   1.0|\n",
      "|2023-07-31 23:00:00|                   13|  0|   0.0|\n",
      "|2023-07-31 23:00:00|                   12|  0|   1.0|\n",
      "|2023-07-31 23:00:00|                   11|  1|   0.0|\n",
      "|2023-07-31 23:00:00|                   10|  2|   1.0|\n",
      "|2023-07-31 23:00:00|                    9|  0|   0.0|\n",
      "|2023-07-31 23:00:00|                    8| 63|  74.0|\n",
      "|2023-07-31 23:00:00|                    7|  8|   7.0|\n",
      "|2023-07-31 23:00:00|                    6| 49|  48.0|\n",
      "|2023-07-31 23:00:00|                    5|  4|   1.0|\n",
      "|2023-07-31 23:00:00|                    4|  0|   2.0|\n",
      "|2023-07-31 23:00:00|                    3|  5|   3.0|\n",
      "|2023-07-31 23:00:00|                    2|  1|   0.0|\n",
      "|2023-07-31 23:00:00|                    1|  2|   2.0|\n",
      "|2023-07-31 23:00:00|                    0| 22|  30.0|\n",
      "+-------------------+---------------------+---+------+\n",
      "\n",
      "LinearRegression MAE: 1.9102564102564104\n",
      "MAPE: [Row(avg((abs(((y - y_pred) / y)) * 100))=63.55259106922181)]\n",
      "CPU times: user 4.56 s, sys: 1.99 s, total: 6.55 s\n",
      "Wall time: 15min 41s\n"
     ]
    }
   ],
   "source": [
    "%%time\n",
    "trueandpreds.sort(trueandpreds.pickup_community_area.desc()).show(80)\n",
    "print(\"LinearRegression MAE: {0}\".format(evaluator.evaluate(trueandpreds)))\n",
    "print('MAPE:',\n",
    "    trueandpreds.select(avg((100*abs((trueandpreds.y - trueandpreds.y_pred) / trueandpreds.y)))).collect())"
   ]
  },
  {
   "cell_type": "markdown",
   "id": "da8f8d74-33c9-431a-870f-7ef8db64d912",
   "metadata": {},
   "source": [
    "# Итог:\n",
    "    Для предсказания количества заказов такси в каждом районе Чикаго в следующий час предлагается использовать модели машинного обучения на основе Линейных регрессий, отдельно обученные на данных для этого региона.\n",
    "    Их окончательные ошибки составили\n",
    "    МАЕ: 1.9102564102564104\n",
    "    МАРЕ: 63.55259106922181\n",
    "\n",
    "    Возможно, тестовые данные были обработаны иначе. Необходимо определить и скоординировать в частности, работу с пропусками и заполнение района 0 в тестовых и тренировочных данных."
   ]
  }
 ],
 "metadata": {
  "kernelspec": {
   "display_name": "Python 3 (ipykernel)",
   "language": "python",
   "name": "python3"
  },
  "language_info": {
   "codemirror_mode": {
    "name": "ipython",
    "version": 3
   },
   "file_extension": ".py",
   "mimetype": "text/x-python",
   "name": "python",
   "nbconvert_exporter": "python",
   "pygments_lexer": "ipython3",
   "version": "3.11.5"
  }
 },
 "nbformat": 4,
 "nbformat_minor": 5
}
