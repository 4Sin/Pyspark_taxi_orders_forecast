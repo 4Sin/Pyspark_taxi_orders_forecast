{
 "cells": [
  {
   "cell_type": "markdown",
   "id": "002d60f8-0395-4853-8731-fc013cc3391f",
   "metadata": {},
   "source": [
    "## Прогноз количества заказов такси"
   ]
  },
  {
   "cell_type": "markdown",
   "id": "0803c0a7-3fe6-4d8b-8951-f996d53ca3f6",
   "metadata": {},
   "source": [
    "Агрегатор такси в Чикаго хочет прогнозировать количество заказов в каждом районе. \n",
    "Это необходимо, чтобы в моменты пиковой нагрузки привлекать больше водителей, а во время спада оотправлять их в другие места. \n",
    "Для обучения модели машинного обучения предоставлены данные о 10 млн заказов такси за 2022 и 2023 год.\n",
    "Информацию собирает регулирующий орган. Из соображений конфиденциальности, идентификатор такси соответствует заданному номеру медальона такси, переписные участки в некоторых случаях скрыты, а время округляется до ближайших 15 минут.\n",
    "\n",
    "Метриками качества приняты МАЕ и MAPE.\n",
    "\n",
    "По условиям проекта, необходимо развернуть локальные контейнеры через Docker и произвести большую часть работ в PySpark."
   ]
  },
  {
   "cell_type": "markdown",
   "id": "57cfcf96-0cde-4eb0-8357-ea1da4449a42",
   "metadata": {},
   "source": [
    "# Этап 1: Обработка и исследование данных, выделение целевого показателя"
   ]
  },
  {
   "cell_type": "markdown",
   "id": "dadd99ae-97e3-4a56-a798-383ed0beffc3",
   "metadata": {},
   "source": [
    "### Импортируем библиотеки, загрузим данные, посмотрим их состав"
   ]
  },
  {
   "cell_type": "code",
   "execution_count": 1,
   "id": "c5aa97ab-65e4-4c9d-b4aa-e2fbbc3e8692",
   "metadata": {
    "scrolled": true
   },
   "outputs": [
    {
     "name": "stdout",
     "output_type": "stream",
     "text": [
      "Collecting prophet\n",
      "  Obtaining dependency information for prophet from https://files.pythonhosted.org/packages/7e/da/408e50ad8ce7dbca81d126377e57897784025647b719534f3529c4b71a9c/prophet-1.1.4-py3-none-manylinux_2_17_x86_64.manylinux2014_x86_64.whl.metadata\n",
      "  Downloading prophet-1.1.4-py3-none-manylinux_2_17_x86_64.manylinux2014_x86_64.whl.metadata (3.6 kB)\n",
      "Collecting cmdstanpy>=1.0.4 (from prophet)\n",
      "  Downloading cmdstanpy-1.1.0-py3-none-any.whl (83 kB)\n",
      "\u001b[2K     \u001b[90m━━━━━━━━━━━━━━━━━━━━━━━━━━━━━━━━━━━━━━━\u001b[0m \u001b[32m83.2/83.2 kB\u001b[0m \u001b[31m153.6 kB/s\u001b[0m eta \u001b[36m0:00:00\u001b[0ma \u001b[36m0:00:01\u001b[0m\n",
      "\u001b[?25hRequirement already satisfied: numpy>=1.15.4 in /opt/conda/lib/python3.11/site-packages (from prophet) (1.24.4)\n",
      "Requirement already satisfied: matplotlib>=2.0.0 in /opt/conda/lib/python3.11/site-packages (from prophet) (3.7.2)\n",
      "Requirement already satisfied: pandas>=1.0.4 in /opt/conda/lib/python3.11/site-packages (from prophet) (1.5.3)\n",
      "Collecting LunarCalendar>=0.0.9 (from prophet)\n",
      "  Downloading LunarCalendar-0.0.9-py2.py3-none-any.whl (18 kB)\n",
      "Collecting convertdate>=2.1.2 (from prophet)\n",
      "  Downloading convertdate-2.4.0-py3-none-any.whl (47 kB)\n",
      "\u001b[2K     \u001b[90m━━━━━━━━━━━━━━━━━━━━━━━━━━━━━━━━━━━━━━━\u001b[0m \u001b[32m47.9/47.9 kB\u001b[0m \u001b[31m584.6 kB/s\u001b[0m eta \u001b[36m0:00:00\u001b[0ma \u001b[36m0:00:01\u001b[0m\n",
      "\u001b[?25hCollecting holidays>=0.25 (from prophet)\n",
      "  Obtaining dependency information for holidays>=0.25 from https://files.pythonhosted.org/packages/0e/6d/8a673d26d687486aac3b2b77faaa9fe5f452cadc2fc586081ddeda3b5140/holidays-0.33-py3-none-any.whl.metadata\n",
      "  Downloading holidays-0.33-py3-none-any.whl.metadata (16 kB)\n",
      "Requirement already satisfied: python-dateutil>=2.8.0 in /opt/conda/lib/python3.11/site-packages (from prophet) (2.8.2)\n",
      "Requirement already satisfied: tqdm>=4.36.1 in /opt/conda/lib/python3.11/site-packages (from prophet) (4.66.1)\n",
      "Requirement already satisfied: importlib-resources in /opt/conda/lib/python3.11/site-packages (from prophet) (6.0.1)\n",
      "Collecting pymeeus<=1,>=0.3.13 (from convertdate>=2.1.2->prophet)\n",
      "  Downloading PyMeeus-0.5.12.tar.gz (5.8 MB)\n",
      "\u001b[2K     \u001b[90m━━━━━━━━━━━━━━━━━━━━━━━━━━━━━━━━━━━━━━━━\u001b[0m \u001b[32m5.8/5.8 MB\u001b[0m \u001b[31m1.3 MB/s\u001b[0m eta \u001b[36m0:00:00\u001b[0m00:01\u001b[0m00:01\u001b[0m0m\n",
      "\u001b[?25h  Preparing metadata (setup.py) ... \u001b[?25ldone\n",
      "\u001b[?25hCollecting ephem>=3.7.5.3 (from LunarCalendar>=0.0.9->prophet)\n",
      "  Downloading ephem-4.1.4-cp311-cp311-manylinux_2_17_x86_64.manylinux2014_x86_64.whl (1.8 MB)\n",
      "\u001b[2K     \u001b[90m━━━━━━━━━━━━━━━━━━━━━━━━━━━━━━━━━━━━━━━━\u001b[0m \u001b[32m1.8/1.8 MB\u001b[0m \u001b[31m1.1 MB/s\u001b[0m eta \u001b[36m0:00:00\u001b[0m00:01\u001b[0m00:01\u001b[0m0m\n",
      "\u001b[?25hRequirement already satisfied: pytz in /opt/conda/lib/python3.11/site-packages (from LunarCalendar>=0.0.9->prophet) (2023.3)\n",
      "Requirement already satisfied: contourpy>=1.0.1 in /opt/conda/lib/python3.11/site-packages (from matplotlib>=2.0.0->prophet) (1.1.0)\n",
      "Requirement already satisfied: cycler>=0.10 in /opt/conda/lib/python3.11/site-packages (from matplotlib>=2.0.0->prophet) (0.11.0)\n",
      "Requirement already satisfied: fonttools>=4.22.0 in /opt/conda/lib/python3.11/site-packages (from matplotlib>=2.0.0->prophet) (4.42.1)\n",
      "Requirement already satisfied: kiwisolver>=1.0.1 in /opt/conda/lib/python3.11/site-packages (from matplotlib>=2.0.0->prophet) (1.4.5)\n",
      "Requirement already satisfied: packaging>=20.0 in /opt/conda/lib/python3.11/site-packages (from matplotlib>=2.0.0->prophet) (23.1)\n",
      "Requirement already satisfied: pillow>=6.2.0 in /opt/conda/lib/python3.11/site-packages (from matplotlib>=2.0.0->prophet) (10.0.0)\n",
      "Requirement already satisfied: pyparsing<3.1,>=2.3.1 in /opt/conda/lib/python3.11/site-packages (from matplotlib>=2.0.0->prophet) (3.0.9)\n",
      "Requirement already satisfied: six>=1.5 in /opt/conda/lib/python3.11/site-packages (from python-dateutil>=2.8.0->prophet) (1.16.0)\n",
      "Downloading prophet-1.1.4-py3-none-manylinux_2_17_x86_64.manylinux2014_x86_64.whl (13.0 MB)\n",
      "\u001b[2K   \u001b[90m━━━━━━━━━━━━━━━━━━━━━━━━━━━━━━━━━━━━━━━━\u001b[0m \u001b[32m13.0/13.0 MB\u001b[0m \u001b[31m977.8 kB/s\u001b[0m eta \u001b[36m0:00:00\u001b[0m00:01\u001b[0m:01\u001b[0m\n",
      "\u001b[?25hDownloading holidays-0.33-py3-none-any.whl (759 kB)\n",
      "\u001b[2K   \u001b[90m━━━━━━━━━━━━━━━━━━━━━━━━━━━━━━━━━━━━━━━\u001b[0m \u001b[32m759.7/759.7 kB\u001b[0m \u001b[31m296.4 kB/s\u001b[0m eta \u001b[36m0:00:00\u001b[0ma \u001b[36m0:00:01\u001b[0m\n",
      "\u001b[?25hBuilding wheels for collected packages: pymeeus\n",
      "  Building wheel for pymeeus (setup.py) ... \u001b[?25ldone\n",
      "\u001b[?25h  Created wheel for pymeeus: filename=PyMeeus-0.5.12-py3-none-any.whl size=732000 sha256=4f2add255479bf08a46a7e97ee3ea0197f7f137a58074c648e07c28829e96ddf\n",
      "  Stored in directory: /home/jovyan/.cache/pip/wheels/8f/bd/f9/5c4c39b529e0322b08979e1c465e203218bc2cca75d20f7df5\n",
      "Successfully built pymeeus\n",
      "Installing collected packages: pymeeus, ephem, convertdate, LunarCalendar, holidays, cmdstanpy, prophet\n",
      "Successfully installed LunarCalendar-0.0.9 cmdstanpy-1.1.0 convertdate-2.4.0 ephem-4.1.4 holidays-0.33 prophet-1.1.4 pymeeus-0.5.12\n",
      "Note: you may need to restart the kernel to use updated packages.\n"
     ]
    }
   ],
   "source": [
    "pip install prophet"
   ]
  },
  {
   "cell_type": "code",
   "execution_count": 2,
   "id": "bfdf0fd2-b06a-46ee-ab91-65bf6725c806",
   "metadata": {},
   "outputs": [
    {
     "name": "stdout",
     "output_type": "stream",
     "text": [
      "Collecting plotly\n",
      "  Obtaining dependency information for plotly from https://files.pythonhosted.org/packages/df/79/c80174d711ee26ee5da55a9cc3e248f1ec7a0188b5e4d6bbbbcd09b974b0/plotly-5.17.0-py2.py3-none-any.whl.metadata\n",
      "  Downloading plotly-5.17.0-py2.py3-none-any.whl.metadata (7.0 kB)\n",
      "Collecting tenacity>=6.2.0 (from plotly)\n",
      "  Obtaining dependency information for tenacity>=6.2.0 from https://files.pythonhosted.org/packages/f4/f1/990741d5bb2487d529d20a433210ffa136a367751e454214013b441c4575/tenacity-8.2.3-py3-none-any.whl.metadata\n",
      "  Downloading tenacity-8.2.3-py3-none-any.whl.metadata (1.0 kB)\n",
      "Requirement already satisfied: packaging in /opt/conda/lib/python3.11/site-packages (from plotly) (23.1)\n",
      "Downloading plotly-5.17.0-py2.py3-none-any.whl (15.6 MB)\n",
      "\u001b[2K   \u001b[90m━━━━━━━━━━━━━━━━━━━━━━━━━━━━━━━━━━━━━━━━\u001b[0m \u001b[32m15.6/15.6 MB\u001b[0m \u001b[31m1.1 MB/s\u001b[0m eta \u001b[36m0:00:00\u001b[0m00:01\u001b[0m00:01\u001b[0m0m\n",
      "\u001b[?25hDownloading tenacity-8.2.3-py3-none-any.whl (24 kB)\n",
      "Installing collected packages: tenacity, plotly\n",
      "Successfully installed plotly-5.17.0 tenacity-8.2.3\n",
      "Note: you may need to restart the kernel to use updated packages.\n"
     ]
    }
   ],
   "source": [
    "pip install --upgrade plotly"
   ]
  },
  {
   "cell_type": "code",
   "execution_count": 3,
   "id": "add0c93c-deea-4c55-91f3-f06b412cacc1",
   "metadata": {},
   "outputs": [],
   "source": [
    "import pandas as pd\n",
    "import numpy as np\n",
    "import seaborn as sns\n",
    "import matplotlib.pyplot as plt\n",
    "import tracemalloc\n",
    "\n",
    "from pyspark.sql import SparkSession\n",
    "from pyspark.sql.functions import *\n",
    "import pyspark.sql.functions as F\n",
    "from pyspark.sql.types import *\n",
    "from pyspark.sql.window import Window"
   ]
  },
  {
   "cell_type": "code",
   "execution_count": 4,
   "id": "c543a3ab-369b-4309-94ef-1680eef82777",
   "metadata": {
    "scrolled": true
   },
   "outputs": [],
   "source": [
    "SPARK_MASTER_IP = '172.18.0.2' \n",
    "spark = SparkSession.builder.appName(\"pyspark-taxi-forecasting\") \\\n",
    "    .master(f\"spark://{SPARK_MASTER_IP}:7077\") \\\n",
    "    .config(\"spark.executor.cores\", 2) \\\n",
    "    .config('spark.local.dir', 'spark_tmp/') \\\n",
    "    .config(\"spark.task.cpus\", 2) \\\n",
    "    .getOrCreate()"
   ]
  },
  {
   "cell_type": "code",
   "execution_count": 5,
   "id": "6c881dda-8000-49e3-8181-09ba5ac49884",
   "metadata": {
    "scrolled": true
   },
   "outputs": [
    {
     "data": {
      "text/html": [
       "\n",
       "            <div>\n",
       "                <p><b>SparkSession - in-memory</b></p>\n",
       "                \n",
       "        <div>\n",
       "            <p><b>SparkContext</b></p>\n",
       "\n",
       "            <p><a href=\"http://1713daa73002:4040\">Spark UI</a></p>\n",
       "\n",
       "            <dl>\n",
       "              <dt>Version</dt>\n",
       "                <dd><code>v3.4.1</code></dd>\n",
       "              <dt>Master</dt>\n",
       "                <dd><code>spark://172.18.0.2:7077</code></dd>\n",
       "              <dt>AppName</dt>\n",
       "                <dd><code>pyspark-taxi-forecasting</code></dd>\n",
       "            </dl>\n",
       "        </div>\n",
       "        \n",
       "            </div>\n",
       "        "
      ],
      "text/plain": [
       "<pyspark.sql.session.SparkSession at 0x7fce66c61690>"
      ]
     },
     "execution_count": 5,
     "metadata": {},
     "output_type": "execute_result"
    }
   ],
   "source": [
    "spark"
   ]
  },
  {
   "cell_type": "code",
   "execution_count": 6,
   "id": "ac8bfe6b-0840-4f46-b4a5-6b4451f54841",
   "metadata": {
    "scrolled": true
   },
   "outputs": [
    {
     "name": "stdout",
     "output_type": "stream",
     "text": [
      "+--------------------+--------------------+--------------------+--------------------+------------+----------+-------------------+--------------------+---------------------+----------------------+-----+----+-----+------+----------+------------+--------------------+------------------------+-------------------------+------------------------+-------------------------+--------------------------+--------------------------+\n",
      "|             Trip ID|             Taxi ID|Trip Start Timestamp|  Trip End Timestamp|Trip Seconds|Trip Miles|Pickup Census Tract|Dropoff Census Tract|Pickup Community Area|Dropoff Community Area| Fare|Tips|Tolls|Extras|Trip Total|Payment Type|             Company|Pickup Centroid Latitude|Pickup Centroid Longitude|Pickup Centroid Location|Dropoff Centroid Latitude|Dropoff Centroid Longitude|Dropoff Centroid  Location|\n",
      "+--------------------+--------------------+--------------------+--------------------+------------+----------+-------------------+--------------------+---------------------+----------------------+-----+----+-----+------+----------+------------+--------------------+------------------------+-------------------------+------------------------+-------------------------+--------------------------+--------------------------+\n",
      "|bcfa19f2539021c05...|368ce5511598af2cc...|01/01/2022 12:00:...|01/01/2022 12:00:...|         152|       0.1|               null|                null|                 null|                  null| 3.75| 0.0|  0.0|   0.0|      3.75|        Cash|    Medallion Leasin|                    null|                     null|                    null|                     null|                      null|                      null|\n",
      "|2aba69ff015f9ea8e...|449fa490955275713...|01/01/2022 12:00:...|01/01/2022 12:30:...|        2360|     17.44|               null|                null|                 null|                     8|47.75| 0.0|  0.0|   5.0|     52.75|        Cash|           Flash Cab|                    null|                     null|                    null|             41.899602111|             -87.633308037|      POINT (-87.633308...|\n",
      "|54d812a0b88f8f970...|f98ae5e71fdda8806...|01/01/2022 12:00:...|01/01/2022 12:00:...|         536|      4.83|               null|                null|                   28|                    22|14.75| 0.0|  0.0|   0.0|     14.75|        Cash|          Globe Taxi|            41.874005383|             -87.66351755|    POINT (-87.663517...|              41.92276062|             -87.699155343|      POINT (-87.699155...|\n",
      "|7125b9e03a0f16c2d...|8eca35a570101ad24...|01/01/2022 12:00:...|01/01/2022 12:15:...|         897|      2.07|               null|                null|                    8|                    32| 9.75| 0.0|  0.0|   1.5|     11.25|        Cash|            Sun Taxi|            41.899602111|            -87.633308037|    POINT (-87.633308...|             41.878865584|             -87.625192142|      POINT (-87.625192...|\n",
      "|f1a650ee419b4e52d...|e2d8418fcdb061eee...|01/01/2022 12:00:...|01/01/2022 12:30:...|        2200|      2.48|               null|                null|                    8|                    32| 9.36|2.14|  0.0|   0.0|      11.5|      Mobile|Chicago Independents|            41.899602111|            -87.633308037|    POINT (-87.633308...|             41.878865584|             -87.625192142|      POINT (-87.625192...|\n",
      "+--------------------+--------------------+--------------------+--------------------+------------+----------+-------------------+--------------------+---------------------+----------------------+-----+----+-----+------+----------+------------+--------------------+------------------------+-------------------------+------------------------+-------------------------+--------------------------+--------------------------+\n",
      "only showing top 5 rows\n",
      "\n"
     ]
    }
   ],
   "source": [
    "dfsp22 = spark.read.csv(\"Taxi_Trips_-_2022.csv\", header = True, inferSchema = True)\n",
    "dfsp22.show(5)"
   ]
  },
  {
   "cell_type": "code",
   "execution_count": 7,
   "id": "2c5ce1ac-5c58-4091-88ae-1725142aaf0e",
   "metadata": {
    "scrolled": true
   },
   "outputs": [
    {
     "name": "stdout",
     "output_type": "stream",
     "text": [
      "+--------------------+--------------------+--------------------+--------------------+------------+----------+-------------------+--------------------+---------------------+----------------------+-----+----+-----+------+----------+------------+--------------------+------------------------+-------------------------+------------------------+-------------------------+--------------------------+--------------------------+\n",
      "|             Trip ID|             Taxi ID|Trip Start Timestamp|  Trip End Timestamp|Trip Seconds|Trip Miles|Pickup Census Tract|Dropoff Census Tract|Pickup Community Area|Dropoff Community Area| Fare|Tips|Tolls|Extras|Trip Total|Payment Type|             Company|Pickup Centroid Latitude|Pickup Centroid Longitude|Pickup Centroid Location|Dropoff Centroid Latitude|Dropoff Centroid Longitude|Dropoff Centroid  Location|\n",
      "+--------------------+--------------------+--------------------+--------------------+------------+----------+-------------------+--------------------+---------------------+----------------------+-----+----+-----+------+----------+------------+--------------------+------------------------+-------------------------+------------------------+-------------------------+--------------------------+--------------------------+\n",
      "|0fca59218b1168827...|e2c349c7cbb608d55...|01/01/2023 12:00:...|01/01/2023 12:15:...|        1037|      4.82|               null|                null|                    6|                    32|15.75|3.25|  0.0|   0.0|      19.5| Credit Card|Taxicab Insurance...|            41.944226601|            -87.655998182|    POINT (-87.655998...|             41.878865584|             -87.625192142|      POINT (-87.625192...|\n",
      "|1e539d6e7501164c6...|4ab7a7510c1ebcc9b...|01/01/2023 12:00:...|01/01/2023 12:15:...|        1341|     16.63|               null|                null|                   76|                     8| 41.5| 5.0|  0.0|   6.0|      53.0| Credit Card|            Sun Taxi|            41.980264315|            -87.913624596|    POINT (-87.913624...|             41.899602111|             -87.633308037|      POINT (-87.633308...|\n",
      "|2b3c5200439d51f62...|8c76eb82f069c0731...|01/01/2023 12:00:...|01/01/2023 12:15:...|         844|      3.84|               null|                null|                   24|                     8|16.14|4.03|  0.0|   0.0|     20.17|      Mobile|            Sun Taxi|            41.901206994|            -87.676355989|    POINT (-87.676355...|             41.899602111|             -87.633308037|      POINT (-87.633308...|\n",
      "|45b2ea39cfff64d61...|a688de71e9eb70603...|01/01/2023 12:00:...|01/01/2023 12:00:...|         361|      0.63|               null|                null|                   32|                    32|  5.5| 0.0|  0.0|   1.0|       6.5|        Cash|         5 Star Taxi|            41.878865584|            -87.625192142|    POINT (-87.625192...|             41.878865584|             -87.625192142|      POINT (-87.625192...|\n",
      "|464df6aaaf97ca874...|8b1a88e5a09cfd55c...|01/01/2023 12:00:...|01/01/2023 12:15:...|         704|      0.99|               null|                null|                   14|                    14| 7.75| 0.0|  0.0|   0.0|      7.75|        Cash|           Flash Cab|               41.968069|            -87.721559063|    POINT (-87.721559...|                41.968069|             -87.721559063|      POINT (-87.721559...|\n",
      "+--------------------+--------------------+--------------------+--------------------+------------+----------+-------------------+--------------------+---------------------+----------------------+-----+----+-----+------+----------+------------+--------------------+------------------------+-------------------------+------------------------+-------------------------+--------------------------+--------------------------+\n",
      "only showing top 5 rows\n",
      "\n"
     ]
    }
   ],
   "source": [
    "dfsp23 = spark.read.csv(\"Taxi_Trips_-_2023.csv\", header = True, inferSchema = True)\n",
    "lim23 = '2023-07-31 23:00'\n",
    "dfsp23 = dfsp23.filter(F.to_timestamp(F.col('Trip Start Timestamp'), 'MM/dd/yyyy hh:mm:ss a')<lim23)\n",
    "dfsp23.show(5)"
   ]
  },
  {
   "cell_type": "markdown",
   "id": "7ccfd18a-2490-406a-a389-a401284f62b0",
   "metadata": {},
   "source": [
    "    В последнем часе наблюдений 2023-08-01 00:00 поездок мало, заказчик просил его не учитывать.\n",
    "\n",
    "    в качестве тестового берем 2023-07-31 23:00, поэтому сразу отрежем все наблюдения по нему."
   ]
  },
  {
   "cell_type": "code",
   "execution_count": 8,
   "id": "3a5196ab-4161-4434-a92c-b3ba47a692c1",
   "metadata": {
    "scrolled": true
   },
   "outputs": [
    {
     "name": "stdout",
     "output_type": "stream",
     "text": [
      "<class 'pyspark.sql.dataframe.DataFrame'>\n",
      "root\n",
      " |-- Trip ID: string (nullable = true)\n",
      " |-- Taxi ID: string (nullable = true)\n",
      " |-- Trip Start Timestamp: string (nullable = true)\n",
      " |-- Trip End Timestamp: string (nullable = true)\n",
      " |-- Trip Seconds: integer (nullable = true)\n",
      " |-- Trip Miles: double (nullable = true)\n",
      " |-- Pickup Census Tract: long (nullable = true)\n",
      " |-- Dropoff Census Tract: long (nullable = true)\n",
      " |-- Pickup Community Area: integer (nullable = true)\n",
      " |-- Dropoff Community Area: integer (nullable = true)\n",
      " |-- Fare: double (nullable = true)\n",
      " |-- Tips: double (nullable = true)\n",
      " |-- Tolls: double (nullable = true)\n",
      " |-- Extras: double (nullable = true)\n",
      " |-- Trip Total: double (nullable = true)\n",
      " |-- Payment Type: string (nullable = true)\n",
      " |-- Company: string (nullable = true)\n",
      " |-- Pickup Centroid Latitude: double (nullable = true)\n",
      " |-- Pickup Centroid Longitude: double (nullable = true)\n",
      " |-- Pickup Centroid Location: string (nullable = true)\n",
      " |-- Dropoff Centroid Latitude: double (nullable = true)\n",
      " |-- Dropoff Centroid Longitude: double (nullable = true)\n",
      " |-- Dropoff Centroid  Location: string (nullable = true)\n",
      "\n"
     ]
    }
   ],
   "source": [
    "print(type(dfsp22))\n",
    "dfsp22.printSchema()"
   ]
  },
  {
   "cell_type": "markdown",
   "id": "1a187ded-ab99-4f72-8d9d-04dce64081c5",
   "metadata": {},
   "source": [
    "## Объединим данные, обработаем дубликаты, пропуски, выбросы"
   ]
  },
  {
   "cell_type": "code",
   "execution_count": 9,
   "id": "00c3a7f8-07b5-468a-ae04-f5802fa11ae6",
   "metadata": {},
   "outputs": [
    {
     "name": "stdout",
     "output_type": "stream",
     "text": [
      "Данные за 2022 и 2023 годы успешно объединены\n"
     ]
    }
   ],
   "source": [
    "if dfsp22.columns != dfsp23.columns:\n",
    "    print('разная структура')\n",
    "else:\n",
    "    dfsp = dfsp22.union(dfsp23).cache()\n",
    "    print('Данные за 2022 и 2023 годы успешно объединены')\n"
   ]
  },
  {
   "cell_type": "markdown",
   "id": "d1ff7784-e92a-4096-b7f2-0907d873ec6c",
   "metadata": {},
   "source": [
    "#проверим на дубликаты\n",
    "df = dfsp.dropDuplicates(dfsp.columns)\n",
    "if df.count() == dfsp.count():\n",
    "    print('как и заявлено в описании данных, полных дубликатов нет')\n",
    "\n",
    "else: \n",
    "    print('Полных дубликатов', dfsp.dropDuplicates(dfsp.columns))\n"
   ]
  },
  {
   "cell_type": "code",
   "execution_count": 10,
   "id": "18499ff4-2408-4abc-b4e9-a41b9e18bb3b",
   "metadata": {},
   "outputs": [
    {
     "data": {
      "text/plain": [
       "10165684"
      ]
     },
     "execution_count": 10,
     "metadata": {},
     "output_type": "execute_result"
    }
   ],
   "source": [
    "dfsp.dropDuplicates(dfsp.columns).count()"
   ]
  },
  {
   "cell_type": "code",
   "execution_count": 11,
   "id": "29dfac62-c295-4a9c-bbbc-a59d4155c71a",
   "metadata": {},
   "outputs": [
    {
     "name": "stdout",
     "output_type": "stream",
     "text": [
      "['trip_id', 'taxi_id', 'trip_start_timestamp', 'trip_end_timestamp', 'trip_seconds', 'trip_miles', 'pickup_census_tract', 'dropoff_census_tract', 'pickup_community_area', 'dropoff_community_area', 'fare', 'tips', 'tolls', 'extras', 'trip_total', 'payment_type', 'company', 'pickup_centroid_latitude', 'pickup_centroid_longitude', 'pickup_centroid_location', 'dropoff_centroid_latitude', 'dropoff_centroid_longitude', 'dropoff_centroid__location']\n"
     ]
    }
   ],
   "source": [
    "#переименуем колонки в df\n",
    "for col in dfsp.columns:\n",
    "    dfsp = dfsp.withColumnRenamed(col, col.lower().replace(' ', '_'))\n",
    "print(dfsp.columns)"
   ]
  },
  {
   "cell_type": "code",
   "execution_count": 12,
   "id": "a0b28a8e-559f-46c1-b841-893507afa588",
   "metadata": {},
   "outputs": [
    {
     "name": "stdout",
     "output_type": "stream",
     "text": [
      "Количество используемой памяти 1_488 байт, пиковое 14_432 байт\n"
     ]
    }
   ],
   "source": [
    "tracemalloc.start()\n",
    "def mem_use():\n",
    "    mem_size, mem_peak = tracemalloc.get_traced_memory()\n",
    "    print(f'Количество используемой памяти {mem_size:_} байт, '\n",
    "          f'пиковое {mem_peak:_} байт')\n",
    "\n",
    "mem_use()"
   ]
  },
  {
   "cell_type": "code",
   "execution_count": 13,
   "id": "909fd821-d509-407e-aea4-ee678e49568e",
   "metadata": {
    "scrolled": true
   },
   "outputs": [
    {
     "name": "stdout",
     "output_type": "stream",
     "text": [
      "+------------------------------+------------------------------+----------------------+----------------------+------------+----------+-------------------+--------------------+---------------------+----------------------+-----+----+-----+------+----------+------------+--------------------+------------------------+-------------------------+------------------------------+-------------------------+--------------------------+------------------------------+\n",
      "|                       trip_id|                       taxi_id|  trip_start_timestamp|    trip_end_timestamp|trip_seconds|trip_miles|pickup_census_tract|dropoff_census_tract|pickup_community_area|dropoff_community_area| fare|tips|tolls|extras|trip_total|payment_type|             company|pickup_centroid_latitude|pickup_centroid_longitude|      pickup_centroid_location|dropoff_centroid_latitude|dropoff_centroid_longitude|    dropoff_centroid__location|\n",
      "+------------------------------+------------------------------+----------------------+----------------------+------------+----------+-------------------+--------------------+---------------------+----------------------+-----+----+-----+------+----------+------------+--------------------+------------------------+-------------------------+------------------------------+-------------------------+--------------------------+------------------------------+\n",
      "|bcfa19f2539021c054809d4c399...|368ce5511598af2cc07efdb6806...|01/01/2022 12:00:00 AM|01/01/2022 12:00:00 AM|         152|       0.1|               null|                null|                 null|                  null| 3.75| 0.0|  0.0|   0.0|      3.75|        Cash|    Medallion Leasin|                    null|                     null|                          null|                     null|                      null|                          null|\n",
      "|2aba69ff015f9ea8e7bff43cab7...|449fa4909552757130d09d98ebc...|01/01/2022 12:00:00 AM|01/01/2022 12:30:00 AM|        2360|     17.44|               null|                null|                 null|                     8|47.75| 0.0|  0.0|   5.0|     52.75|        Cash|           Flash Cab|                    null|                     null|                          null|             41.899602111|             -87.633308037|POINT (-87.6333080367 41.89...|\n",
      "|54d812a0b88f8f9707825261014...|f98ae5e71fdda8806710af321dc...|01/01/2022 12:00:00 AM|01/01/2022 12:00:00 AM|         536|      4.83|               null|                null|                   28|                    22|14.75| 0.0|  0.0|   0.0|     14.75|        Cash|          Globe Taxi|            41.874005383|             -87.66351755|POINT (-87.6635175498 41.87...|              41.92276062|             -87.699155343|POINT (-87.6991553432 41.92...|\n",
      "|7125b9e03a0f16c2dfb5eaf73ed...|8eca35a570101ad24c638f1f43e...|01/01/2022 12:00:00 AM|01/01/2022 12:15:00 AM|         897|      2.07|               null|                null|                    8|                    32| 9.75| 0.0|  0.0|   1.5|     11.25|        Cash|            Sun Taxi|            41.899602111|            -87.633308037|POINT (-87.6333080367 41.89...|             41.878865584|             -87.625192142|POINT (-87.6251921424 41.87...|\n",
      "|f1a650ee419b4e52d766432e6f8...|e2d8418fcdb061eee0a4318fba0...|01/01/2022 12:00:00 AM|01/01/2022 12:30:00 AM|        2200|      2.48|               null|                null|                    8|                    32| 9.36|2.14|  0.0|   0.0|      11.5|      Mobile|Chicago Independents|            41.899602111|            -87.633308037|POINT (-87.6333080367 41.89...|             41.878865584|             -87.625192142|POINT (-87.6251921424 41.87...|\n",
      "+------------------------------+------------------------------+----------------------+----------------------+------------+----------+-------------------+--------------------+---------------------+----------------------+-----+----+-----+------+----------+------------+--------------------+------------------------+-------------------------+------------------------------+-------------------------+--------------------------+------------------------------+\n",
      "only showing top 5 rows\n",
      "\n"
     ]
    },
    {
     "data": {
      "text/plain": [
       "10165684"
      ]
     },
     "execution_count": 13,
     "metadata": {},
     "output_type": "execute_result"
    }
   ],
   "source": [
    "dfsp.show(5, truncate = 30)\n",
    "dfsp.count()"
   ]
  },
  {
   "cell_type": "code",
   "execution_count": 14,
   "id": "a69805cc-c79d-4d1f-a890-60091f91e043",
   "metadata": {
    "scrolled": true
   },
   "outputs": [
    {
     "name": "stdout",
     "output_type": "stream",
     "text": [
      "+---------------------+\n",
      "|pickup_community_area|\n",
      "+---------------------+\n",
      "|                 null|\n",
      "|                    1|\n",
      "|                    2|\n",
      "|                    3|\n",
      "|                    4|\n",
      "|                    5|\n",
      "|                    6|\n",
      "|                    7|\n",
      "|                    8|\n",
      "|                    9|\n",
      "|                   10|\n",
      "|                   11|\n",
      "|                   12|\n",
      "|                   13|\n",
      "|                   14|\n",
      "|                   15|\n",
      "|                   16|\n",
      "|                   17|\n",
      "|                   18|\n",
      "|                   19|\n",
      "|                   20|\n",
      "|                   21|\n",
      "|                   22|\n",
      "|                   23|\n",
      "|                   24|\n",
      "|                   25|\n",
      "|                   26|\n",
      "|                   27|\n",
      "|                   28|\n",
      "|                   29|\n",
      "|                   30|\n",
      "|                   31|\n",
      "|                   32|\n",
      "|                   33|\n",
      "|                   34|\n",
      "|                   35|\n",
      "|                   36|\n",
      "|                   37|\n",
      "|                   38|\n",
      "|                   39|\n",
      "|                   40|\n",
      "|                   41|\n",
      "|                   42|\n",
      "|                   43|\n",
      "|                   44|\n",
      "|                   45|\n",
      "|                   46|\n",
      "|                   47|\n",
      "|                   48|\n",
      "|                   49|\n",
      "|                   50|\n",
      "|                   51|\n",
      "|                   52|\n",
      "|                   53|\n",
      "|                   54|\n",
      "|                   55|\n",
      "|                   56|\n",
      "|                   57|\n",
      "|                   58|\n",
      "|                   59|\n",
      "|                   60|\n",
      "|                   61|\n",
      "|                   62|\n",
      "|                   63|\n",
      "|                   64|\n",
      "|                   65|\n",
      "|                   66|\n",
      "|                   67|\n",
      "|                   68|\n",
      "|                   69|\n",
      "|                   70|\n",
      "|                   71|\n",
      "|                   72|\n",
      "|                   73|\n",
      "|                   74|\n",
      "|                   75|\n",
      "|                   76|\n",
      "|                   77|\n",
      "+---------------------+\n",
      "\n"
     ]
    },
    {
     "data": {
      "text/plain": [
       "78"
      ]
     },
     "execution_count": 14,
     "metadata": {},
     "output_type": "execute_result"
    }
   ],
   "source": [
    "dfsp.select('pickup_community_area').distinct().sort(dfsp.pickup_community_area.asc()).show(80)\n",
    "dfsp.select('pickup_community_area').distinct().count()"
   ]
  },
  {
   "cell_type": "code",
   "execution_count": 15,
   "id": "70b5295c-99c1-4f73-9c9a-6b9261840414",
   "metadata": {
    "scrolled": true
   },
   "outputs": [
    {
     "data": {
      "text/html": [
       "<div>\n",
       "<style scoped>\n",
       "    .dataframe tbody tr th:only-of-type {\n",
       "        vertical-align: middle;\n",
       "    }\n",
       "\n",
       "    .dataframe tbody tr th {\n",
       "        vertical-align: top;\n",
       "    }\n",
       "\n",
       "    .dataframe thead th {\n",
       "        text-align: right;\n",
       "    }\n",
       "</style>\n",
       "<table border=\"1\" class=\"dataframe\">\n",
       "  <thead>\n",
       "    <tr style=\"text-align: right;\">\n",
       "      <th></th>\n",
       "      <th>count</th>\n",
       "    </tr>\n",
       "  </thead>\n",
       "  <tbody>\n",
       "    <tr>\n",
       "      <th>pickup_census_tract</th>\n",
       "      <td>5891728</td>\n",
       "    </tr>\n",
       "    <tr>\n",
       "      <th>dropoff_census_tract</th>\n",
       "      <td>5872822</td>\n",
       "    </tr>\n",
       "    <tr>\n",
       "      <th>dropoff_community_area</th>\n",
       "      <td>998271</td>\n",
       "    </tr>\n",
       "    <tr>\n",
       "      <th>dropoff_centroid__location</th>\n",
       "      <td>939636</td>\n",
       "    </tr>\n",
       "    <tr>\n",
       "      <th>dropoff_centroid_longitude</th>\n",
       "      <td>939636</td>\n",
       "    </tr>\n",
       "    <tr>\n",
       "      <th>dropoff_centroid_latitude</th>\n",
       "      <td>939636</td>\n",
       "    </tr>\n",
       "    <tr>\n",
       "      <th>pickup_community_area</th>\n",
       "      <td>681597</td>\n",
       "    </tr>\n",
       "    <tr>\n",
       "      <th>pickup_centroid_location</th>\n",
       "      <td>677907</td>\n",
       "    </tr>\n",
       "    <tr>\n",
       "      <th>pickup_centroid_longitude</th>\n",
       "      <td>677907</td>\n",
       "    </tr>\n",
       "    <tr>\n",
       "      <th>pickup_centroid_latitude</th>\n",
       "      <td>677907</td>\n",
       "    </tr>\n",
       "    <tr>\n",
       "      <th>extras</th>\n",
       "      <td>8938</td>\n",
       "    </tr>\n",
       "    <tr>\n",
       "      <th>trip_total</th>\n",
       "      <td>8938</td>\n",
       "    </tr>\n",
       "    <tr>\n",
       "      <th>tips</th>\n",
       "      <td>8938</td>\n",
       "    </tr>\n",
       "    <tr>\n",
       "      <th>tolls</th>\n",
       "      <td>8938</td>\n",
       "    </tr>\n",
       "    <tr>\n",
       "      <th>fare</th>\n",
       "      <td>8938</td>\n",
       "    </tr>\n",
       "    <tr>\n",
       "      <th>trip_seconds</th>\n",
       "      <td>2183</td>\n",
       "    </tr>\n",
       "    <tr>\n",
       "      <th>trip_end_timestamp</th>\n",
       "      <td>260</td>\n",
       "    </tr>\n",
       "    <tr>\n",
       "      <th>trip_miles</th>\n",
       "      <td>69</td>\n",
       "    </tr>\n",
       "    <tr>\n",
       "      <th>taxi_id</th>\n",
       "      <td>0</td>\n",
       "    </tr>\n",
       "    <tr>\n",
       "      <th>payment_type</th>\n",
       "      <td>0</td>\n",
       "    </tr>\n",
       "    <tr>\n",
       "      <th>company</th>\n",
       "      <td>0</td>\n",
       "    </tr>\n",
       "    <tr>\n",
       "      <th>trip_start_timestamp</th>\n",
       "      <td>0</td>\n",
       "    </tr>\n",
       "    <tr>\n",
       "      <th>trip_id</th>\n",
       "      <td>0</td>\n",
       "    </tr>\n",
       "  </tbody>\n",
       "</table>\n",
       "</div>"
      ],
      "text/plain": [
       "                              count\n",
       "pickup_census_tract         5891728\n",
       "dropoff_census_tract        5872822\n",
       "dropoff_community_area       998271\n",
       "dropoff_centroid__location   939636\n",
       "dropoff_centroid_longitude   939636\n",
       "dropoff_centroid_latitude    939636\n",
       "pickup_community_area        681597\n",
       "pickup_centroid_location     677907\n",
       "pickup_centroid_longitude    677907\n",
       "pickup_centroid_latitude     677907\n",
       "extras                         8938\n",
       "trip_total                     8938\n",
       "tips                           8938\n",
       "tolls                          8938\n",
       "fare                           8938\n",
       "trip_seconds                   2183\n",
       "trip_end_timestamp              260\n",
       "trip_miles                       69\n",
       "taxi_id                           0\n",
       "payment_type                      0\n",
       "company                           0\n",
       "trip_start_timestamp              0\n",
       "trip_id                           0"
      ]
     },
     "execution_count": 15,
     "metadata": {},
     "output_type": "execute_result"
    }
   ],
   "source": [
    "# Посчитаем пропуски\n",
    "def count_missings(spark_df,sort=True):\n",
    "    \"\"\"\n",
    "    Counts number of nulls and nans in each column\n",
    "    \"\"\"\n",
    "    df = spark_df.select([F.count(F.when(F.isnan(c) | F.isnull(c), c)).alias(c) for (c,c_type) in spark_df.dtypes if c_type not in ('timestamp')]).toPandas()\n",
    "\n",
    "    if len(df) == 0:\n",
    "        print(\"There are no any missing values!\")\n",
    "        return None\n",
    "\n",
    "    if sort:\n",
    "        return df.rename(index={0: 'count'}).T.sort_values(\"count\",ascending=False)\n",
    "\n",
    "    return df\n",
    "count_missings(dfsp)"
   ]
  },
  {
   "cell_type": "markdown",
   "id": "37b03762-c05e-4e9e-bb03-3d63b8c15a81",
   "metadata": {},
   "source": [
    "    По задаче нам необходимо предсказть количество заказов и необходимое количество машин в Community. Если в строке нет данных о районе, отсутствует определяющий признак."
   ]
  },
  {
   "cell_type": "markdown",
   "id": "be157ba5-8910-4867-82f1-c2ab40fc95b6",
   "metadata": {},
   "source": [
    "### Посмотрим цензусы пропусков в Коммьюнити"
   ]
  },
  {
   "cell_type": "code",
   "execution_count": 16,
   "id": "f3de91b9-cc86-48db-a39e-f815434c41d9",
   "metadata": {},
   "outputs": [],
   "source": [
    "empty_census = dfsp.filter('pickup_community_area is NULL and pickup_census_tract is not NULL').select(\n",
    "    'pickup_census_tract', 'pickup_community_area').distinct()"
   ]
  },
  {
   "cell_type": "code",
   "execution_count": 17,
   "id": "4e5b2180-df21-4bdd-a8eb-4adc3a16ef4b",
   "metadata": {
    "scrolled": true
   },
   "outputs": [
    {
     "name": "stdout",
     "output_type": "stream",
     "text": [
      "+-------------------+\n",
      "|pickup_census_tract|\n",
      "+-------------------+\n",
      "|        17031806900|\n",
      "|        17031820902|\n",
      "|        17031802505|\n",
      "|        17031802801|\n",
      "|        17031808002|\n",
      "|        17031803005|\n",
      "|        17031807700|\n",
      "|        17031815600|\n",
      "|        17031803608|\n",
      "|        17031770700|\n",
      "|        17031820606|\n",
      "|        17031801901|\n",
      "|        17031810900|\n",
      "|        17031803016|\n",
      "|        17031805105|\n",
      "|        17031821200|\n",
      "|        17031807000|\n",
      "|        17031827901|\n",
      "|        17031802900|\n",
      "|        17031827801|\n",
      "+-------------------+\n",
      "only showing top 20 rows\n",
      "\n"
     ]
    }
   ],
   "source": [
    "empty_census = empty_census.select('pickup_census_tract')\n",
    "empty_census.show()"
   ]
  },
  {
   "cell_type": "code",
   "execution_count": 18,
   "id": "53327697-a644-46b3-92b2-abcaa784187a",
   "metadata": {},
   "outputs": [
    {
     "data": {
      "text/plain": [
       "4991"
      ]
     },
     "execution_count": 18,
     "metadata": {},
     "output_type": "execute_result"
    }
   ],
   "source": [
    "dfsp.filter('pickup_community_area is NULL and pickup_census_tract is not NULL').select(\n",
    "    'pickup_census_tract', 'pickup_community_area').count()"
   ]
  },
  {
   "cell_type": "markdown",
   "id": "0c89bd35-8bd6-4c48-81e0-28586b1a03e5",
   "metadata": {},
   "source": [
    "#### Промежуточный вывод:\n",
    "    Для обучения предотоставлены данные о 10 млн заказов. в данных есть следующие артефакты:\n",
    "    1. данные о времени представлены в формате строк.\n",
    "    2. пропуски, в том числе 681620 в столбцах с районом\n",
    "        - у некоторых пропусков в районах есть Цензус. По карте эти цензусы находятся в разных пригородах.\n",
    "        Можно в дальнейшем заполнить из ближайшими соседями или вручную.\n",
    "        https://www.chicagocityscape.com/index.php - здесь можно найти расположение цензусов вне городской черты\n",
    "        https://www.chicagocityscape.com/maps/index.php?place=censustract-17031801500\n",
    "        Пока заполним все пропуски в районах 0."
   ]
  },
  {
   "cell_type": "code",
   "execution_count": 19,
   "id": "d1e5a8a4-0946-4229-912d-cb8143d246d3",
   "metadata": {},
   "outputs": [],
   "source": [
    "dfsp = dfsp.fillna(0, subset=['pickup_community_area'])"
   ]
  },
  {
   "cell_type": "code",
   "execution_count": 20,
   "id": "850832ca-d2ea-427a-b27d-1f5a2f04c552",
   "metadata": {
    "scrolled": true
   },
   "outputs": [
    {
     "name": "stdout",
     "output_type": "stream",
     "text": [
      "+--------------------+--------------------+--------------------+--------------------+------------+----------+-------------------+--------------------+---------------------+----------------------+-----+----+-----+------+----------+------------+--------------------+------------------------+-------------------------+------------------------+-------------------------+--------------------------+--------------------------+\n",
      "|             trip_id|             taxi_id|trip_start_timestamp|  trip_end_timestamp|trip_seconds|trip_miles|pickup_census_tract|dropoff_census_tract|pickup_community_area|dropoff_community_area| fare|tips|tolls|extras|trip_total|payment_type|             company|pickup_centroid_latitude|pickup_centroid_longitude|pickup_centroid_location|dropoff_centroid_latitude|dropoff_centroid_longitude|dropoff_centroid__location|\n",
      "+--------------------+--------------------+--------------------+--------------------+------------+----------+-------------------+--------------------+---------------------+----------------------+-----+----+-----+------+----------+------------+--------------------+------------------------+-------------------------+------------------------+-------------------------+--------------------------+--------------------------+\n",
      "|bcfa19f2539021c05...|368ce5511598af2cc...|01/01/2022 12:00:...|01/01/2022 12:00:...|         152|       0.1|               null|                null|                    0|                  null| 3.75| 0.0|  0.0|   0.0|      3.75|        Cash|    Medallion Leasin|                    null|                     null|                    null|                     null|                      null|                      null|\n",
      "|2aba69ff015f9ea8e...|449fa490955275713...|01/01/2022 12:00:...|01/01/2022 12:30:...|        2360|     17.44|               null|                null|                    0|                     8|47.75| 0.0|  0.0|   5.0|     52.75|        Cash|           Flash Cab|                    null|                     null|                    null|             41.899602111|             -87.633308037|      POINT (-87.633308...|\n",
      "|54d812a0b88f8f970...|f98ae5e71fdda8806...|01/01/2022 12:00:...|01/01/2022 12:00:...|         536|      4.83|               null|                null|                   28|                    22|14.75| 0.0|  0.0|   0.0|     14.75|        Cash|          Globe Taxi|            41.874005383|             -87.66351755|    POINT (-87.663517...|              41.92276062|             -87.699155343|      POINT (-87.699155...|\n",
      "|7125b9e03a0f16c2d...|8eca35a570101ad24...|01/01/2022 12:00:...|01/01/2022 12:15:...|         897|      2.07|               null|                null|                    8|                    32| 9.75| 0.0|  0.0|   1.5|     11.25|        Cash|            Sun Taxi|            41.899602111|            -87.633308037|    POINT (-87.633308...|             41.878865584|             -87.625192142|      POINT (-87.625192...|\n",
      "|f1a650ee419b4e52d...|e2d8418fcdb061eee...|01/01/2022 12:00:...|01/01/2022 12:30:...|        2200|      2.48|               null|                null|                    8|                    32| 9.36|2.14|  0.0|   0.0|      11.5|      Mobile|Chicago Independents|            41.899602111|            -87.633308037|    POINT (-87.633308...|             41.878865584|             -87.625192142|      POINT (-87.625192...|\n",
      "+--------------------+--------------------+--------------------+--------------------+------------+----------+-------------------+--------------------+---------------------+----------------------+-----+----+-----+------+----------+------------+--------------------+------------------------+-------------------------+------------------------+-------------------------+--------------------------+--------------------------+\n",
      "only showing top 5 rows\n",
      "\n"
     ]
    }
   ],
   "source": [
    "dfsp.show(5)"
   ]
  },
  {
   "cell_type": "code",
   "execution_count": 21,
   "id": "65538079-73f9-4182-a291-f4a88a77898f",
   "metadata": {
    "scrolled": true
   },
   "outputs": [
    {
     "data": {
      "text/plain": [
       "0"
      ]
     },
     "execution_count": 21,
     "metadata": {},
     "output_type": "execute_result"
    }
   ],
   "source": [
    "dfsp.filter('pickup_community_area is NULL').count()"
   ]
  },
  {
   "cell_type": "code",
   "execution_count": 22,
   "id": "3b2823b7-3ff3-4fd9-916c-86589de5f2bf",
   "metadata": {
    "scrolled": true
   },
   "outputs": [
    {
     "name": "stdout",
     "output_type": "stream",
     "text": [
      "+---------------------+\n",
      "|pickup_community_area|\n",
      "+---------------------+\n",
      "|                    0|\n",
      "|                    1|\n",
      "|                    2|\n",
      "|                    3|\n",
      "|                    4|\n",
      "|                    5|\n",
      "|                    6|\n",
      "|                    7|\n",
      "|                    8|\n",
      "|                    9|\n",
      "|                   10|\n",
      "|                   11|\n",
      "|                   12|\n",
      "|                   13|\n",
      "|                   14|\n",
      "|                   15|\n",
      "|                   16|\n",
      "|                   17|\n",
      "|                   18|\n",
      "|                   19|\n",
      "|                   20|\n",
      "|                   21|\n",
      "|                   22|\n",
      "|                   23|\n",
      "|                   24|\n",
      "|                   25|\n",
      "|                   26|\n",
      "|                   27|\n",
      "|                   28|\n",
      "|                   29|\n",
      "|                   30|\n",
      "|                   31|\n",
      "|                   32|\n",
      "|                   33|\n",
      "|                   34|\n",
      "|                   35|\n",
      "|                   36|\n",
      "|                   37|\n",
      "|                   38|\n",
      "|                   39|\n",
      "|                   40|\n",
      "|                   41|\n",
      "|                   42|\n",
      "|                   43|\n",
      "|                   44|\n",
      "|                   45|\n",
      "|                   46|\n",
      "|                   47|\n",
      "|                   48|\n",
      "|                   49|\n",
      "|                   50|\n",
      "|                   51|\n",
      "|                   52|\n",
      "|                   53|\n",
      "|                   54|\n",
      "|                   55|\n",
      "|                   56|\n",
      "|                   57|\n",
      "|                   58|\n",
      "|                   59|\n",
      "|                   60|\n",
      "|                   61|\n",
      "|                   62|\n",
      "|                   63|\n",
      "|                   64|\n",
      "|                   65|\n",
      "|                   66|\n",
      "|                   67|\n",
      "|                   68|\n",
      "|                   69|\n",
      "|                   70|\n",
      "|                   71|\n",
      "|                   72|\n",
      "|                   73|\n",
      "|                   74|\n",
      "|                   75|\n",
      "|                   76|\n",
      "|                   77|\n",
      "+---------------------+\n",
      "\n"
     ]
    }
   ],
   "source": [
    "dfsp.select('pickup_community_area').distinct().sort(dfsp.pickup_community_area.asc()).show(80)"
   ]
  },
  {
   "cell_type": "markdown",
   "id": "ce3fbd81-c6c1-4c8d-9b54-f7254fcf40a3",
   "metadata": {},
   "source": [
    "## Проверим пропуски в колонках по времени, расстоянию и деньгам"
   ]
  },
  {
   "cell_type": "code",
   "execution_count": 23,
   "id": "bd894c58-4a9b-4aa9-9e45-5458752cead3",
   "metadata": {
    "scrolled": true
   },
   "outputs": [
    {
     "name": "stdout",
     "output_type": "stream",
     "text": [
      "+----------------------+----------------------+----------+------------+----------+-----+\n",
      "|trip_start_timestamp  |trip_end_timestamp    |trip_miles|trip_seconds|trip_total|fare |\n",
      "+----------------------+----------------------+----------+------------+----------+-----+\n",
      "|01/01/2022 02:45:00 AM|01/03/2022 03:45:00 PM|45.08     |null        |107.0     |106.0|\n",
      "|01/01/2022 05:30:00 AM|01/02/2022 10:30:00 AM|8.24      |null        |22.5      |22.5 |\n",
      "|01/02/2022 12:00:00 AM|null                  |0.0       |null        |0.0       |0.0  |\n",
      "|01/02/2022 10:45:00 PM|01/04/2022 09:00:00 AM|1.43      |null        |7.75      |7.75 |\n",
      "|01/03/2022 03:30:00 PM|null                  |0.0       |null        |0.0       |0.0  |\n",
      "|01/03/2022 04:15:00 PM|01/05/2022 12:45:00 PM|0.0       |null        |3.25      |3.25 |\n",
      "|01/04/2022 11:30:00 AM|01/05/2022 02:15:00 PM|0.46      |null        |4.25      |4.25 |\n",
      "|01/04/2022 12:15:00 PM|01/05/2022 11:30:00 PM|0.15      |null        |3.5       |3.5  |\n",
      "|01/04/2022 04:30:00 PM|01/08/2022 12:30:00 PM|16.15     |null        |45.75     |40.75|\n",
      "|01/04/2022 06:15:00 PM|01/04/2022 06:15:00 PM|0.01      |null        |null      |null |\n",
      "+----------------------+----------------------+----------+------------+----------+-----+\n",
      "only showing top 10 rows\n",
      "\n"
     ]
    }
   ],
   "source": [
    "dfsp.filter('trip_seconds is NULL').select(\n",
    "    'trip_start_timestamp', 'trip_end_timestamp', \n",
    "    'trip_miles', 'trip_seconds', 'trip_total', 'fare').show(10, False)"
   ]
  },
  {
   "cell_type": "code",
   "execution_count": 24,
   "id": "c1417f97-5e30-4901-bcd5-a24070eea529",
   "metadata": {},
   "outputs": [
    {
     "name": "stdout",
     "output_type": "stream",
     "text": [
      "+----------------------+----------------------+----------+------------+----------+-----+\n",
      "|trip_end_timestamp    |trip_end_timestamp    |trip_miles|trip_seconds|trip_total|fare |\n",
      "+----------------------+----------------------+----------+------------+----------+-----+\n",
      "|01/01/2022 01:15:00 AM|01/01/2022 01:15:00 AM|null      |1022        |36.52     |29.83|\n",
      "|01/01/2022 08:15:00 PM|01/01/2022 08:15:00 PM|null      |379         |23.68     |20.26|\n",
      "|01/02/2022 12:45:00 PM|01/02/2022 12:45:00 PM|null      |2           |12.93     |10.53|\n",
      "|01/03/2022 07:00:00 AM|01/03/2022 07:00:00 AM|null      |15          |11.5      |9.36 |\n",
      "|01/03/2022 01:15:00 PM|01/03/2022 01:15:00 PM|null      |978         |19.4      |15.82|\n",
      "|01/07/2022 06:00:00 AM|01/07/2022 06:00:00 AM|null      |50          |12.57     |9.36 |\n",
      "|01/07/2022 01:15:00 PM|01/07/2022 01:15:00 PM|null      |215         |11.5      |9.36 |\n",
      "|01/08/2022 03:30:00 PM|01/08/2022 03:30:00 PM|null      |1973        |37.02     |30.24|\n",
      "|01/09/2022 01:15:00 AM|01/09/2022 01:15:00 AM|null      |2           |11.5      |9.36 |\n",
      "|01/09/2022 02:30:00 AM|01/09/2022 02:30:00 AM|null      |887         |29.96     |24.46|\n",
      "+----------------------+----------------------+----------+------------+----------+-----+\n",
      "only showing top 10 rows\n",
      "\n"
     ]
    }
   ],
   "source": [
    "dfsp.filter('trip_miles is NULL').select(\n",
    "        'trip_end_timestamp', 'trip_end_timestamp', \n",
    "        'trip_miles', 'trip_seconds', 'trip_total', 'fare').show(10, False)"
   ]
  },
  {
   "cell_type": "code",
   "execution_count": 25,
   "id": "520d0fb5-9793-4006-8b35-a3655ddd4fd4",
   "metadata": {},
   "outputs": [
    {
     "name": "stdout",
     "output_type": "stream",
     "text": [
      "+----------------------+----------------------+----------+------------+----------+----+\n",
      "|trip_end_timestamp    |trip_end_timestamp    |trip_miles|trip_seconds|trip_total|fare|\n",
      "+----------------------+----------------------+----------+------------+----------+----+\n",
      "|01/02/2022 06:45:00 PM|01/02/2022 06:45:00 PM|1.38      |306         |null      |null|\n",
      "|01/03/2022 01:15:00 AM|01/03/2022 01:15:00 AM|0.0       |40          |null      |null|\n",
      "|01/03/2022 02:15:00 PM|01/03/2022 02:15:00 PM|7.15      |3254        |null      |null|\n",
      "|01/04/2022 05:30:00 PM|01/04/2022 05:30:00 PM|4.33      |1281        |null      |null|\n",
      "|01/04/2022 06:15:00 PM|01/04/2022 06:15:00 PM|0.01      |null        |null      |null|\n",
      "|01/04/2022 08:00:00 PM|01/04/2022 08:00:00 PM|0.06      |3           |null      |null|\n",
      "|01/05/2022 04:15:00 AM|01/05/2022 04:15:00 AM|0.63      |70          |null      |null|\n",
      "|01/05/2022 01:15:00 PM|01/05/2022 01:15:00 PM|0.31      |103         |null      |null|\n",
      "|01/05/2022 05:30:00 PM|01/05/2022 05:30:00 PM|0.09      |85          |null      |null|\n",
      "|01/06/2022 12:00:00 PM|01/06/2022 12:00:00 PM|0.38      |192         |null      |null|\n",
      "+----------------------+----------------------+----------+------------+----------+----+\n",
      "only showing top 10 rows\n",
      "\n"
     ]
    }
   ],
   "source": [
    "dfsp.filter('trip_total is NULL').select(\n",
    "    'trip_end_timestamp', 'trip_end_timestamp', \n",
    "    'trip_miles', 'trip_seconds', 'trip_total', 'fare').show(10, False)"
   ]
  },
  {
   "cell_type": "markdown",
   "id": "07fbebaa-1434-41ec-a211-52bd50584c8b",
   "metadata": {},
   "source": [
    "    Пропуски по длительности поездки идут вразнобой, \n",
    "    метки времени начала и окончания поездки отсутствуют или совпадают. \n",
    "    Видимо, был либо сбой системы подсчета, либо поездка не была совершена. \n",
    "    По деньгам и расстоянию, скорее всего подсчет проводится автоматически и отсутствие данных означает сбои. \n",
    "    Это в сумме около 8 тысяч строк - 0,08%.\n",
    "    Не будем их удалять и заполнять, из влияние будет нивелировано при агрегации данных."
   ]
  },
  {
   "cell_type": "markdown",
   "id": "171a21f0-0263-465c-9652-6ecce454c791",
   "metadata": {},
   "source": [
    "## Посмотрим нулевые значения"
   ]
  },
  {
   "cell_type": "code",
   "execution_count": 26,
   "id": "fa59ed6b-8c00-4333-82a1-0bff31acd204",
   "metadata": {},
   "outputs": [
    {
     "data": {
      "text/plain": [
       "231086"
      ]
     },
     "execution_count": 26,
     "metadata": {},
     "output_type": "execute_result"
    }
   ],
   "source": [
    "dfsp.filter('trip_seconds == 0').select(\n",
    "    'trip_end_timestamp',\n",
    "    'trip_end_timestamp', 'trip_miles', 'trip_seconds', 'trip_total', 'fare').count()"
   ]
  },
  {
   "cell_type": "code",
   "execution_count": 27,
   "id": "08d459f4-da49-4cc6-9852-f036f53f2b19",
   "metadata": {},
   "outputs": [
    {
     "data": {
      "text/plain": [
       "1197425"
      ]
     },
     "execution_count": 27,
     "metadata": {},
     "output_type": "execute_result"
    }
   ],
   "source": [
    "dfsp.filter('trip_miles ==0.0').select(\n",
    "    'trip_end_timestamp',\n",
    "    'trip_end_timestamp', 'trip_miles', 'trip_seconds', 'trip_total', 'fare').count()"
   ]
  },
  {
   "cell_type": "code",
   "execution_count": 28,
   "id": "154d3d9a-b781-4465-93da-aadab4b37558",
   "metadata": {},
   "outputs": [
    {
     "data": {
      "text/plain": [
       "8731"
      ]
     },
     "execution_count": 28,
     "metadata": {},
     "output_type": "execute_result"
    }
   ],
   "source": [
    "dfsp.filter('trip_total ==0').select(\n",
    "    'trip_end_timestamp',\n",
    "    'trip_end_timestamp', 'trip_miles', 'trip_seconds', 'trip_total', 'fare').count()"
   ]
  },
  {
   "cell_type": "code",
   "execution_count": 29,
   "id": "0ee761f2-ea94-4f0d-93d5-ed5eb4239b51",
   "metadata": {},
   "outputs": [
    {
     "name": "stdout",
     "output_type": "stream",
     "text": [
      "+------------+-----------------+-----------------+-------------------+-----------------+\n",
      "|trip_seconds|  avg(trip_total)|        avg(fare)|    avg(trip_miles)|avg(trip_seconds)|\n",
      "+------------+-----------------+-----------------+-------------------+-----------------+\n",
      "|           0|14.94505363729246|9.784707917020208|0.30485766464422603|              0.0|\n",
      "+------------+-----------------+-----------------+-------------------+-----------------+\n",
      "\n"
     ]
    }
   ],
   "source": [
    "dfsp.filter('trip_seconds == 0').select(\n",
    "    'trip_end_timestamp','trip_end_timestamp', \n",
    "    'trip_total', 'fare', 'trip_miles', 'trip_seconds').groupby('trip_seconds').mean().show()"
   ]
  },
  {
   "cell_type": "code",
   "execution_count": 30,
   "id": "5962b945-d6f2-406a-953f-196f7208e16b",
   "metadata": {
    "scrolled": true
   },
   "outputs": [
    {
     "name": "stdout",
     "output_type": "stream",
     "text": [
      "+----------+------------------+-----------------+---------------+---------+\n",
      "|trip_total|   avg(trip_miles)|avg(trip_seconds)|avg(trip_total)|avg(fare)|\n",
      "+----------+------------------+-----------------+---------------+---------+\n",
      "|       0.0|1.8831808803301242|709.4656741108354|            0.0|      0.0|\n",
      "+----------+------------------+-----------------+---------------+---------+\n",
      "\n"
     ]
    }
   ],
   "source": [
    "dfsp.filter('trip_total == 0').select(\n",
    "    'trip_end_timestamp',\n",
    "    'trip_end_timestamp', 'trip_miles', 'trip_seconds', 'trip_total', 'fare').groupby('trip_total').mean().show()"
   ]
  },
  {
   "cell_type": "code",
   "execution_count": 31,
   "id": "396bde45-49b3-43dd-a45d-65616f4bc9c0",
   "metadata": {},
   "outputs": [
    {
     "name": "stdout",
     "output_type": "stream",
     "text": [
      "+----------+---------------+-----------------+------------------+------------------+\n",
      "|trip_miles|avg(trip_miles)|avg(trip_seconds)|   avg(trip_total)|         avg(fare)|\n",
      "+----------+---------------+-----------------+------------------+------------------+\n",
      "|       0.0|            0.0|569.1104715200928|20.295097263126536|15.741441647138242|\n",
      "+----------+---------------+-----------------+------------------+------------------+\n",
      "\n"
     ]
    }
   ],
   "source": [
    "dfsp.filter('trip_miles == 0').select(\n",
    "    'trip_end_timestamp',\n",
    "    'trip_end_timestamp', 'trip_miles', 'trip_seconds', 'trip_total', 'fare').groupby('trip_miles').mean().show()"
   ]
  },
  {
   "cell_type": "markdown",
   "id": "27e4be6a-c1e7-4511-8b29-8d71989b31b9",
   "metadata": {},
   "source": [
    "    Проверка 0 так же проказала большое количество утерянных данных. \n",
    "    В сумме получается около 1,3 млн строк с 0 в одной из колонок. при этом остальные данные присутствуют.\n",
    "    Такие данные можно попробовать использовать в обучении.\n",
    "    На этом этапе выявим их, но не будем менять. \n",
    "    В случае потери качества при обучении моделей, обработаем эти 0.\n",
    "\n",
    "    промежуточный датасэт - dfsp"
   ]
  },
  {
   "cell_type": "markdown",
   "id": "c444ecf4-87f2-4a0e-8765-46e0a97a66c6",
   "metadata": {},
   "source": [
    "## Обработаем выбросы"
   ]
  },
  {
   "cell_type": "code",
   "execution_count": 32,
   "id": "7c4574c6-7d7d-493f-b841-5c83a0965339",
   "metadata": {},
   "outputs": [],
   "source": [
    "dfpd_for_graphs = dfsp.orderBy(rand()).limit(10**5).select('pickup_centroid_latitude', 'pickup_centroid_longitude',\n",
    "                                  'trip_total', 'trip_seconds', 'trip_miles', 'fare'\n",
    "                                    ).toPandas()"
   ]
  },
  {
   "cell_type": "code",
   "execution_count": 33,
   "id": "51f5bd03-14d7-4375-aaf3-670474149ce5",
   "metadata": {
    "scrolled": true
   },
   "outputs": [
    {
     "name": "stdout",
     "output_type": "stream",
     "text": [
      "count    99987.000000\n",
      "mean      1208.601298\n",
      "std       1815.344152\n",
      "min          0.000000\n",
      "25%        466.000000\n",
      "50%        889.000000\n",
      "75%       1649.000000\n",
      "max      85568.000000\n",
      "Name: trip_seconds, dtype: float64\n",
      "4290.0\n",
      "4.0\n"
     ]
    },
    {
     "data": {
      "image/png": "[encoded data removed]",
      "text/plain": [
       "<Figure size 640x480 with 1 Axes>"
      ]
     },
     "metadata": {},
     "output_type": "display_data"
    }
   ],
   "source": [
    "print(dfpd_for_graphs['trip_seconds'].describe())\n",
    "print(dfpd_for_graphs['trip_seconds'].quantile(0.99))\n",
    "print(dfpd_for_graphs['trip_seconds'].quantile(0.025))\n",
    "\n",
    "dfpd_for_graphs['trip_seconds'].plot.hist(bins=400)#, range =(0.0, trip_seconds['trip_seconds'].quantile(0.975)))\n",
    "plt.xlim(0.0, 10000)#trip_seconds.quantile(0.99))\n",
    "plt.show()"
   ]
  },
  {
   "cell_type": "code",
   "execution_count": 34,
   "id": "d015a6ac-3243-49d0-a062-1f23099c40d9",
   "metadata": {},
   "outputs": [
    {
     "name": "stdout",
     "output_type": "stream",
     "text": [
      "[3.0, 4190.0]\n"
     ]
    }
   ],
   "source": [
    "trip_seconds_quant = dfsp.approxQuantile(\"trip_seconds\", [0.025, 0.99], 0.005)\n",
    "print(trip_seconds_quant)"
   ]
  },
  {
   "cell_type": "code",
   "execution_count": 35,
   "id": "399c7fd9-c71b-49cb-9400-818cf85788dc",
   "metadata": {
    "scrolled": true
   },
   "outputs": [
    {
     "name": "stdout",
     "output_type": "stream",
     "text": [
      "count    100000.000000\n",
      "mean          6.298316\n",
      "std           7.789928\n",
      "min           0.000000\n",
      "25%           0.890000\n",
      "50%           2.700000\n",
      "75%          11.330000\n",
      "max         692.300000\n",
      "Name: trip_miles, dtype: float64\n",
      "26.2\n",
      "0.0\n"
     ]
    },
    {
     "data": {
      "image/png": "[encoded data removed]",
      "text/plain": [
       "<Figure size 640x480 with 1 Axes>"
      ]
     },
     "metadata": {},
     "output_type": "display_data"
    }
   ],
   "source": [
    "print(dfpd_for_graphs['trip_miles'].describe())\n",
    "print(dfpd_for_graphs['trip_miles'].quantile(0.99))\n",
    "print(dfpd_for_graphs['trip_miles'].quantile(0.1))\n",
    "\n",
    "dfpd_for_graphs['trip_miles'].plot.hist(bins=1000)\n",
    "plt.xlim(0.0, 35)#trip_miles['trip_miles'].quantile(0.99))\n",
    "\n",
    "plt.show()"
   ]
  },
  {
   "cell_type": "code",
   "execution_count": 36,
   "id": "e0e4fb0f-faba-47a6-946a-9f3392bf9a91",
   "metadata": {},
   "outputs": [
    {
     "name": "stdout",
     "output_type": "stream",
     "text": [
      "[0.0, 24.7]\n"
     ]
    }
   ],
   "source": [
    "trip_miles_quant = dfsp.approxQuantile(\"trip_miles\", [0.025, 0.99], 0.005)\n",
    "print(trip_miles_quant)"
   ]
  },
  {
   "cell_type": "code",
   "execution_count": 37,
   "id": "664894f3-ce42-4ab7-8f20-6a8aaef96baf",
   "metadata": {
    "scrolled": true
   },
   "outputs": [
    {
     "name": "stdout",
     "output_type": "stream",
     "text": [
      "count    99927.000000\n",
      "mean        27.071828\n",
      "std         45.468084\n",
      "min          0.000000\n",
      "25%         10.000000\n",
      "50%         17.250000\n",
      "75%         41.500000\n",
      "max       8004.750000\n",
      "Name: trip_total, dtype: float64\n",
      "98.0\n",
      "6.5\n"
     ]
    },
    {
     "data": {
      "image/png": "[encoded data removed]",
      "text/plain": [
       "<Figure size 640x480 with 1 Axes>"
      ]
     },
     "metadata": {},
     "output_type": "display_data"
    }
   ],
   "source": [
    "print(dfpd_for_graphs['trip_total'].describe())\n",
    "print(dfpd_for_graphs['trip_total'].quantile(0.99))\n",
    "print(dfpd_for_graphs['trip_total'].quantile(0.1))\n",
    "\n",
    "dfpd_for_graphs['trip_total'].plot.hist(bins=1000)\n",
    "plt.xlim(0.0, 150)#trip_total['trip_total'].quantile(0.99))\n",
    "plt.show()"
   ]
  },
  {
   "cell_type": "code",
   "execution_count": 38,
   "id": "7f14fb01-dd89-4117-bc13-8487887d4a70",
   "metadata": {},
   "outputs": [
    {
     "name": "stdout",
     "output_type": "stream",
     "text": [
      "[3.25, 91.75]\n"
     ]
    }
   ],
   "source": [
    "trip_total_quant = dfsp.approxQuantile(\"trip_total\", [0.025, 0.99], 0.005)\n",
    "print(trip_total_quant)"
   ]
  },
  {
   "cell_type": "code",
   "execution_count": 39,
   "id": "c0875b84-28dc-47c6-b36c-ddbbc697372f",
   "metadata": {},
   "outputs": [
    {
     "data": {
      "text/plain": [
       "284995"
      ]
     },
     "execution_count": 39,
     "metadata": {},
     "output_type": "execute_result"
    }
   ],
   "source": [
    "dfsp.filter((dfsp.trip_seconds > trip_seconds_quant[1]) \\\n",
    "                    |(dfsp.trip_miles > trip_miles_quant[1]) \\\n",
    "                     |(dfsp.trip_total > trip_total_quant[1])\n",
    "                    ).count()"
   ]
  },
  {
   "cell_type": "markdown",
   "id": "00d88173-73a9-4f70-95ee-17ecc3f0cc93",
   "metadata": {},
   "source": [
    "    Квантили не выглядят выбросами. Поездка может длиться 4000 секунд, 23 мили и стоить 100 долларов.\n",
    "    Похоже, что квантили, даже 99% не отражают выбросы.\n",
    "    На этом этапе отсечем данные по квантилям, чтобы улучшить обучение моделей."
   ]
  },
  {
   "cell_type": "code",
   "execution_count": 40,
   "id": "24c5eb1e-1c16-48d1-8332-d94935df5337",
   "metadata": {},
   "outputs": [
    {
     "data": {
      "text/plain": [
       "10155189"
      ]
     },
     "execution_count": 40,
     "metadata": {},
     "output_type": "execute_result"
    }
   ],
   "source": [
    "dfsp_contracted = dfsp.filter((dfsp.trip_seconds <= trip_seconds_quant[1]) \\\n",
    "                    |(dfsp.trip_miles <= trip_miles_quant[1]) \\\n",
    "                     |(dfsp.trip_total <= trip_total_quant[1])\n",
    "                    )\n",
    "dfsp_contracted.count()"
   ]
  },
  {
   "cell_type": "code",
   "execution_count": 41,
   "id": "3b70932b-5c42-4b4c-9b88-70006b52074c",
   "metadata": {},
   "outputs": [
    {
     "name": "stdout",
     "output_type": "stream",
     "text": [
      "Количество используемой памяти 35_449_156 байт, пиковое 64_550_889 байт\n"
     ]
    }
   ],
   "source": [
    "mem_use()"
   ]
  },
  {
   "cell_type": "markdown",
   "id": "7409d5f9-db21-4a7e-a96b-d1ba7de5e7e3",
   "metadata": {},
   "source": [
    "    После удаления того, что принято за выбросы, осталось 9,48 млн данных - около 90%.\n",
    "    Часть данных можно сохранить проведя более детальный разбор выбросов."
   ]
  },
  {
   "cell_type": "markdown",
   "id": "75ab957c-170e-4c67-8a0f-611b71b76ea8",
   "metadata": {},
   "source": [
    "## Обработаем данные о времени: изменим формат на Timestamp и округлим до часа"
   ]
  },
  {
   "cell_type": "code",
   "execution_count": 43,
   "id": "8e13ebc6-0801-4cfa-be85-a110593d969c",
   "metadata": {
    "scrolled": true
   },
   "outputs": [
    {
     "name": "stdout",
     "output_type": "stream",
     "text": [
      "root\n",
      " |-- trip_id: string (nullable = true)\n",
      " |-- taxi_id: string (nullable = true)\n",
      " |-- trip_start_timestamp: timestamp (nullable = true)\n",
      " |-- trip_end_timestamp: timestamp (nullable = true)\n",
      " |-- trip_seconds: integer (nullable = true)\n",
      " |-- trip_miles: double (nullable = true)\n",
      " |-- pickup_census_tract: long (nullable = true)\n",
      " |-- dropoff_census_tract: long (nullable = true)\n",
      " |-- pickup_community_area: integer (nullable = true)\n",
      " |-- dropoff_community_area: integer (nullable = true)\n",
      " |-- fare: double (nullable = true)\n",
      " |-- tips: double (nullable = true)\n",
      " |-- tolls: double (nullable = true)\n",
      " |-- extras: double (nullable = true)\n",
      " |-- trip_total: double (nullable = true)\n",
      " |-- payment_type: string (nullable = true)\n",
      " |-- company: string (nullable = true)\n",
      " |-- pickup_centroid_latitude: double (nullable = true)\n",
      " |-- pickup_centroid_longitude: double (nullable = true)\n",
      " |-- pickup_centroid_location: string (nullable = true)\n",
      " |-- dropoff_centroid_latitude: double (nullable = true)\n",
      " |-- dropoff_centroid_longitude: double (nullable = true)\n",
      " |-- dropoff_centroid__location: string (nullable = true)\n",
      "\n"
     ]
    }
   ],
   "source": [
    "#Timestamp String to DateType\n",
    "dfsp_timed = dfsp_contracted \\\n",
    "    .withColumn(\"trip_end_timestamp\", F.date_trunc(\"hour\", to_timestamp(\"trip_end_timestamp\", \"MM/dd/yyyy hh:mm:ss a\"))) \\\n",
    "    .withColumn(\"trip_start_timestamp\", F.date_trunc(\"hour\", to_timestamp(\"trip_start_timestamp\", \"MM/dd/yyyy hh:mm:ss a\"))) \n",
    "dfsp_timed.printSchema()"
   ]
  },
  {
   "cell_type": "code",
   "execution_count": 44,
   "id": "41b0ec4f-e7fa-407c-9427-b50d24ea6e7c",
   "metadata": {
    "scrolled": true
   },
   "outputs": [
    {
     "name": "stdout",
     "output_type": "stream",
     "text": [
      "+--------------------+-------------------+\n",
      "|trip_start_timestamp| trip_end_timestamp|\n",
      "+--------------------+-------------------+\n",
      "| 2023-07-31 22:00:00|2023-07-31 22:00:00|\n",
      "| 2023-07-31 22:00:00|2023-07-31 22:00:00|\n",
      "| 2023-07-31 22:00:00|2023-07-31 22:00:00|\n",
      "| 2023-07-31 22:00:00|2023-07-31 22:00:00|\n",
      "| 2023-07-31 22:00:00|2023-07-31 22:00:00|\n",
      "+--------------------+-------------------+\n",
      "only showing top 5 rows\n",
      "\n",
      "+----------------------------------------+--------------------+-------------------+\n",
      "|trip_id                                 |trip_start_timestamp|trip_end_timestamp |\n",
      "+----------------------------------------+--------------------+-------------------+\n",
      "|015fc6b1f3e7b70b9d5fb41bb9b8c7e9e8d8ef07|2023-06-01 01:00:00 |2023-06-01 01:00:00|\n",
      "|06fff25f2374b62e84f89f8917765492ad220729|2023-06-01 01:00:00 |2023-06-01 01:00:00|\n",
      "|0a4d1da869df7f05b2cbf218b0bc45fd7629f680|2023-06-01 01:00:00 |2023-06-01 01:00:00|\n",
      "|0ce5dff255319a32e47a7438beb84f685a55213f|2023-06-01 01:00:00 |2023-06-01 01:00:00|\n",
      "|0d76135ab1a1ce119a3a44dbd8699afe16901688|2023-06-01 01:00:00 |2023-06-01 01:00:00|\n",
      "|0db2a5170c6edfb166b8bec878f9799f3b1b63b7|2023-06-01 01:00:00 |2023-06-01 01:00:00|\n",
      "|1cc666f8c1e0462805d48127b1714cabc77c085a|2023-06-01 01:00:00 |2023-06-01 01:00:00|\n",
      "|22a562a8097c1a743ece2d635a58dbdb82a862b1|2023-06-01 01:00:00 |2023-06-01 01:00:00|\n",
      "|240e490b8358a7ebf51065a3ed73707bbcc73e9c|2023-06-01 01:00:00 |2023-06-01 01:00:00|\n",
      "|28a4885e556b8f459b9c165bf12edf4b9918b656|2023-06-01 01:00:00 |2023-06-01 01:00:00|\n",
      "+----------------------------------------+--------------------+-------------------+\n",
      "only showing top 10 rows\n",
      "\n"
     ]
    }
   ],
   "source": [
    "dfsp_timed.sort(dfsp_timed.trip_start_timestamp.desc()).select('trip_start_timestamp', 'trip_end_timestamp').show(5)\n",
    "dfsp_timed.filter((dfsp_timed[\"trip_start_timestamp\"] > '2023-06-01 00:00:00') &\n",
    "            (dfsp_timed[\"trip_start_timestamp\"] < '2023-07-01 00:00:00')).select(\n",
    "                    'trip_id', 'trip_start_timestamp', 'trip_end_timestamp').show(10, False)"
   ]
  },
  {
   "cell_type": "markdown",
   "id": "74cc7976-69fa-4cd4-a555-8cd6223e7f79",
   "metadata": {},
   "source": [
    "## Построим карту точек подбора пассажиров с цветами по длительности поездки и расстоянию."
   ]
  },
  {
   "cell_type": "code",
   "execution_count": 45,
   "id": "80e8fdd4-b46b-4f56-95eb-b750a4969026",
   "metadata": {},
   "outputs": [
    {
     "name": "stdout",
     "output_type": "stream",
     "text": [
      "+----------+------------------+------------------+---------------+-----------------+\n",
      "|trip_miles|   avg(trip_total)|         avg(fare)|avg(trip_miles)|avg(trip_seconds)|\n",
      "+----------+------------------+------------------+---------------+-----------------+\n",
      "|       0.0|20.295097263126536|15.741441647138245|            0.0|569.1104715200928|\n",
      "+----------+------------------+------------------+---------------+-----------------+\n",
      "\n"
     ]
    }
   ],
   "source": [
    "dfsp_timed.filter(\"trip_miles ==0.0\").select(\n",
    "    'trip_total', 'fare', 'trip_miles', 'trip_seconds').groupby('trip_miles').mean().show()"
   ]
  },
  {
   "cell_type": "code",
   "execution_count": 46,
   "id": "dc2ef705-2c84-476b-84ed-ee59f0766fef",
   "metadata": {
    "scrolled": true
   },
   "outputs": [],
   "source": [
    "for_feature = dfsp_timed.orderBy(rand()).limit(10**5).select('pickup_centroid_latitude', 'pickup_centroid_longitude',\n",
    "                                  'trip_total', 'trip_seconds', 'trip_miles', 'fare'\n",
    "                                    ).toPandas()"
   ]
  },
  {
   "cell_type": "code",
   "execution_count": 47,
   "id": "79a912a0-4e32-450c-a16c-8ffbebc5056d",
   "metadata": {},
   "outputs": [
    {
     "name": "stdout",
     "output_type": "stream",
     "text": [
      "<class 'pandas.core.frame.DataFrame'>\n",
      "RangeIndex: 100000 entries, 0 to 99999\n",
      "Data columns (total 6 columns):\n",
      " #   Column                     Non-Null Count   Dtype  \n",
      "---  ------                     --------------   -----  \n",
      " 0   pickup_centroid_latitude   93314 non-null   float64\n",
      " 1   pickup_centroid_longitude  93314 non-null   float64\n",
      " 2   trip_total                 99927 non-null   float64\n",
      " 3   trip_seconds               99987 non-null   float64\n",
      " 4   trip_miles                 100000 non-null  float64\n",
      " 5   fare                       99927 non-null   float64\n",
      "dtypes: float64(6)\n",
      "memory usage: 4.6 MB\n"
     ]
    },
    {
     "data": {
      "text/html": [
       "<div>\n",
       "<style scoped>\n",
       "    .dataframe tbody tr th:only-of-type {\n",
       "        vertical-align: middle;\n",
       "    }\n",
       "\n",
       "    .dataframe tbody tr th {\n",
       "        vertical-align: top;\n",
       "    }\n",
       "\n",
       "    .dataframe thead th {\n",
       "        text-align: right;\n",
       "    }\n",
       "</style>\n",
       "<table border=\"1\" class=\"dataframe\">\n",
       "  <thead>\n",
       "    <tr style=\"text-align: right;\">\n",
       "      <th></th>\n",
       "      <th>pickup_centroid_latitude</th>\n",
       "      <th>pickup_centroid_longitude</th>\n",
       "      <th>trip_total</th>\n",
       "      <th>trip_seconds</th>\n",
       "      <th>trip_miles</th>\n",
       "      <th>fare</th>\n",
       "    </tr>\n",
       "  </thead>\n",
       "  <tbody>\n",
       "    <tr>\n",
       "      <th>0</th>\n",
       "      <td>41.874005</td>\n",
       "      <td>-87.663518</td>\n",
       "      <td>26.25</td>\n",
       "      <td>1357.0</td>\n",
       "      <td>9.30</td>\n",
       "      <td>26.25</td>\n",
       "    </tr>\n",
       "    <tr>\n",
       "      <th>1</th>\n",
       "      <td>41.899602</td>\n",
       "      <td>-87.633308</td>\n",
       "      <td>30.25</td>\n",
       "      <td>2002.0</td>\n",
       "      <td>10.83</td>\n",
       "      <td>30.25</td>\n",
       "    </tr>\n",
       "    <tr>\n",
       "      <th>2</th>\n",
       "      <td>41.899602</td>\n",
       "      <td>-87.633308</td>\n",
       "      <td>5.50</td>\n",
       "      <td>233.0</td>\n",
       "      <td>0.80</td>\n",
       "      <td>5.50</td>\n",
       "    </tr>\n",
       "    <tr>\n",
       "      <th>3</th>\n",
       "      <td>41.794090</td>\n",
       "      <td>-87.592311</td>\n",
       "      <td>19.50</td>\n",
       "      <td>600.0</td>\n",
       "      <td>5.80</td>\n",
       "      <td>16.50</td>\n",
       "    </tr>\n",
       "    <tr>\n",
       "      <th>4</th>\n",
       "      <td>41.980264</td>\n",
       "      <td>-87.913625</td>\n",
       "      <td>51.75</td>\n",
       "      <td>1860.0</td>\n",
       "      <td>0.80</td>\n",
       "      <td>41.75</td>\n",
       "    </tr>\n",
       "  </tbody>\n",
       "</table>\n",
       "</div>"
      ],
      "text/plain": [
       "   pickup_centroid_latitude  pickup_centroid_longitude  trip_total  \\\n",
       "0                 41.874005                 -87.663518       26.25   \n",
       "1                 41.899602                 -87.633308       30.25   \n",
       "2                 41.899602                 -87.633308        5.50   \n",
       "3                 41.794090                 -87.592311       19.50   \n",
       "4                 41.980264                 -87.913625       51.75   \n",
       "\n",
       "   trip_seconds  trip_miles   fare  \n",
       "0        1357.0        9.30  26.25  \n",
       "1        2002.0       10.83  30.25  \n",
       "2         233.0        0.80   5.50  \n",
       "3         600.0        5.80  16.50  \n",
       "4        1860.0        0.80  41.75  "
      ]
     },
     "execution_count": 47,
     "metadata": {},
     "output_type": "execute_result"
    }
   ],
   "source": [
    "dfpd_for_graphs.info()\n",
    "dfpd_for_graphs.head()"
   ]
  },
  {
   "cell_type": "code",
   "execution_count": 48,
   "id": "686c4d60-271f-44bb-b946-3f2ee8829283",
   "metadata": {},
   "outputs": [
    {
     "data": {
      "image/png": "[encoded data removed]",
      "text/plain": [
       "<Figure size 1000x800 with 2 Axes>"
      ]
     },
     "metadata": {},
     "output_type": "display_data"
    }
   ],
   "source": [
    "x = for_feature['pickup_centroid_longitude']\n",
    "y = for_feature['pickup_centroid_latitude']\n",
    "fig, (ax1, ax2) = plt.subplots(1, 2)\n",
    "ax1.scatter(x, y, c=dfpd_for_graphs['trip_miles'], cmap='viridis')\n",
    "ax2.scatter(x, y, c=dfpd_for_graphs['trip_total'], cmap='plasma')\n",
    "fig.set_size_inches(10, 8)\n",
    "ax1.set_title('trip_seconds')\n",
    "ax1.set_xlabel('pickup_centroid_longitude')\n",
    "ax1.set_ylabel('pickup_centroid_latitude')\n",
    "ax2.set_title('trip_total')\n",
    "ax2.set_xlabel('pickup_centroid_longitude')\n",
    "ax2.set_ylabel('pickup_centroid_latitude')\n",
    "plt.show()"
   ]
  },
  {
   "cell_type": "markdown",
   "id": "9333ae75-a16a-4c1e-94b7-21ec5bde3d24",
   "metadata": {},
   "source": [
    "## Пока удалим колонки, которые предположительно не будут влиять на целевой показатель. Если модели не будут набирать достаточной точности, рассмотрим их возврат"
   ]
  },
  {
   "cell_type": "code",
   "execution_count": 49,
   "id": "b6d0168b-a37b-4efb-853e-c884d32f6128",
   "metadata": {},
   "outputs": [
    {
     "name": "stdout",
     "output_type": "stream",
     "text": [
      "+--------------------+--------------------+--------------------+-------------------+------------+----------+---------------------+----------------------+----------+------------------------+-------------------------+\n",
      "|             trip_id|             taxi_id|trip_start_timestamp| trip_end_timestamp|trip_seconds|trip_miles|pickup_community_area|dropoff_community_area|trip_total|pickup_centroid_latitude|pickup_centroid_longitude|\n",
      "+--------------------+--------------------+--------------------+-------------------+------------+----------+---------------------+----------------------+----------+------------------------+-------------------------+\n",
      "|bcfa19f2539021c05...|368ce5511598af2cc...| 2022-01-01 00:00:00|2022-01-01 00:00:00|         152|       0.1|                    0|                  null|      3.75|                    null|                     null|\n",
      "|2aba69ff015f9ea8e...|449fa490955275713...| 2022-01-01 00:00:00|2022-01-01 00:00:00|        2360|     17.44|                    0|                     8|     52.75|                    null|                     null|\n",
      "|54d812a0b88f8f970...|f98ae5e71fdda8806...| 2022-01-01 00:00:00|2022-01-01 00:00:00|         536|      4.83|                   28|                    22|     14.75|            41.874005383|             -87.66351755|\n",
      "|7125b9e03a0f16c2d...|8eca35a570101ad24...| 2022-01-01 00:00:00|2022-01-01 00:00:00|         897|      2.07|                    8|                    32|     11.25|            41.899602111|            -87.633308037|\n",
      "|f1a650ee419b4e52d...|e2d8418fcdb061eee...| 2022-01-01 00:00:00|2022-01-01 00:00:00|        2200|      2.48|                    8|                    32|      11.5|            41.899602111|            -87.633308037|\n",
      "+--------------------+--------------------+--------------------+-------------------+------------+----------+---------------------+----------------------+----------+------------------------+-------------------------+\n",
      "only showing top 5 rows\n",
      "\n"
     ]
    },
    {
     "data": {
      "text/plain": [
       "78"
      ]
     },
     "execution_count": 49,
     "metadata": {},
     "output_type": "execute_result"
    }
   ],
   "source": [
    "dfsp_timed = dfsp_timed.drop('pickup_census_tract', 'pickup_centroid_location', \n",
    "                 'tips', 'tolls', 'extras', \n",
    "                 \"fare\", 'company', 'payment_type', \n",
    "                 'dropoff_census_tract', 'dropoff_centroid_latitude', \n",
    "                'dropoff_centroid_longitude', 'dropoff_centroid__location')\n",
    "dfsp_timed.show(5)\n",
    "dfsp_timed.select('pickup_community_area').distinct().count()"
   ]
  },
  {
   "cell_type": "markdown",
   "id": "49290435-cc41-48ef-bb9c-2b10f658b143",
   "metadata": {},
   "source": [
    "## Проведем агрегацию данных по часу и коммьюнити, далее в этот набор данных будем добавлять признаки"
   ]
  },
  {
   "cell_type": "code",
   "execution_count": 50,
   "id": "aa96a0eb-0a07-4956-90d4-d3694217438e",
   "metadata": {},
   "outputs": [],
   "source": [
    "dfsp_timed_agg = dfsp_timed.groupby('pickup_community_area', \"trip_start_timestamp\").agg(\n",
    "    count('trip_id').alias('trips_count'), \n",
    "    median(\"trip_total\").alias('cost_median'), \n",
    "    median('trip_miles').alias('miles_median'),\n",
    "    median(\"trip_seconds\").alias('seconds_median'),\n",
    "    median(\"pickup_centroid_latitude\").alias('centroid_lat_median'),\n",
    "    median(\"pickup_centroid_longitude\").alias('centroid_long_median'),\n",
    "    countDistinct('taxi_id').alias('taxi_countdist')\n",
    ").cache()\n",
    "#dfsp_timed_agg.printSchema()"
   ]
  },
  {
   "cell_type": "code",
   "execution_count": 52,
   "id": "e68ad866-eea1-4a42-8624-b0550ee12bd1",
   "metadata": {},
   "outputs": [
    {
     "name": "stdout",
     "output_type": "stream",
     "text": [
      "+---------------------+--------------------+-----------+------------------+------------------+--------------+-------------------+--------------------+--------------+\n",
      "|pickup_community_area|trip_start_timestamp|trips_count|       cost_median|      miles_median|seconds_median|centroid_lat_median|centroid_long_median|taxi_countdist|\n",
      "+---------------------+--------------------+-----------+------------------+------------------+--------------+-------------------+--------------------+--------------+\n",
      "|                   21| 2022-01-01 00:00:00|          2|10.495000000000001|               0.0|         727.0|       41.938666196|       -87.711210593|             2|\n",
      "|                   76| 2022-01-01 00:00:00|         24|             40.25|             12.64|        1372.5|       41.980264315|       -87.913624596|            22|\n",
      "|                    6| 2022-01-01 00:00:00|         32|14.440000000000001|              2.69|         691.0|       41.944226601|       -87.655998182|            25|\n",
      "|                   77| 2022-01-01 00:00:00|          6|            19.125|               4.8|         964.0|         41.9867118|       -87.663416405|             5|\n",
      "|                   16| 2022-01-01 00:00:00|          2|             19.27|1.7249999999999999|         820.5|       41.953582125|        -87.72345239|             2|\n",
      "+---------------------+--------------------+-----------+------------------+------------------+--------------+-------------------+--------------------+--------------+\n",
      "only showing top 5 rows\n",
      "\n"
     ]
    }
   ],
   "source": [
    "dfsp_timed_agg.sort('trip_start_timestamp').show(5)"
   ]
  },
  {
   "cell_type": "markdown",
   "id": "c8d431a9-ac1a-4061-b1c8-6d04f30eb051",
   "metadata": {},
   "source": [
    "    В итоге, наш целевой показатель - trips_count"
   ]
  },
  {
   "cell_type": "markdown",
   "id": "69d3e185-230c-42bd-90a3-683bf6ae1ee2",
   "metadata": {},
   "source": [
    "    Потерялись часы, где не было поездок в районе."
   ]
  },
  {
   "cell_type": "markdown",
   "id": "20e11159-3578-4724-ada9-b42b219fbb4a",
   "metadata": {},
   "source": [
    "## Восполним утерянные часы"
   ]
  },
  {
   "cell_type": "code",
   "execution_count": 53,
   "id": "8bbe31bf-36c0-454f-95a8-9c26f5002046",
   "metadata": {},
   "outputs": [],
   "source": [
    "max_hour = '2023-07-31 23:00:00'#max(dfsp_timed.trip_start_timestamp) \n",
    "min_hour = '2022-01-01 00:00:00' #min(dfsp_timed.trip_start_timestamp)# "
   ]
  },
  {
   "cell_type": "code",
   "execution_count": 54,
   "id": "1ad6a95f-3694-4c8d-87d1-d7f2947c630d",
   "metadata": {
    "scrolled": true
   },
   "outputs": [],
   "source": [
    "hours = spark.createDataFrame([(min_hour, max_hour)], [\"min_hour\", \"max_hour\"])\n",
    "hours = hours.selectExpr(\"explode(sequence(to_timestamp(min_hour), to_timestamp(max_hour), interval 1 hour)) as time\") \n",
    "\n",
    "hours=hours.select(F.date_trunc('hour', hours.time).alias(\"hour_cons\")).cache()"
   ]
  },
  {
   "cell_type": "code",
   "execution_count": 55,
   "id": "b1c48e82-c979-4d99-9290-9dbd14141e40",
   "metadata": {
    "scrolled": true
   },
   "outputs": [
    {
     "name": "stdout",
     "output_type": "stream",
     "text": [
      "+-------------------+\n",
      "|          hour_cons|\n",
      "+-------------------+\n",
      "|2023-07-31 23:00:00|\n",
      "|2023-07-31 22:00:00|\n",
      "|2023-07-31 21:00:00|\n",
      "|2023-07-31 20:00:00|\n",
      "|2023-07-31 19:00:00|\n",
      "+-------------------+\n",
      "only showing top 5 rows\n",
      "\n",
      "+-------------------+\n",
      "|          hour_cons|\n",
      "+-------------------+\n",
      "|2022-01-01 00:00:00|\n",
      "|2022-01-01 01:00:00|\n",
      "|2022-01-01 02:00:00|\n",
      "|2022-01-01 03:00:00|\n",
      "|2022-01-01 04:00:00|\n",
      "+-------------------+\n",
      "only showing top 5 rows\n",
      "\n"
     ]
    },
    {
     "data": {
      "text/plain": [
       "13848"
      ]
     },
     "execution_count": 55,
     "metadata": {},
     "output_type": "execute_result"
    }
   ],
   "source": [
    "hours.sort(hours.hour_cons.desc()).show(5)\n",
    "hours.show(5)\n",
    "hours.count()"
   ]
  },
  {
   "cell_type": "code",
   "execution_count": 56,
   "id": "1c1cf639-50a3-4ba7-ac8b-582d6fcb09b1",
   "metadata": {},
   "outputs": [],
   "source": [
    "allhours_schema = StructType([ \\\n",
    "                                StructField(\"hour_cons\",TimestampType(),True), \\\n",
    "                                StructField(\"pickup_community_area\",IntegerType (),True) \\\n",
    "                              ])\n",
    "all_hours = spark.createDataFrame([], allhours_schema)\n",
    "for i in range(78):\n",
    "    temp = hours.withColumn('pickup_community_area', lit(i))\n",
    "    all_hours = all_hours.union(temp)"
   ]
  },
  {
   "cell_type": "code",
   "execution_count": 57,
   "id": "561c74cc-0192-484b-9325-67c69fab557b",
   "metadata": {
    "scrolled": true
   },
   "outputs": [
    {
     "name": "stdout",
     "output_type": "stream",
     "text": [
      "+-------------------+---------------------+\n",
      "|          hour_cons|pickup_community_area|\n",
      "+-------------------+---------------------+\n",
      "|2022-01-01 00:00:00|                    0|\n",
      "|2022-01-01 01:00:00|                    0|\n",
      "|2022-01-01 02:00:00|                    0|\n",
      "|2022-01-01 03:00:00|                    0|\n",
      "|2022-01-01 04:00:00|                    0|\n",
      "+-------------------+---------------------+\n",
      "only showing top 5 rows\n",
      "\n",
      "+-------------------+---------------------+\n",
      "|          hour_cons|pickup_community_area|\n",
      "+-------------------+---------------------+\n",
      "|2023-07-31 23:00:00|                   77|\n",
      "|2023-07-31 22:00:00|                   77|\n",
      "|2023-07-31 21:00:00|                   77|\n",
      "|2023-07-31 20:00:00|                   77|\n",
      "|2023-07-31 19:00:00|                   77|\n",
      "+-------------------+---------------------+\n",
      "only showing top 5 rows\n",
      "\n"
     ]
    },
    {
     "data": {
      "text/plain": [
       "1080144"
      ]
     },
     "execution_count": 57,
     "metadata": {},
     "output_type": "execute_result"
    }
   ],
   "source": [
    "all_hours.show(5)\n",
    "all_hours.filter('pickup_community_area==77').sort(all_hours.hour_cons.desc()).show(5)\n",
    "all_hours.count()"
   ]
  },
  {
   "cell_type": "markdown",
   "id": "f1dcfe5b-47e9-40c6-ba1b-d4e45f7a3b9c",
   "metadata": {},
   "source": [
    "## Закинем в ДФ со всеми районами и часами агрегированные данные"
   ]
  },
  {
   "cell_type": "code",
   "execution_count": 58,
   "id": "a3b00787-4656-49c2-9458-3a421f58a84c",
   "metadata": {
    "scrolled": true
   },
   "outputs": [],
   "source": [
    "all_hours = all_hours \\\n",
    "    .join(dfsp_timed_agg, (all_hours.hour_cons == dfsp_timed_agg.trip_start_timestamp) &\n",
    "    (all_hours.pickup_community_area == dfsp_timed_agg.pickup_community_area), 'left_outer').select(\n",
    "    all_hours.pickup_community_area,\n",
    "    all_hours.hour_cons,\n",
    "    dfsp_timed_agg.taxi_countdist,\n",
    "    dfsp_timed_agg.trips_count,\n",
    "    dfsp_timed_agg.cost_median,\n",
    "    dfsp_timed_agg.miles_median,\n",
    "    dfsp_timed_agg.seconds_median,\n",
    "    dfsp_timed_agg.taxi_countdist\n",
    "    ).na.fill(value=0).cache()\n",
    "\n",
    "#all_hours = all_hours.na.fill(value=0)\n",
    "#all_hours.filter(all_hours.pickup_community_area==rand_community).sort(all_hours.hour_cons.desc()).show(30)\n",
    "#all_hours.filter(all_hours.pickup_community_area==rand_community).count()"
   ]
  },
  {
   "cell_type": "code",
   "execution_count": 59,
   "id": "a736ffc0-d6e1-4931-b9b9-110f4cc4b83a",
   "metadata": {
    "scrolled": true
   },
   "outputs": [
    {
     "name": "stdout",
     "output_type": "stream",
     "text": [
      "+---------------------+--------------------+-----------+-----------+------------------+--------------+-------------------+--------------------+--------------+\n",
      "|pickup_community_area|trip_start_timestamp|trips_count|cost_median|      miles_median|seconds_median|centroid_lat_median|centroid_long_median|taxi_countdist|\n",
      "+---------------------+--------------------+-----------+-----------+------------------+--------------+-------------------+--------------------+--------------+\n",
      "|                   69| 2023-07-31 20:00:00|          3|      25.25|               4.6|         660.0|       41.763246799|       -87.616134111|             3|\n",
      "|                   69| 2023-07-31 19:00:00|          4|     31.625|              7.66|        1242.5|       41.763246799|       -87.616134111|             4|\n",
      "|                   69| 2023-07-31 18:00:00|          7|      28.25|               0.2|        1620.0|       41.763246799|       -87.616134111|             7|\n",
      "|                   69| 2023-07-31 17:00:00|          3|       29.0|              9.34|        2041.0|       41.763246799|       -87.616134111|             3|\n",
      "|                   69| 2023-07-31 16:00:00|          4|     28.625|            10.465|        1236.5|       41.763246799|       -87.616134111|             4|\n",
      "|                   69| 2023-07-31 15:00:00|          6|     22.125|2.5500000000000003|        1141.0|       41.763246799|       -87.616134111|             6|\n",
      "|                   69| 2023-07-31 14:00:00|          5|       25.0|               7.4|         960.0|       41.763246799|       -87.616134111|             5|\n",
      "|                   69| 2023-07-31 13:00:00|          4|     28.625| 7.765000000000001|        1434.0|       41.763246799|       -87.616134111|             4|\n",
      "|                   69| 2023-07-31 12:00:00|         10|      28.25|             9.725|        1190.0|       41.763246799|       -87.616134111|            10|\n",
      "|                   69| 2023-07-31 11:00:00|          8|       22.5|             7.635|        1246.0|       41.763246799|       -87.616134111|             8|\n",
      "|                   69| 2023-07-31 10:00:00|         12|     29.875|11.155000000000001|        1186.0|       41.763246799|       -87.616134111|            10|\n",
      "|                   69| 2023-07-31 09:00:00|          7|      28.75|             10.47|        1002.0|       41.763246799|       -87.616134111|             7|\n",
      "|                   69| 2023-07-31 08:00:00|          2|     28.375|             10.71|        1262.0|       41.763246799|       -87.616134111|             2|\n",
      "|                   69| 2023-07-31 07:00:00|          2|      19.74| 5.555000000000001|         572.0|       41.763246799|       -87.616134111|             2|\n",
      "|                   69| 2023-07-31 06:00:00|          1|      23.25|              8.96|         706.0|       41.763246799|       -87.616134111|             1|\n",
      "|                   69| 2023-07-31 05:00:00|          1|       30.0|             11.73|        1032.0|       41.763246799|       -87.616134111|             1|\n",
      "|                   69| 2023-07-31 04:00:00|          2|     26.875|              9.23|         684.5|       41.763246799|       -87.616134111|             2|\n",
      "|                   69| 2023-07-31 03:00:00|          2|     29.375|11.600000000000001|         681.0|       41.763246799|       -87.616134111|             2|\n",
      "|                   69| 2023-07-30 22:00:00|          1|      31.75|              12.0|        1740.0|       41.763246799|       -87.616134111|             1|\n",
      "|                   69| 2023-07-30 21:00:00|          1|      33.25|               0.7|        1620.0|       41.763246799|       -87.616134111|             1|\n",
      "|                   69| 2023-07-30 20:00:00|          3|       25.0|               0.7|        1320.0|       41.763246799|       -87.616134111|             3|\n",
      "|                   69| 2023-07-30 19:00:00|          4|       29.5|            10.825|        1107.0|       41.763246799|       -87.616134111|             4|\n",
      "|                   69| 2023-07-30 18:00:00|          7|      28.25|              6.71|        1180.5|       41.763246799|       -87.616134111|             5|\n",
      "|                   69| 2023-07-30 17:00:00|          2|      8.375|             2.115|         384.5|       41.763246799|       -87.616134111|             2|\n",
      "|                   69| 2023-07-30 16:00:00|          9|       26.5|              8.92|        1492.0|       41.763246799|       -87.616134111|             8|\n",
      "|                   69| 2023-07-30 15:00:00|          2|     26.625|            10.175|        1104.0|       41.763246799|       -87.616134111|             2|\n",
      "|                   69| 2023-07-30 14:00:00|          4|       20.5|             2.845|        1131.0|       41.763246799|       -87.616134111|             4|\n",
      "|                   69| 2023-07-30 13:00:00|          2|     14.875|             4.935|         562.5|       41.763246799|       -87.616134111|             2|\n",
      "|                   69| 2023-07-30 12:00:00|          4|      23.91|             8.775|        1124.5|       41.763246799|       -87.616134111|             4|\n",
      "|                   69| 2023-07-30 10:00:00|          5|       26.0|              9.74|        1115.0|       41.763246799|       -87.616134111|             4|\n",
      "+---------------------+--------------------+-----------+-----------+------------------+--------------+-------------------+--------------------+--------------+\n",
      "only showing top 30 rows\n",
      "\n"
     ]
    }
   ],
   "source": [
    "dfsp_timed_agg.filter(dfsp_timed.pickup_community_area==rand_community).sort(dfsp_timed.trip_start_timestamp.desc()).show(30)"
   ]
  },
  {
   "cell_type": "code",
   "execution_count": 60,
   "id": "116e03d4-de5e-4fc4-b74a-d829b5f313af",
   "metadata": {},
   "outputs": [
    {
     "name": "stdout",
     "output_type": "stream",
     "text": [
      "Количество используемой памяти 33_025_492 байт, пиковое 71_242_388 байт\n"
     ]
    }
   ],
   "source": [
    "mem_use()"
   ]
  },
  {
   "cell_type": "code",
   "execution_count": 61,
   "id": "35f9454e-dff8-4e46-bb72-53cccceb9d60",
   "metadata": {
    "scrolled": true
   },
   "outputs": [
    {
     "name": "stdout",
     "output_type": "stream",
     "text": [
      "== Physical Plan ==\n",
      "InMemoryTableScan [pickup_community_area#20845, hour_cons#19924, taxi_countdist#20846L, trips_count#20847L, cost_median#20848, miles_median#20849, seconds_median#20850, taxi_countdist#20851L]\n",
      "   +- InMemoryRelation [pickup_community_area#20845, hour_cons#19924, taxi_countdist#20846L, trips_count#20847L, cost_median#20848, miles_median#20849, seconds_median#20850, taxi_countdist#20851L], StorageLevel(disk, memory, deserialized, 1 replicas)\n",
      "         +- *(82) Project [coalesce(pickup_community_area#19925, 0) AS pickup_community_area#20845, hour_cons#19924, coalesce(taxi_countdist#18934L, 0) AS taxi_countdist#20846L, coalesce(trips_count#18923L, 0) AS trips_count#20847L, coalesce(nanvl(cost_median#18925, null), 0.0) AS cost_median#20848, coalesce(nanvl(miles_median#18927, null), 0.0) AS miles_median#20849, coalesce(nanvl(seconds_median#18929, null), 0.0) AS seconds_median#20850, coalesce(taxi_countdist#18934L, 0) AS taxi_countdist#20851L]\n",
      "            +- *(82) SortMergeJoin [pickup_community_area#19925, hour_cons#19924], [pickup_community_area#5944, trip_start_timestamp#15726], LeftOuter\n",
      "               :- *(80) Sort [pickup_community_area#19925 ASC NULLS FIRST, hour_cons#19924 ASC NULLS FIRST], false, 0\n",
      "               :  +- Exchange hashpartitioning(pickup_community_area#19925, hour_cons#19924, 200), ENSURE_REQUIREMENTS, [plan_id=6324]\n",
      "               :     +- Union\n",
      "               :        :- *(1) Scan ExistingRDD[hour_cons#19924,pickup_community_area#19925]\n",
      "               :        :- *(2) Project [date_trunc(hour, time#19834, Some(Etc/UTC)) AS hour_cons#19836, 0 AS pickup_community_area#19928]\n",
      "               :        :  +- *(2) Generate explode(sequence(cast(min_hour#19829 as timestamp), cast(max_hour#19830 as timestamp), Some(INTERVAL '01' HOUR), Some(Etc/UTC))), false, [time#19834]\n",
      "               :        :     +- *(2) Scan ExistingRDD[min_hour#19829,max_hour#19830]\n",
      "               :        :- *(3) Project [date_trunc(hour, time#19834, Some(Etc/UTC)) AS hour_cons#19938, 1 AS pickup_community_area#19939]\n",
      "               :        :  +- *(3) Generate explode(sequence(cast(min_hour#19936 as timestamp), cast(max_hour#19937 as timestamp), Some(INTERVAL '01' HOUR), Some(Etc/UTC))), false, [time#19834]\n",
      "               :        :     +- *(3) Scan ExistingRDD[min_hour#19936,max_hour#19937]\n",
      "               :        :- *(4) Project [date_trunc(hour, time#19834, Some(Etc/UTC)) AS hour_cons#19947, 2 AS pickup_community_area#19948]\n",
      "               :        :  +- *(4) Generate explode(sequence(cast(min_hour#19945 as timestamp), cast(max_hour#19946 as timestamp), Some(INTERVAL '01' HOUR), Some(Etc/UTC))), false, [time#19834]\n",
      "               :        :     +- *(4) Scan ExistingRDD[min_hour#19945,max_hour#19946]\n",
      "               :        :- *(5) Project [date_trunc(hour, time#19834, Some(Etc/UTC)) AS hour_cons#19956, 3 AS pickup_community_area#19957]\n",
      "               :        :  +- *(5) Generate explode(sequence(cast(min_hour#19954 as timestamp), cast(max_hour#19955 as timestamp), Some(INTERVAL '01' HOUR), Some(Etc/UTC))), false, [time#19834]\n",
      "               :        :     +- *(5) Scan ExistingRDD[min_hour#19954,max_hour#19955]\n",
      "               :        :- *(6) Project [date_trunc(hour, time#19834, Some(Etc/UTC)) AS hour_cons#19965, 4 AS pickup_community_area#19966]\n",
      "               :        :  +- *(6) Generate explode(sequence(cast(min_hour#19963 as timestamp), cast(max_hour#19964 as timestamp), Some(INTERVAL '01' HOUR), Some(Etc/UTC))), false, [time#19834]\n",
      "               :        :     +- *(6) Scan ExistingRDD[min_hour#19963,max_hour#19964]\n",
      "               :        :- *(7) Project [date_trunc(hour, time#19834, Some(Etc/UTC)) AS hour_cons#19974, 5 AS pickup_community_area#19975]\n",
      "               :        :  +- *(7) Generate explode(sequence(cast(min_hour#19972 as timestamp), cast(max_hour#19973 as timestamp), Some(INTERVAL '01' HOUR), Some(Etc/UTC))), false, [time#19834]\n",
      "               :        :     +- *(7) Scan ExistingRDD[min_hour#19972,max_hour#19973]\n",
      "               :        :- *(8) Project [date_trunc(hour, time#19834, Some(Etc/UTC)) AS hour_cons#19983, 6 AS pickup_community_area#19984]\n",
      "               :        :  +- *(8) Generate explode(sequence(cast(min_hour#19981 as timestamp), cast(max_hour#19982 as timestamp), Some(INTERVAL '01' HOUR), Some(Etc/UTC))), false, [time#19834]\n",
      "               :        :     +- *(8) Scan ExistingRDD[min_hour#19981,max_hour#19982]\n",
      "               :        :- *(9) Project [date_trunc(hour, time#19834, Some(Etc/UTC)) AS hour_cons#19992, 7 AS pickup_community_area#19993]\n",
      "               :        :  +- *(9) Generate explode(sequence(cast(min_hour#19990 as timestamp), cast(max_hour#19991 as timestamp), Some(INTERVAL '01' HOUR), Some(Etc/UTC))), false, [time#19834]\n",
      "               :        :     +- *(9) Scan ExistingRDD[min_hour#19990,max_hour#19991]\n",
      "               :        :- *(10) Project [date_trunc(hour, time#19834, Some(Etc/UTC)) AS hour_cons#20001, 8 AS pickup_community_area#20002]\n",
      "               :        :  +- *(10) Generate explode(sequence(cast(min_hour#19999 as timestamp), cast(max_hour#20000 as timestamp), Some(INTERVAL '01' HOUR), Some(Etc/UTC))), false, [time#19834]\n",
      "               :        :     +- *(10) Scan ExistingRDD[min_hour#19999,max_hour#20000]\n",
      "               :        :- *(11) Project [date_trunc(hour, time#19834, Some(Etc/UTC)) AS hour_cons#20010, 9 AS pickup_community_area#20011]\n",
      "               :        :  +- *(11) Generate explode(sequence(cast(min_hour#20008 as timestamp), cast(max_hour#20009 as timestamp), Some(INTERVAL '01' HOUR), Some(Etc/UTC))), false, [time#19834]\n",
      "               :        :     +- *(11) Scan ExistingRDD[min_hour#20008,max_hour#20009]\n",
      "               :        :- *(12) Project [date_trunc(hour, time#19834, Some(Etc/UTC)) AS hour_cons#20019, 10 AS pickup_community_area#20020]\n",
      "               :        :  +- *(12) Generate explode(sequence(cast(min_hour#20017 as timestamp), cast(max_hour#20018 as timestamp), Some(INTERVAL '01' HOUR), Some(Etc/UTC))), false, [time#19834]\n",
      "               :        :     +- *(12) Scan ExistingRDD[min_hour#20017,max_hour#20018]\n",
      "               :        :- *(13) Project [date_trunc(hour, time#19834, Some(Etc/UTC)) AS hour_cons#20028, 11 AS pickup_community_area#20029]\n",
      "               :        :  +- *(13) Generate explode(sequence(cast(min_hour#20026 as timestamp), cast(max_hour#20027 as timestamp), Some(INTERVAL '01' HOUR), Some(Etc/UTC))), false, [time#19834]\n",
      "               :        :     +- *(13) Scan ExistingRDD[min_hour#20026,max_hour#20027]\n",
      "               :        :- *(14) Project [date_trunc(hour, time#19834, Some(Etc/UTC)) AS hour_cons#20037, 12 AS pickup_community_area#20038]\n",
      "               :        :  +- *(14) Generate explode(sequence(cast(min_hour#20035 as timestamp), cast(max_hour#20036 as timestamp), Some(INTERVAL '01' HOUR), Some(Etc/UTC))), false, [time#19834]\n",
      "               :        :     +- *(14) Scan ExistingRDD[min_hour#20035,max_hour#20036]\n",
      "               :        :- *(15) Project [date_trunc(hour, time#19834, Some(Etc/UTC)) AS hour_cons#20046, 13 AS pickup_community_area#20047]\n",
      "               :        :  +- *(15) Generate explode(sequence(cast(min_hour#20044 as timestamp), cast(max_hour#20045 as timestamp), Some(INTERVAL '01' HOUR), Some(Etc/UTC))), false, [time#19834]\n",
      "               :        :     +- *(15) Scan ExistingRDD[min_hour#20044,max_hour#20045]\n",
      "               :        :- *(16) Project [date_trunc(hour, time#19834, Some(Etc/UTC)) AS hour_cons#20055, 14 AS pickup_community_area#20056]\n",
      "               :        :  +- *(16) Generate explode(sequence(cast(min_hour#20053 as timestamp), cast(max_hour#20054 as timestamp), Some(INTERVAL '01' HOUR), Some(Etc/UTC))), false, [time#19834]\n",
      "               :        :     +- *(16) Scan ExistingRDD[min_hour#20053,max_hour#20054]\n",
      "               :        :- *(17) Project [date_trunc(hour, time#19834, Some(Etc/UTC)) AS hour_cons#20064, 15 AS pickup_community_area#20065]\n",
      "               :        :  +- *(17) Generate explode(sequence(cast(min_hour#20062 as timestamp), cast(max_hour#20063 as timestamp), Some(INTERVAL '01' HOUR), Some(Etc/UTC))), false, [time#19834]\n",
      "               :        :     +- *(17) Scan ExistingRDD[min_hour#20062,max_hour#20063]\n",
      "               :        :- *(18) Project [date_trunc(hour, time#19834, Some(Etc/UTC)) AS hour_cons#20073, 16 AS pickup_community_area#20074]\n",
      "               :        :  +- *(18) Generate explode(sequence(cast(min_hour#20071 as timestamp), cast(max_hour#20072 as timestamp), Some(INTERVAL '01' HOUR), Some(Etc/UTC))), false, [time#19834]\n",
      "               :        :     +- *(18) Scan ExistingRDD[min_hour#20071,max_hour#20072]\n",
      "               :        :- *(19) Project [date_trunc(hour, time#19834, Some(Etc/UTC)) AS hour_cons#20082, 17 AS pickup_community_area#20083]\n",
      "               :        :  +- *(19) Generate explode(sequence(cast(min_hour#20080 as timestamp), cast(max_hour#20081 as timestamp), Some(INTERVAL '01' HOUR), Some(Etc/UTC))), false, [time#19834]\n",
      "               :        :     +- *(19) Scan ExistingRDD[min_hour#20080,max_hour#20081]\n",
      "               :        :- *(20) Project [date_trunc(hour, time#19834, Some(Etc/UTC)) AS hour_cons#20091, 18 AS pickup_community_area#20092]\n",
      "               :        :  +- *(20) Generate explode(sequence(cast(min_hour#20089 as timestamp), cast(max_hour#20090 as timestamp), Some(INTERVAL '01' HOUR), Some(Etc/UTC))), false, [time#19834]\n",
      "               :        :     +- *(20) Scan ExistingRDD[min_hour#20089,max_hour#20090]\n",
      "               :        :- *(21) Project [date_trunc(hour, time#19834, Some(Etc/UTC)) AS hour_cons#20100, 19 AS pickup_community_area#20101]\n",
      "               :        :  +- *(21) Generate explode(sequence(cast(min_hour#20098 as timestamp), cast(max_hour#20099 as timestamp), Some(INTERVAL '01' HOUR), Some(Etc/UTC))), false, [time#19834]\n",
      "               :        :     +- *(21) Scan ExistingRDD[min_hour#20098,max_hour#20099]\n",
      "               :        :- *(22) Project [date_trunc(hour, time#19834, Some(Etc/UTC)) AS hour_cons#20109, 20 AS pickup_community_area#20110]\n",
      "               :        :  +- *(22) Generate explode(sequence(cast(min_hour#20107 as timestamp), cast(max_hour#20108 as timestamp), Some(INTERVAL '01' HOUR), Some(Etc/UTC))), false, [time#19834]\n",
      "               :        :     +- *(22) Scan ExistingRDD[min_hour#20107,max_hour#20108]\n",
      "               :        :- *(23) Project [date_trunc(hour, time#19834, Some(Etc/UTC)) AS hour_cons#20118, 21 AS pickup_community_area#20119]\n",
      "               :        :  +- *(23) Generate explode(sequence(cast(min_hour#20116 as timestamp), cast(max_hour#20117 as timestamp), Some(INTERVAL '01' HOUR), Some(Etc/UTC))), false, [time#19834]\n",
      "               :        :     +- *(23) Scan ExistingRDD[min_hour#20116,max_hour#20117]\n",
      "               :        :- *(24) Project [date_trunc(hour, time#19834, Some(Etc/UTC)) AS hour_cons#20127, 22 AS pickup_community_area#20128]\n",
      "               :        :  +- *(24) Generate explode(sequence(cast(min_hour#20125 as timestamp), cast(max_hour#20126 as timestamp), Some(INTERVAL '01' HOUR), Some(Etc/UTC))), false, [time#19834]\n",
      "               :        :     +- *(24) Scan ExistingRDD[min_hour#20125,max_hour#20126]\n",
      "               :        :- *(25) Project [date_trunc(hour, time#19834, Some(Etc/UTC)) AS hour_cons#20136, 23 AS pickup_community_area#20137]\n",
      "               :        :  +- *(25) Generate explode(sequence(cast(min_hour#20134 as timestamp), cast(max_hour#20135 as timestamp), Some(INTERVAL '01' HOUR), Some(Etc/UTC))), false, [time#19834]\n",
      "               :        :     +- *(25) Scan ExistingRDD[min_hour#20134,max_hour#20135]\n",
      "               :        :- *(26) Project [date_trunc(hour, time#19834, Some(Etc/UTC)) AS hour_cons#20145, 24 AS pickup_community_area#20146]\n",
      "               :        :  +- *(26) Generate explode(sequence(cast(min_hour#20143 as timestamp), cast(max_hour#20144 as timestamp), Some(INTERVAL '01' HOUR), Some(Etc/UTC))), false, [time#19834]\n",
      "               :        :     +- *(26) Scan ExistingRDD[min_hour#20143,max_hour#20144]\n",
      "               :        :- *(27) Project [date_trunc(hour, time#19834, Some(Etc/UTC)) AS hour_cons#20154, 25 AS pickup_community_area#20155]\n",
      "               :        :  +- *(27) Generate explode(sequence(cast(min_hour#20152 as timestamp), cast(max_hour#20153 as timestamp), Some(INTERVAL '01' HOUR), Some(Etc/UTC))), false, [time#19834]\n",
      "               :        :     +- *(27) Scan ExistingRDD[min_hour#20152,max_hour#20153]\n",
      "               :        :- *(28) Project [date_trunc(hour, time#19834, Some(Etc/UTC)) AS hour_cons#20163, 26 AS pickup_community_area#20164]\n",
      "               :        :  +- *(28) Generate explode(sequence(cast(min_hour#20161 as timestamp), cast(max_hour#20162 as timestamp), Some(INTERVAL '01' HOUR), Some(Etc/UTC))), false, [time#19834]\n",
      "               :        :     +- *(28) Scan ExistingRDD[min_hour#20161,max_hour#20162]\n",
      "               :        :- *(29) Project [date_trunc(hour, time#19834, Some(Etc/UTC)) AS hour_cons#20172, 27 AS pickup_community_area#20173]\n",
      "               :        :  +- *(29) Generate explode(sequence(cast(min_hour#20170 as timestamp), cast(max_hour#20171 as timestamp), Some(INTERVAL '01' HOUR), Some(Etc/UTC))), false, [time#19834]\n",
      "               :        :     +- *(29) Scan ExistingRDD[min_hour#20170,max_hour#20171]\n",
      "               :        :- *(30) Project [date_trunc(hour, time#19834, Some(Etc/UTC)) AS hour_cons#20181, 28 AS pickup_community_area#20182]\n",
      "               :        :  +- *(30) Generate explode(sequence(cast(min_hour#20179 as timestamp), cast(max_hour#20180 as timestamp), Some(INTERVAL '01' HOUR), Some(Etc/UTC))), false, [time#19834]\n",
      "               :        :     +- *(30) Scan ExistingRDD[min_hour#20179,max_hour#20180]\n",
      "               :        :- *(31) Project [date_trunc(hour, time#19834, Some(Etc/UTC)) AS hour_cons#20190, 29 AS pickup_community_area#20191]\n",
      "               :        :  +- *(31) Generate explode(sequence(cast(min_hour#20188 as timestamp), cast(max_hour#20189 as timestamp), Some(INTERVAL '01' HOUR), Some(Etc/UTC))), false, [time#19834]\n",
      "               :        :     +- *(31) Scan ExistingRDD[min_hour#20188,max_hour#20189]\n",
      "               :        :- *(32) Project [date_trunc(hour, time#19834, Some(Etc/UTC)) AS hour_cons#20199, 30 AS pickup_community_area#20200]\n",
      "               :        :  +- *(32) Generate explode(sequence(cast(min_hour#20197 as timestamp), cast(max_hour#20198 as timestamp), Some(INTERVAL '01' HOUR), Some(Etc/UTC))), false, [time#19834]\n",
      "               :        :     +- *(32) Scan ExistingRDD[min_hour#20197,max_hour#20198]\n",
      "               :        :- *(33) Project [date_trunc(hour, time#19834, Some(Etc/UTC)) AS hour_cons#20208, 31 AS pickup_community_area#20209]\n",
      "               :        :  +- *(33) Generate explode(sequence(cast(min_hour#20206 as timestamp), cast(max_hour#20207 as timestamp), Some(INTERVAL '01' HOUR), Some(Etc/UTC))), false, [time#19834]\n",
      "               :        :     +- *(33) Scan ExistingRDD[min_hour#20206,max_hour#20207]\n",
      "               :        :- *(34) Project [date_trunc(hour, time#19834, Some(Etc/UTC)) AS hour_cons#20217, 32 AS pickup_community_area#20218]\n",
      "               :        :  +- *(34) Generate explode(sequence(cast(min_hour#20215 as timestamp), cast(max_hour#20216 as timestamp), Some(INTERVAL '01' HOUR), Some(Etc/UTC))), false, [time#19834]\n",
      "               :        :     +- *(34) Scan ExistingRDD[min_hour#20215,max_hour#20216]\n",
      "               :        :- *(35) Project [date_trunc(hour, time#19834, Some(Etc/UTC)) AS hour_cons#20226, 33 AS pickup_community_area#20227]\n",
      "               :        :  +- *(35) Generate explode(sequence(cast(min_hour#20224 as timestamp), cast(max_hour#20225 as timestamp), Some(INTERVAL '01' HOUR), Some(Etc/UTC))), false, [time#19834]\n",
      "               :        :     +- *(35) Scan ExistingRDD[min_hour#20224,max_hour#20225]\n",
      "               :        :- *(36) Project [date_trunc(hour, time#19834, Some(Etc/UTC)) AS hour_cons#20235, 34 AS pickup_community_area#20236]\n",
      "               :        :  +- *(36) Generate explode(sequence(cast(min_hour#20233 as timestamp), cast(max_hour#20234 as timestamp), Some(INTERVAL '01' HOUR), Some(Etc/UTC))), false, [time#19834]\n",
      "               :        :     +- *(36) Scan ExistingRDD[min_hour#20233,max_hour#20234]\n",
      "               :        :- *(37) Project [date_trunc(hour, time#19834, Some(Etc/UTC)) AS hour_cons#20244, 35 AS pickup_community_area#20245]\n",
      "               :        :  +- *(37) Generate explode(sequence(cast(min_hour#20242 as timestamp), cast(max_hour#20243 as timestamp), Some(INTERVAL '01' HOUR), Some(Etc/UTC))), false, [time#19834]\n",
      "               :        :     +- *(37) Scan ExistingRDD[min_hour#20242,max_hour#20243]\n",
      "               :        :- *(38) Project [date_trunc(hour, time#19834, Some(Etc/UTC)) AS hour_cons#20253, 36 AS pickup_community_area#20254]\n",
      "               :        :  +- *(38) Generate explode(sequence(cast(min_hour#20251 as timestamp), cast(max_hour#20252 as timestamp), Some(INTERVAL '01' HOUR), Some(Etc/UTC))), false, [time#19834]\n",
      "               :        :     +- *(38) Scan ExistingRDD[min_hour#20251,max_hour#20252]\n",
      "               :        :- *(39) Project [date_trunc(hour, time#19834, Some(Etc/UTC)) AS hour_cons#20262, 37 AS pickup_community_area#20263]\n",
      "               :        :  +- *(39) Generate explode(sequence(cast(min_hour#20260 as timestamp), cast(max_hour#20261 as timestamp), Some(INTERVAL '01' HOUR), Some(Etc/UTC))), false, [time#19834]\n",
      "               :        :     +- *(39) Scan ExistingRDD[min_hour#20260,max_hour#20261]\n",
      "               :        :- *(40) Project [date_trunc(hour, time#19834, Some(Etc/UTC)) AS hour_cons#20271, 38 AS pickup_community_area#20272]\n",
      "               :        :  +- *(40) Generate explode(sequence(cast(min_hour#20269 as timestamp), cast(max_hour#20270 as timestamp), Some(INTERVAL '01' HOUR), Some(Etc/UTC))), false, [time#19834]\n",
      "               :        :     +- *(40) Scan ExistingRDD[min_hour#20269,max_hour#20270]\n",
      "               :        :- *(41) Project [date_trunc(hour, time#19834, Some(Etc/UTC)) AS hour_cons#20280, 39 AS pickup_community_area#20281]\n",
      "               :        :  +- *(41) Generate explode(sequence(cast(min_hour#20278 as timestamp), cast(max_hour#20279 as timestamp), Some(INTERVAL '01' HOUR), Some(Etc/UTC))), false, [time#19834]\n",
      "               :        :     +- *(41) Scan ExistingRDD[min_hour#20278,max_hour#20279]\n",
      "               :        :- *(42) Project [date_trunc(hour, time#19834, Some(Etc/UTC)) AS hour_cons#20289, 40 AS pickup_community_area#20290]\n",
      "               :        :  +- *(42) Generate explode(sequence(cast(min_hour#20287 as timestamp), cast(max_hour#20288 as timestamp), Some(INTERVAL '01' HOUR), Some(Etc/UTC))), false, [time#19834]\n",
      "               :        :     +- *(42) Scan ExistingRDD[min_hour#20287,max_hour#20288]\n",
      "               :        :- *(43) Project [date_trunc(hour, time#19834, Some(Etc/UTC)) AS hour_cons#20298, 41 AS pickup_community_area#20299]\n",
      "               :        :  +- *(43) Generate explode(sequence(cast(min_hour#20296 as timestamp), cast(max_hour#20297 as timestamp), Some(INTERVAL '01' HOUR), Some(Etc/UTC))), false, [time#19834]\n",
      "               :        :     +- *(43) Scan ExistingRDD[min_hour#20296,max_hour#20297]\n",
      "               :        :- *(44) Project [date_trunc(hour, time#19834, Some(Etc/UTC)) AS hour_cons#20307, 42 AS pickup_community_area#20308]\n",
      "               :        :  +- *(44) Generate explode(sequence(cast(min_hour#20305 as timestamp), cast(max_hour#20306 as timestamp), Some(INTERVAL '01' HOUR), Some(Etc/UTC))), false, [time#19834]\n",
      "               :        :     +- *(44) Scan ExistingRDD[min_hour#20305,max_hour#20306]\n",
      "               :        :- *(45) Project [date_trunc(hour, time#19834, Some(Etc/UTC)) AS hour_cons#20316, 43 AS pickup_community_area#20317]\n",
      "               :        :  +- *(45) Generate explode(sequence(cast(min_hour#20314 as timestamp), cast(max_hour#20315 as timestamp), Some(INTERVAL '01' HOUR), Some(Etc/UTC))), false, [time#19834]\n",
      "               :        :     +- *(45) Scan ExistingRDD[min_hour#20314,max_hour#20315]\n",
      "               :        :- *(46) Project [date_trunc(hour, time#19834, Some(Etc/UTC)) AS hour_cons#20325, 44 AS pickup_community_area#20326]\n",
      "               :        :  +- *(46) Generate explode(sequence(cast(min_hour#20323 as timestamp), cast(max_hour#20324 as timestamp), Some(INTERVAL '01' HOUR), Some(Etc/UTC))), false, [time#19834]\n",
      "               :        :     +- *(46) Scan ExistingRDD[min_hour#20323,max_hour#20324]\n",
      "               :        :- *(47) Project [date_trunc(hour, time#19834, Some(Etc/UTC)) AS hour_cons#20334, 45 AS pickup_community_area#20335]\n",
      "               :        :  +- *(47) Generate explode(sequence(cast(min_hour#20332 as timestamp), cast(max_hour#20333 as timestamp), Some(INTERVAL '01' HOUR), Some(Etc/UTC))), false, [time#19834]\n",
      "               :        :     +- *(47) Scan ExistingRDD[min_hour#20332,max_hour#20333]\n",
      "               :        :- *(48) Project [date_trunc(hour, time#19834, Some(Etc/UTC)) AS hour_cons#20343, 46 AS pickup_community_area#20344]\n",
      "               :        :  +- *(48) Generate explode(sequence(cast(min_hour#20341 as timestamp), cast(max_hour#20342 as timestamp), Some(INTERVAL '01' HOUR), Some(Etc/UTC))), false, [time#19834]\n",
      "               :        :     +- *(48) Scan ExistingRDD[min_hour#20341,max_hour#20342]\n",
      "               :        :- *(49) Project [date_trunc(hour, time#19834, Some(Etc/UTC)) AS hour_cons#20352, 47 AS pickup_community_area#20353]\n",
      "               :        :  +- *(49) Generate explode(sequence(cast(min_hour#20350 as timestamp), cast(max_hour#20351 as timestamp), Some(INTERVAL '01' HOUR), Some(Etc/UTC))), false, [time#19834]\n",
      "               :        :     +- *(49) Scan ExistingRDD[min_hour#20350,max_hour#20351]\n",
      "               :        :- *(50) Project [date_trunc(hour, time#19834, Some(Etc/UTC)) AS hour_cons#20361, 48 AS pickup_community_area#20362]\n",
      "               :        :  +- *(50) Generate explode(sequence(cast(min_hour#20359 as timestamp), cast(max_hour#20360 as timestamp), Some(INTERVAL '01' HOUR), Some(Etc/UTC))), false, [time#19834]\n",
      "               :        :     +- *(50) Scan ExistingRDD[min_hour#20359,max_hour#20360]\n",
      "               :        :- *(51) Project [date_trunc(hour, time#19834, Some(Etc/UTC)) AS hour_cons#20370, 49 AS pickup_community_area#20371]\n",
      "               :        :  +- *(51) Generate explode(sequence(cast(min_hour#20368 as timestamp), cast(max_hour#20369 as timestamp), Some(INTERVAL '01' HOUR), Some(Etc/UTC))), false, [time#19834]\n",
      "               :        :     +- *(51) Scan ExistingRDD[min_hour#20368,max_hour#20369]\n",
      "               :        :- *(52) Project [date_trunc(hour, time#19834, Some(Etc/UTC)) AS hour_cons#20379, 50 AS pickup_community_area#20380]\n",
      "               :        :  +- *(52) Generate explode(sequence(cast(min_hour#20377 as timestamp), cast(max_hour#20378 as timestamp), Some(INTERVAL '01' HOUR), Some(Etc/UTC))), false, [time#19834]\n",
      "               :        :     +- *(52) Scan ExistingRDD[min_hour#20377,max_hour#20378]\n",
      "               :        :- *(53) Project [date_trunc(hour, time#19834, Some(Etc/UTC)) AS hour_cons#20388, 51 AS pickup_community_area#20389]\n",
      "               :        :  +- *(53) Generate explode(sequence(cast(min_hour#20386 as timestamp), cast(max_hour#20387 as timestamp), Some(INTERVAL '01' HOUR), Some(Etc/UTC))), false, [time#19834]\n",
      "               :        :     +- *(53) Scan ExistingRDD[min_hour#20386,max_hour#20387]\n",
      "               :        :- *(54) Project [date_trunc(hour, time#19834, Some(Etc/UTC)) AS hour_cons#20397, 52 AS pickup_community_area#20398]\n",
      "               :        :  +- *(54) Generate explode(sequence(cast(min_hour#20395 as timestamp), cast(max_hour#20396 as timestamp), Some(INTERVAL '01' HOUR), Some(Etc/UTC))), false, [time#19834]\n",
      "               :        :     +- *(54) Scan ExistingRDD[min_hour#20395,max_hour#20396]\n",
      "               :        :- *(55) Project [date_trunc(hour, time#19834, Some(Etc/UTC)) AS hour_cons#20406, 53 AS pickup_community_area#20407]\n",
      "               :        :  +- *(55) Generate explode(sequence(cast(min_hour#20404 as timestamp), cast(max_hour#20405 as timestamp), Some(INTERVAL '01' HOUR), Some(Etc/UTC))), false, [time#19834]\n",
      "               :        :     +- *(55) Scan ExistingRDD[min_hour#20404,max_hour#20405]\n",
      "               :        :- *(56) Project [date_trunc(hour, time#19834, Some(Etc/UTC)) AS hour_cons#20415, 54 AS pickup_community_area#20416]\n",
      "               :        :  +- *(56) Generate explode(sequence(cast(min_hour#20413 as timestamp), cast(max_hour#20414 as timestamp), Some(INTERVAL '01' HOUR), Some(Etc/UTC))), false, [time#19834]\n",
      "               :        :     +- *(56) Scan ExistingRDD[min_hour#20413,max_hour#20414]\n",
      "               :        :- *(57) Project [date_trunc(hour, time#19834, Some(Etc/UTC)) AS hour_cons#20424, 55 AS pickup_community_area#20425]\n",
      "               :        :  +- *(57) Generate explode(sequence(cast(min_hour#20422 as timestamp), cast(max_hour#20423 as timestamp), Some(INTERVAL '01' HOUR), Some(Etc/UTC))), false, [time#19834]\n",
      "               :        :     +- *(57) Scan ExistingRDD[min_hour#20422,max_hour#20423]\n",
      "               :        :- *(58) Project [date_trunc(hour, time#19834, Some(Etc/UTC)) AS hour_cons#20433, 56 AS pickup_community_area#20434]\n",
      "               :        :  +- *(58) Generate explode(sequence(cast(min_hour#20431 as timestamp), cast(max_hour#20432 as timestamp), Some(INTERVAL '01' HOUR), Some(Etc/UTC))), false, [time#19834]\n",
      "               :        :     +- *(58) Scan ExistingRDD[min_hour#20431,max_hour#20432]\n",
      "               :        :- *(59) Project [date_trunc(hour, time#19834, Some(Etc/UTC)) AS hour_cons#20442, 57 AS pickup_community_area#20443]\n",
      "               :        :  +- *(59) Generate explode(sequence(cast(min_hour#20440 as timestamp), cast(max_hour#20441 as timestamp), Some(INTERVAL '01' HOUR), Some(Etc/UTC))), false, [time#19834]\n",
      "               :        :     +- *(59) Scan ExistingRDD[min_hour#20440,max_hour#20441]\n",
      "               :        :- *(60) Project [date_trunc(hour, time#19834, Some(Etc/UTC)) AS hour_cons#20451, 58 AS pickup_community_area#20452]\n",
      "               :        :  +- *(60) Generate explode(sequence(cast(min_hour#20449 as timestamp), cast(max_hour#20450 as timestamp), Some(INTERVAL '01' HOUR), Some(Etc/UTC))), false, [time#19834]\n",
      "               :        :     +- *(60) Scan ExistingRDD[min_hour#20449,max_hour#20450]\n",
      "               :        :- *(61) Project [date_trunc(hour, time#19834, Some(Etc/UTC)) AS hour_cons#20460, 59 AS pickup_community_area#20461]\n",
      "               :        :  +- *(61) Generate explode(sequence(cast(min_hour#20458 as timestamp), cast(max_hour#20459 as timestamp), Some(INTERVAL '01' HOUR), Some(Etc/UTC))), false, [time#19834]\n",
      "               :        :     +- *(61) Scan ExistingRDD[min_hour#20458,max_hour#20459]\n",
      "               :        :- *(62) Project [date_trunc(hour, time#19834, Some(Etc/UTC)) AS hour_cons#20469, 60 AS pickup_community_area#20470]\n",
      "               :        :  +- *(62) Generate explode(sequence(cast(min_hour#20467 as timestamp), cast(max_hour#20468 as timestamp), Some(INTERVAL '01' HOUR), Some(Etc/UTC))), false, [time#19834]\n",
      "               :        :     +- *(62) Scan ExistingRDD[min_hour#20467,max_hour#20468]\n",
      "               :        :- *(63) Project [date_trunc(hour, time#19834, Some(Etc/UTC)) AS hour_cons#20478, 61 AS pickup_community_area#20479]\n",
      "               :        :  +- *(63) Generate explode(sequence(cast(min_hour#20476 as timestamp), cast(max_hour#20477 as timestamp), Some(INTERVAL '01' HOUR), Some(Etc/UTC))), false, [time#19834]\n",
      "               :        :     +- *(63) Scan ExistingRDD[min_hour#20476,max_hour#20477]\n",
      "               :        :- *(64) Project [date_trunc(hour, time#19834, Some(Etc/UTC)) AS hour_cons#20487, 62 AS pickup_community_area#20488]\n",
      "               :        :  +- *(64) Generate explode(sequence(cast(min_hour#20485 as timestamp), cast(max_hour#20486 as timestamp), Some(INTERVAL '01' HOUR), Some(Etc/UTC))), false, [time#19834]\n",
      "               :        :     +- *(64) Scan ExistingRDD[min_hour#20485,max_hour#20486]\n",
      "               :        :- *(65) Project [date_trunc(hour, time#19834, Some(Etc/UTC)) AS hour_cons#20496, 63 AS pickup_community_area#20497]\n",
      "               :        :  +- *(65) Generate explode(sequence(cast(min_hour#20494 as timestamp), cast(max_hour#20495 as timestamp), Some(INTERVAL '01' HOUR), Some(Etc/UTC))), false, [time#19834]\n",
      "               :        :     +- *(65) Scan ExistingRDD[min_hour#20494,max_hour#20495]\n",
      "               :        :- *(66) Project [date_trunc(hour, time#19834, Some(Etc/UTC)) AS hour_cons#20505, 64 AS pickup_community_area#20506]\n",
      "               :        :  +- *(66) Generate explode(sequence(cast(min_hour#20503 as timestamp), cast(max_hour#20504 as timestamp), Some(INTERVAL '01' HOUR), Some(Etc/UTC))), false, [time#19834]\n",
      "               :        :     +- *(66) Scan ExistingRDD[min_hour#20503,max_hour#20504]\n",
      "               :        :- *(67) Project [date_trunc(hour, time#19834, Some(Etc/UTC)) AS hour_cons#20514, 65 AS pickup_community_area#20515]\n",
      "               :        :  +- *(67) Generate explode(sequence(cast(min_hour#20512 as timestamp), cast(max_hour#20513 as timestamp), Some(INTERVAL '01' HOUR), Some(Etc/UTC))), false, [time#19834]\n",
      "               :        :     +- *(67) Scan ExistingRDD[min_hour#20512,max_hour#20513]\n",
      "               :        :- *(68) Project [date_trunc(hour, time#19834, Some(Etc/UTC)) AS hour_cons#20523, 66 AS pickup_community_area#20524]\n",
      "               :        :  +- *(68) Generate explode(sequence(cast(min_hour#20521 as timestamp), cast(max_hour#20522 as timestamp), Some(INTERVAL '01' HOUR), Some(Etc/UTC))), false, [time#19834]\n",
      "               :        :     +- *(68) Scan ExistingRDD[min_hour#20521,max_hour#20522]\n",
      "               :        :- *(69) Project [date_trunc(hour, time#19834, Some(Etc/UTC)) AS hour_cons#20532, 67 AS pickup_community_area#20533]\n",
      "               :        :  +- *(69) Generate explode(sequence(cast(min_hour#20530 as timestamp), cast(max_hour#20531 as timestamp), Some(INTERVAL '01' HOUR), Some(Etc/UTC))), false, [time#19834]\n",
      "               :        :     +- *(69) Scan ExistingRDD[min_hour#20530,max_hour#20531]\n",
      "               :        :- *(70) Project [date_trunc(hour, time#19834, Some(Etc/UTC)) AS hour_cons#20541, 68 AS pickup_community_area#20542]\n",
      "               :        :  +- *(70) Generate explode(sequence(cast(min_hour#20539 as timestamp), cast(max_hour#20540 as timestamp), Some(INTERVAL '01' HOUR), Some(Etc/UTC))), false, [time#19834]\n",
      "               :        :     +- *(70) Scan ExistingRDD[min_hour#20539,max_hour#20540]\n",
      "               :        :- *(71) Project [date_trunc(hour, time#19834, Some(Etc/UTC)) AS hour_cons#20550, 69 AS pickup_community_area#20551]\n",
      "               :        :  +- *(71) Generate explode(sequence(cast(min_hour#20548 as timestamp), cast(max_hour#20549 as timestamp), Some(INTERVAL '01' HOUR), Some(Etc/UTC))), false, [time#19834]\n",
      "               :        :     +- *(71) Scan ExistingRDD[min_hour#20548,max_hour#20549]\n",
      "               :        :- *(72) Project [date_trunc(hour, time#19834, Some(Etc/UTC)) AS hour_cons#20559, 70 AS pickup_community_area#20560]\n",
      "               :        :  +- *(72) Generate explode(sequence(cast(min_hour#20557 as timestamp), cast(max_hour#20558 as timestamp), Some(INTERVAL '01' HOUR), Some(Etc/UTC))), false, [time#19834]\n",
      "               :        :     +- *(72) Scan ExistingRDD[min_hour#20557,max_hour#20558]\n",
      "               :        :- *(73) Project [date_trunc(hour, time#19834, Some(Etc/UTC)) AS hour_cons#20568, 71 AS pickup_community_area#20569]\n",
      "               :        :  +- *(73) Generate explode(sequence(cast(min_hour#20566 as timestamp), cast(max_hour#20567 as timestamp), Some(INTERVAL '01' HOUR), Some(Etc/UTC))), false, [time#19834]\n",
      "               :        :     +- *(73) Scan ExistingRDD[min_hour#20566,max_hour#20567]\n",
      "               :        :- *(74) Project [date_trunc(hour, time#19834, Some(Etc/UTC)) AS hour_cons#20577, 72 AS pickup_community_area#20578]\n",
      "               :        :  +- *(74) Generate explode(sequence(cast(min_hour#20575 as timestamp), cast(max_hour#20576 as timestamp), Some(INTERVAL '01' HOUR), Some(Etc/UTC))), false, [time#19834]\n",
      "               :        :     +- *(74) Scan ExistingRDD[min_hour#20575,max_hour#20576]\n",
      "               :        :- *(75) Project [date_trunc(hour, time#19834, Some(Etc/UTC)) AS hour_cons#20586, 73 AS pickup_community_area#20587]\n",
      "               :        :  +- *(75) Generate explode(sequence(cast(min_hour#20584 as timestamp), cast(max_hour#20585 as timestamp), Some(INTERVAL '01' HOUR), Some(Etc/UTC))), false, [time#19834]\n",
      "               :        :     +- *(75) Scan ExistingRDD[min_hour#20584,max_hour#20585]\n",
      "               :        :- *(76) Project [date_trunc(hour, time#19834, Some(Etc/UTC)) AS hour_cons#20595, 74 AS pickup_community_area#20596]\n",
      "               :        :  +- *(76) Generate explode(sequence(cast(min_hour#20593 as timestamp), cast(max_hour#20594 as timestamp), Some(INTERVAL '01' HOUR), Some(Etc/UTC))), false, [time#19834]\n",
      "               :        :     +- *(76) Scan ExistingRDD[min_hour#20593,max_hour#20594]\n",
      "               :        :- *(77) Project [date_trunc(hour, time#19834, Some(Etc/UTC)) AS hour_cons#20604, 75 AS pickup_community_area#20605]\n",
      "               :        :  +- *(77) Generate explode(sequence(cast(min_hour#20602 as timestamp), cast(max_hour#20603 as timestamp), Some(INTERVAL '01' HOUR), Some(Etc/UTC))), false, [time#19834]\n",
      "               :        :     +- *(77) Scan ExistingRDD[min_hour#20602,max_hour#20603]\n",
      "               :        :- *(78) Project [date_trunc(hour, time#19834, Some(Etc/UTC)) AS hour_cons#20613, 76 AS pickup_community_area#20614]\n",
      "               :        :  +- *(78) Generate explode(sequence(cast(min_hour#20611 as timestamp), cast(max_hour#20612 as timestamp), Some(INTERVAL '01' HOUR), Some(Etc/UTC))), false, [time#19834]\n",
      "               :        :     +- *(78) Scan ExistingRDD[min_hour#20611,max_hour#20612]\n",
      "               :        +- *(79) Project [date_trunc(hour, time#19834, Some(Etc/UTC)) AS hour_cons#20622, 77 AS pickup_community_area#20623]\n",
      "               :           +- *(79) Generate explode(sequence(cast(min_hour#20620 as timestamp), cast(max_hour#20621 as timestamp), Some(INTERVAL '01' HOUR), Some(Etc/UTC))), false, [time#19834]\n",
      "               :              +- *(79) Scan ExistingRDD[min_hour#20620,max_hour#20621]\n",
      "               +- *(81) Sort [pickup_community_area#5944 ASC NULLS FIRST, trip_start_timestamp#15726 ASC NULLS FIRST], false, 0\n",
      "                  +- *(81) Filter (isnotnull(trip_start_timestamp#15726) AND isnotnull(pickup_community_area#5944))\n",
      "                     +- InMemoryTableScan [pickup_community_area#5944, trip_start_timestamp#15726, trips_count#18923L, cost_median#18925, miles_median#18927, seconds_median#18929, taxi_countdist#18934L], [isnotnull(trip_start_timestamp#15726), isnotnull(pickup_community_area#5944)]\n",
      "                           +- InMemoryRelation [pickup_community_area#5944, trip_start_timestamp#15726, trips_count#18923L, cost_median#18925, miles_median#18927, seconds_median#18929, centroid_lat_median#18931, centroid_long_median#18933, taxi_countdist#18934L], StorageLevel(disk, memory, deserialized, 1 replicas)\n",
      "                                 +- ObjectHashAggregate(keys=[pickup_community_area#5944, trip_start_timestamp#15726], functions=[count(trip_id#1147), percentile(trip_total#1483, 0.5, 1, 0, 0, false), percentile(trip_miles#1267, 0.5, 1, 0, 0, false), percentile(trip_seconds#1243, 0.5, 1, 0, 0, false), percentile(pickup_centroid_latitude#1555, 0.5, 1, 0, 0, false), percentile(pickup_centroid_longitude#1579, 0.5, 1, 0, 0, false), count(distinct taxi_id#1171)])\n",
      "                                    +- Exchange hashpartitioning(pickup_community_area#5944, trip_start_timestamp#15726, 200), ENSURE_REQUIREMENTS, [plan_id=5981]\n",
      "                                       +- ObjectHashAggregate(keys=[pickup_community_area#5944, trip_start_timestamp#15726], functions=[merge_count(trip_id#1147), merge_percentile(trip_total#1483, 0.5, 1, 0, 0, false), merge_percentile(trip_miles#1267, 0.5, 1, 0, 0, false), merge_percentile(trip_seconds#1243, 0.5, 1, 0, 0, false), merge_percentile(pickup_centroid_latitude#1555, 0.5, 1, 0, 0, false), merge_percentile(pickup_centroid_longitude#1579, 0.5, 1, 0, 0, false), partial_count(distinct taxi_id#1171)])\n",
      "                                          +- ObjectHashAggregate(keys=[pickup_community_area#5944, trip_start_timestamp#15726, taxi_id#1171], functions=[merge_count(trip_id#1147), merge_percentile(trip_total#1483, 0.5, 1, 0, 0, false), merge_percentile(trip_miles#1267, 0.5, 1, 0, 0, false), merge_percentile(trip_seconds#1243, 0.5, 1, 0, 0, false), merge_percentile(pickup_centroid_latitude#1555, 0.5, 1, 0, 0, false), merge_percentile(pickup_centroid_longitude#1579, 0.5, 1, 0, 0, false)])\n",
      "                                             +- Exchange hashpartitioning(pickup_community_area#5944, trip_start_timestamp#15726, taxi_id#1171, 200), ENSURE_REQUIREMENTS, [plan_id=5978]\n",
      "                                                +- ObjectHashAggregate(keys=[pickup_community_area#5944, trip_start_timestamp#15726, taxi_id#1171], functions=[partial_count(trip_id#1147), partial_percentile(trip_total#1483, 0.5, 1, 0, 0, false), partial_percentile(trip_miles#1267, 0.5, 1, 0, 0, false), partial_percentile(trip_seconds#1243, 0.5, 1, 0, 0, false), partial_percentile(pickup_centroid_latitude#1555, 0.5, 1, 0, 0, false), partial_percentile(pickup_centroid_longitude#1579, 0.5, 1, 0, 0, false)])\n",
      "                                                   +- *(1) Project [Trip ID#17 AS trip_id#1147, Taxi ID#18 AS taxi_id#1171, date_trunc(hour, gettimestamp(Trip Start Timestamp#19, MM/dd/yyyy hh:mm:ss a, TimestampType, Some(Etc/UTC), false), Some(Etc/UTC)) AS trip_start_timestamp#15726, Trip Seconds#21 AS trip_seconds#1243, Trip Miles#22 AS trip_miles#1267, coalesce(Pickup Community Area#25, 0) AS pickup_community_area#5944, Trip Total#31 AS trip_total#1483, Pickup Centroid Latitude#34 AS pickup_centroid_latitude#1555, Pickup Centroid Longitude#35 AS pickup_centroid_longitude#1579]\n",
      "                                                      +- *(1) Filter (((Trip Seconds#21 <= 4190) OR (Trip Miles#22 <= 24.7)) OR (Trip Total#31 <= 91.75))\n",
      "                                                         +- InMemoryTableScan [Pickup Centroid Latitude#34, Pickup Centroid Longitude#35, Pickup Community Area#25, Taxi ID#18, Trip ID#17, Trip Miles#22, Trip Seconds#21, Trip Start Timestamp#19, Trip Total#31], [(((Trip Seconds#21 <= 4190) OR (Trip Miles#22 <= 24.7)) OR (Trip Total#31 <= 91.75))]\n",
      "                                                               +- InMemoryRelation [Trip ID#17, Taxi ID#18, Trip Start Timestamp#19, Trip End Timestamp#20, Trip Seconds#21, Trip Miles#22, Pickup Census Tract#23L, Dropoff Census Tract#24L, Pickup Community Area#25, Dropoff Community Area#26, Fare#27, Tips#28, Tolls#29, Extras#30, Trip Total#31, Payment Type#32, Company#33, Pickup Centroid Latitude#34, Pickup Centroid Longitude#35, Pickup Centroid Location#36, Dropoff Centroid Latitude#37, Dropoff Centroid Longitude#38, Dropoff Centroid  Location#39], StorageLevel(disk, memory, deserialized, 1 replicas)\n",
      "                                                                     +- Union\n",
      "                                                                        :- FileScan csv [Trip ID#17,Taxi ID#18,Trip Start Timestamp#19,Trip End Timestamp#20,Trip Seconds#21,Trip Miles#22,Pickup Census Tract#23L,Dropoff Census Tract#24L,Pickup Community Area#25,Dropoff Community Area#26,Fare#27,Tips#28,Tolls#29,Extras#30,Trip Total#31,Payment Type#32,Company#33,Pickup Centroid Latitude#34,Pickup Centroid Longitude#35,Pickup Centroid Location#36,Dropoff Centroid Latitude#37,Dropoff Centroid Longitude#38,Dropoff Centroid  Location#39] Batched: false, DataFilters: [], Format: CSV, Location: InMemoryFileIndex(1 paths)[file:/work/Taxi_Trips_-_2022.csv], PartitionFilters: [], PushedFilters: [], ReadSchema: struct<Trip ID:string,Taxi ID:string,Trip Start Timestamp:string,Trip End Timestamp:string,Trip S...\n",
      "                                                                        +- *(1) Filter (gettimestamp(Trip Start Timestamp#199, MM/dd/yyyy hh:mm:ss a, TimestampType, Some(Etc/UTC), false) < 2023-07-31 23:00:00)\n",
      "                                                                           +- FileScan csv [Trip ID#197,Taxi ID#198,Trip Start Timestamp#199,Trip End Timestamp#200,Trip Seconds#201,Trip Miles#202,Pickup Census Tract#203L,Dropoff Census Tract#204L,Pickup Community Area#205,Dropoff Community Area#206,Fare#207,Tips#208,Tolls#209,Extras#210,Trip Total#211,Payment Type#212,Company#213,Pickup Centroid Latitude#214,Pickup Centroid Longitude#215,Pickup Centroid Location#216,Dropoff Centroid Latitude#217,Dropoff Centroid Longitude#218,Dropoff Centroid  Location#219] Batched: false, DataFilters: [(gettimestamp(Trip Start Timestamp#199, MM/dd/yyyy hh:mm:ss a, TimestampType, Some(Etc/UTC), fal..., Format: CSV, Location: InMemoryFileIndex(1 paths)[file:/work/Taxi_Trips_-_2023.csv], PartitionFilters: [], PushedFilters: [], ReadSchema: struct<Trip ID:string,Taxi ID:string,Trip Start Timestamp:string,Trip End Timestamp:string,Trip S...\n",
      "\n",
      "\n"
     ]
    }
   ],
   "source": [
    "all_hours.explain()"
   ]
  },
  {
   "cell_type": "code",
   "execution_count": 62,
   "id": "b1af1e59-e7c8-46f0-abb6-7d6aa30bc5cf",
   "metadata": {
    "scrolled": true
   },
   "outputs": [
    {
     "name": "stderr",
     "output_type": "stream",
     "text": [
      "/usr/local/spark/python/pyspark/sql/pandas/conversion.py:251: FutureWarning: Passing unit-less datetime64 dtype to .astype is deprecated and will raise in a future version. Pass 'datetime64[ns]' instead\n",
      "  series = series.astype(t, copy=False)\n"
     ]
    }
   ],
   "source": [
    "all_hours.toPandas().to_csv('all_hours.csv')\n",
    "#all_hours.repartition(1).write.mode('overwrite').csv(\"all_hours\")"
   ]
  },
  {
   "cell_type": "markdown",
   "id": "09524275-0ae1-4acd-86b0-17995dee2ab6",
   "metadata": {},
   "source": [
    "### Итог первого этапа\n",
    "    составили сгруппированные данные по району и времени. \n",
    "    Восстановили полную временную шкалу.\n",
    "    Выделили целевой признак trips_count\n",
    "    промежуточный датасэт -  all_hours"
   ]
  }
 ],
 "metadata": {
  "kernelspec": {
   "display_name": "Python 3 (ipykernel)",
   "language": "python",
   "name": "python3"
  },
  "language_info": {
   "codemirror_mode": {
    "name": "ipython",
    "version": 3
   },
   "file_extension": ".py",
   "mimetype": "text/x-python",
   "name": "python",
   "nbconvert_exporter": "python",
   "pygments_lexer": "ipython3",
   "version": "3.11.5"
  }
 },
 "nbformat": 4,
 "nbformat_minor": 5
}
